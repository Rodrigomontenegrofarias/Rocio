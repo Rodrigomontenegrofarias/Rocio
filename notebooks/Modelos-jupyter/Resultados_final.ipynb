{
  "nbformat": 4,
  "nbformat_minor": 0,
  "metadata": {
    "colab": {
      "name": "Resultados-final.ipynb",
      "provenance": [],
      "collapsed_sections": [
        "mF8wcxkrrOEE",
        "2fPwNQr-UBj6",
        "h9KOMnmtUCD9",
        "G0SkcXd6UCX_"
      ]
    },
    "kernelspec": {
      "name": "python3",
      "display_name": "Python 3"
    },
    "language_info": {
      "name": "python"
    }
  },
  "cells": [
    {
      "cell_type": "code",
      "execution_count": null,
      "metadata": {
        "id": "AhHg_HE4jRWW"
      },
      "outputs": [],
      "source": [
        "\n",
        "\n",
        "\n",
        "# ingresos de bases de datos guarddadas mediante git"
      ]
    },
    {
      "cell_type": "markdown",
      "source": [
        "# Ingreso de bases de datos y coneccion a drive."
      ],
      "metadata": {
        "id": "qVD_3OkAFqJO"
      }
    },
    {
      "cell_type": "code",
      "source": [
        "!git clone https://github.com/Rodrigomontenegrofarias/Rodrigomontenegrofarias.git"
      ],
      "metadata": {
        "colab": {
          "base_uri": "https://localhost:8080/"
        },
        "id": "FlzdTbHej-9b",
        "outputId": "e624c227-4b71-4ad1-ed34-2c027fa45e4a"
      },
      "execution_count": null,
      "outputs": [
        {
          "output_type": "stream",
          "name": "stdout",
          "text": [
            "fatal: destination path 'Rodrigomontenegrofarias' already exists and is not an empty directory.\n"
          ]
        }
      ]
    },
    {
      "cell_type": "code",
      "source": [
        " #Conexion mediante drive\n",
        "from google.colab import drive\n",
        "drive.mount('/content/drive')"
      ],
      "metadata": {
        "colab": {
          "base_uri": "https://localhost:8080/"
        },
        "id": "fdpeVlEcmi3h",
        "outputId": "2ff0cc91-264d-4b75-b75e-c49edc0768d0"
      },
      "execution_count": null,
      "outputs": [
        {
          "output_type": "stream",
          "name": "stdout",
          "text": [
            "Drive already mounted at /content/drive; to attempt to forcibly remount, call drive.mount(\"/content/drive\", force_remount=True).\n"
          ]
        }
      ]
    },
    {
      "cell_type": "code",
      "source": [
        "#cargamos librerias\n",
        "import pandas as pd\n",
        "import numpy as np\n",
        "#graficas\n",
        "import matplotlib.pylab as plt\n",
        "%matplotlib inline\n",
        "plt.rcParams['figure.figsize'] = (16,9)\n",
        "plt.style.use('fast')\n",
        "#ver redes neuronales\n",
        "from keras.models import Sequential\n",
        "from keras.layers import Dense,Activation,Flatten\n",
        "#sklear para ver modelos machine learning\n",
        "from sklearn.preprocessing import MinMaxScaler\n",
        "%matplotlib inline\n",
        "\n",
        "import matplotlib.pyplot as plt\n",
        "# plt.xkcd()\n",
        "# plt.style.use('ggplot')\n",
        "%matplotlib inline\n",
        "\n",
        "import matplotlib as mpl\n",
        "mpl.rcParams['figure.figsize'] = (20, 8)"
      ],
      "metadata": {
        "id": "4anOGL76mcpV"
      },
      "execution_count": null,
      "outputs": []
    },
    {
      "cell_type": "code",
      "source": [
        "# solo el primer se encuentra en kl/h se debe cambiar a m/S\n",
        "\n",
        "##Imprlementar desde github:\n",
        "\n",
        "datos1=pd.read_csv('/content/Rodrigomontenegrofarias/Prueba1.0.csv',decimal=\",\", encoding='utf-8',sep=u',')\n",
        "datos2=pd.read_csv('/content/Rodrigomontenegrofarias/Prueba2.0.csv',decimal=\",\",sep=u',', encoding='utf-8', dayfirst=True)\n",
        "datos3=pd.read_csv('/content/Rodrigomontenegrofarias/Prueba3.0.csv',decimal=\",\",sep=u',', encoding='utf-8', dayfirst=True)\n",
        "datos4=pd.read_csv('/content/Rodrigomontenegrofarias/Prueba4.0.csv',decimal=\",\",sep=u',', encoding='utf-8', dayfirst=True)\n",
        "datos5=pd.read_csv('/content/Rodrigomontenegrofarias/Prueba5.0.csv',decimal=\",\",sep=u',', encoding='utf-8', dayfirst=True)\n",
        "datos6=pd.read_csv('/content/Rodrigomontenegrofarias/Prueba6.0.csv',decimal=\",\",sep=u',', encoding='utf-8', dayfirst=True)\n",
        "datos7=pd.read_csv('/content/Rodrigomontenegrofarias/Prueba7.0.csv',decimal=\",\",sep=u',', encoding='utf-8',  dayfirst=True)\n",
        "datos8=pd.read_csv('/content/Rodrigomontenegrofarias/Prueba8.0.csv',decimal=\",\",sep=u',', encoding='utf-8', dayfirst=True)\n",
        "datos9=pd.read_csv('/content/Rodrigomontenegrofarias/Prueba9.0.csv',decimal=\",\",sep=u',', encoding='utf-8', dayfirst=True)\n",
        "datos10=pd.read_csv('/content/Rodrigomontenegrofarias/Prueba10.0.csv',decimal=\",\",sep=u',', encoding='utf-8',dayfirst=True)\n",
        "datos11=pd.read_csv('/content/Rodrigomontenegrofarias/Prueba11.0.csv',decimal=\",\",sep=u',', encoding='utf-8',  dayfirst=True)\n",
        "datos12=pd.read_csv('/content/Rodrigomontenegrofarias/Prueba12.0.csv',decimal=\",\",sep=u',', encoding='utf-8', dayfirst=True)\n",
        "datos13=pd.read_csv('/content/Rodrigomontenegrofarias/Prueba13.0.csv',decimal=\",\",sep=u',', encoding='utf-8',  dayfirst=True)\n",
        "datos14=pd.read_csv('/content/Rodrigomontenegrofarias/Prueba14.0.csv',decimal=\",\",sep=u',', encoding='utf-8',  dayfirst=True)\n",
        "datos15=pd.read_csv('/content/Rodrigomontenegrofarias/Prueba15.0.csv',decimal=\",\",sep=u',', encoding='utf-8',  dayfirst=True)\n",
        "datos16=pd.read_csv('/content/Rodrigomontenegrofarias/Prueba16.0.csv',decimal=\",\",sep=u',', encoding='utf-8',  dayfirst=True)\n",
        "datos17=pd.read_csv('/content/Rodrigomontenegrofarias/Prueba17.0.csv',decimal=\",\",sep=u',', encoding='utf-8',  dayfirst=True)\n",
        "datos18=pd.read_csv('/content/Rodrigomontenegrofarias/Prueba18.0.csv',decimal=\",\",sep=u',', encoding='utf-8', dayfirst=True)\n",
        "datos19=pd.read_csv('/content/Rodrigomontenegrofarias/Prueba19.0.csv',decimal=\",\",sep=u',', encoding='utf-8',  dayfirst=True)\n",
        "datos20=pd.read_csv('/content/Rodrigomontenegrofarias/Prueba20.0.csv',decimal=\",\",sep=u',', encoding='utf-8', dayfirst=True)\n",
        "#Fecha\n",
        "#datos1 = datos1.rename(columns={'Gust(km/h)':'Gust(m/s)'})\n",
        "#datos1 = datos1.rename(columns={'Wind Speed(km/h)':'Wind Speed(m/s)'})\n",
        "\n",
        "\n",
        "#df.columns\n",
        "#Gust(km/h)\n",
        " \n",
        "datos1"
      ],
      "metadata": {
        "colab": {
          "base_uri": "https://localhost:8080/",
          "height": 204
        },
        "id": "W_7r1YKEkX3y",
        "outputId": "67a7e16b-cb75-4a7c-c4d9-95db0b3e880f"
      },
      "execution_count": null,
      "outputs": [
        {
          "output_type": "execute_result",
          "data": {
            "text/plain": [
              "   Unnamed: 0 Pruebas      coef(a)_6am-MLP    rsquared_6am-MLP  \\\n",
              "0           0     1.0  0.31308803727339085  0.3331686054504356   \n",
              "\n",
              "  Standard Error_6am-MLP       coef(b)_6am-MLP coef(a)_Acu-6am-MLP  \\\n",
              "0     0.0401016801590803  0.012733320829028595  0.7455223960773738   \n",
              "\n",
              "  rsquared_Acu-6am-MLP Standard Error_Acu-6am-MLP   coef(b)_Acu-6am-MLP  ...  \\\n",
              "0   0.9791068388472847       0.009859793402742867  -0.06931215010427123  ...   \n",
              "\n",
              "  Standard Error_Acu-Beysens-PM coef(b)_Acu-Beysens-PM      coef(a)_MLP-PM  \\\n",
              "0           0.00516263916129549   0.035613286904677056  0.5169238192259427   \n",
              "\n",
              "       rsquared_MLP-PM Standard Error_MLP-PM       coef(b)_MLP-PM  \\\n",
              "0  0.40248608726952895   0.05702235927795981  0.02296527727536855   \n",
              "\n",
              "   coef(a)_Acu-MLP-PM rsquared_Acu-MLP-PM Standard Error_Acu-MLP-PM  \\\n",
              "0  1.4720847572545706  0.9827202757276289       0.01767283999605268   \n",
              "\n",
              "    coef(b)_Acu-MLP-PM  \n",
              "0  -0.5047387998429296  \n",
              "\n",
              "[1 rows x 34 columns]"
            ],
            "text/html": [
              "\n",
              "  <div id=\"df-ea02f724-56f8-4155-9b2a-b134dc62ef9f\">\n",
              "    <div class=\"colab-df-container\">\n",
              "      <div>\n",
              "<style scoped>\n",
              "    .dataframe tbody tr th:only-of-type {\n",
              "        vertical-align: middle;\n",
              "    }\n",
              "\n",
              "    .dataframe tbody tr th {\n",
              "        vertical-align: top;\n",
              "    }\n",
              "\n",
              "    .dataframe thead th {\n",
              "        text-align: right;\n",
              "    }\n",
              "</style>\n",
              "<table border=\"1\" class=\"dataframe\">\n",
              "  <thead>\n",
              "    <tr style=\"text-align: right;\">\n",
              "      <th></th>\n",
              "      <th>Unnamed: 0</th>\n",
              "      <th>Pruebas</th>\n",
              "      <th>coef(a)_6am-MLP</th>\n",
              "      <th>rsquared_6am-MLP</th>\n",
              "      <th>Standard Error_6am-MLP</th>\n",
              "      <th>coef(b)_6am-MLP</th>\n",
              "      <th>coef(a)_Acu-6am-MLP</th>\n",
              "      <th>rsquared_Acu-6am-MLP</th>\n",
              "      <th>Standard Error_Acu-6am-MLP</th>\n",
              "      <th>coef(b)_Acu-6am-MLP</th>\n",
              "      <th>...</th>\n",
              "      <th>Standard Error_Acu-Beysens-PM</th>\n",
              "      <th>coef(b)_Acu-Beysens-PM</th>\n",
              "      <th>coef(a)_MLP-PM</th>\n",
              "      <th>rsquared_MLP-PM</th>\n",
              "      <th>Standard Error_MLP-PM</th>\n",
              "      <th>coef(b)_MLP-PM</th>\n",
              "      <th>coef(a)_Acu-MLP-PM</th>\n",
              "      <th>rsquared_Acu-MLP-PM</th>\n",
              "      <th>Standard Error_Acu-MLP-PM</th>\n",
              "      <th>coef(b)_Acu-MLP-PM</th>\n",
              "    </tr>\n",
              "  </thead>\n",
              "  <tbody>\n",
              "    <tr>\n",
              "      <th>0</th>\n",
              "      <td>0</td>\n",
              "      <td>1.0</td>\n",
              "      <td>0.31308803727339085</td>\n",
              "      <td>0.3331686054504356</td>\n",
              "      <td>0.0401016801590803</td>\n",
              "      <td>0.012733320829028595</td>\n",
              "      <td>0.7455223960773738</td>\n",
              "      <td>0.9791068388472847</td>\n",
              "      <td>0.009859793402742867</td>\n",
              "      <td>-0.06931215010427123</td>\n",
              "      <td>...</td>\n",
              "      <td>0.00516263916129549</td>\n",
              "      <td>0.035613286904677056</td>\n",
              "      <td>0.5169238192259427</td>\n",
              "      <td>0.40248608726952895</td>\n",
              "      <td>0.05702235927795981</td>\n",
              "      <td>0.02296527727536855</td>\n",
              "      <td>1.4720847572545706</td>\n",
              "      <td>0.9827202757276289</td>\n",
              "      <td>0.01767283999605268</td>\n",
              "      <td>-0.5047387998429296</td>\n",
              "    </tr>\n",
              "  </tbody>\n",
              "</table>\n",
              "<p>1 rows × 34 columns</p>\n",
              "</div>\n",
              "      <button class=\"colab-df-convert\" onclick=\"convertToInteractive('df-ea02f724-56f8-4155-9b2a-b134dc62ef9f')\"\n",
              "              title=\"Convert this dataframe to an interactive table.\"\n",
              "              style=\"display:none;\">\n",
              "        \n",
              "  <svg xmlns=\"http://www.w3.org/2000/svg\" height=\"24px\"viewBox=\"0 0 24 24\"\n",
              "       width=\"24px\">\n",
              "    <path d=\"M0 0h24v24H0V0z\" fill=\"none\"/>\n",
              "    <path d=\"M18.56 5.44l.94 2.06.94-2.06 2.06-.94-2.06-.94-.94-2.06-.94 2.06-2.06.94zm-11 1L8.5 8.5l.94-2.06 2.06-.94-2.06-.94L8.5 2.5l-.94 2.06-2.06.94zm10 10l.94 2.06.94-2.06 2.06-.94-2.06-.94-.94-2.06-.94 2.06-2.06.94z\"/><path d=\"M17.41 7.96l-1.37-1.37c-.4-.4-.92-.59-1.43-.59-.52 0-1.04.2-1.43.59L10.3 9.45l-7.72 7.72c-.78.78-.78 2.05 0 2.83L4 21.41c.39.39.9.59 1.41.59.51 0 1.02-.2 1.41-.59l7.78-7.78 2.81-2.81c.8-.78.8-2.07 0-2.86zM5.41 20L4 18.59l7.72-7.72 1.47 1.35L5.41 20z\"/>\n",
              "  </svg>\n",
              "      </button>\n",
              "      \n",
              "  <style>\n",
              "    .colab-df-container {\n",
              "      display:flex;\n",
              "      flex-wrap:wrap;\n",
              "      gap: 12px;\n",
              "    }\n",
              "\n",
              "    .colab-df-convert {\n",
              "      background-color: #E8F0FE;\n",
              "      border: none;\n",
              "      border-radius: 50%;\n",
              "      cursor: pointer;\n",
              "      display: none;\n",
              "      fill: #1967D2;\n",
              "      height: 32px;\n",
              "      padding: 0 0 0 0;\n",
              "      width: 32px;\n",
              "    }\n",
              "\n",
              "    .colab-df-convert:hover {\n",
              "      background-color: #E2EBFA;\n",
              "      box-shadow: 0px 1px 2px rgba(60, 64, 67, 0.3), 0px 1px 3px 1px rgba(60, 64, 67, 0.15);\n",
              "      fill: #174EA6;\n",
              "    }\n",
              "\n",
              "    [theme=dark] .colab-df-convert {\n",
              "      background-color: #3B4455;\n",
              "      fill: #D2E3FC;\n",
              "    }\n",
              "\n",
              "    [theme=dark] .colab-df-convert:hover {\n",
              "      background-color: #434B5C;\n",
              "      box-shadow: 0px 1px 3px 1px rgba(0, 0, 0, 0.15);\n",
              "      filter: drop-shadow(0px 1px 2px rgba(0, 0, 0, 0.3));\n",
              "      fill: #FFFFFF;\n",
              "    }\n",
              "  </style>\n",
              "\n",
              "      <script>\n",
              "        const buttonEl =\n",
              "          document.querySelector('#df-ea02f724-56f8-4155-9b2a-b134dc62ef9f button.colab-df-convert');\n",
              "        buttonEl.style.display =\n",
              "          google.colab.kernel.accessAllowed ? 'block' : 'none';\n",
              "\n",
              "        async function convertToInteractive(key) {\n",
              "          const element = document.querySelector('#df-ea02f724-56f8-4155-9b2a-b134dc62ef9f');\n",
              "          const dataTable =\n",
              "            await google.colab.kernel.invokeFunction('convertToInteractive',\n",
              "                                                     [key], {});\n",
              "          if (!dataTable) return;\n",
              "\n",
              "          const docLinkHtml = 'Like what you see? Visit the ' +\n",
              "            '<a target=\"_blank\" href=https://colab.research.google.com/notebooks/data_table.ipynb>data table notebook</a>'\n",
              "            + ' to learn more about interactive tables.';\n",
              "          element.innerHTML = '';\n",
              "          dataTable['output_type'] = 'display_data';\n",
              "          await google.colab.output.renderOutput(dataTable, element);\n",
              "          const docLink = document.createElement('div');\n",
              "          docLink.innerHTML = docLinkHtml;\n",
              "          element.appendChild(docLink);\n",
              "        }\n",
              "      </script>\n",
              "    </div>\n",
              "  </div>\n",
              "  "
            ]
          },
          "metadata": {},
          "execution_count": 75
        }
      ]
    },
    {
      "cell_type": "code",
      "source": [
        "datos1"
      ],
      "metadata": {
        "colab": {
          "base_uri": "https://localhost:8080/",
          "height": 204
        },
        "id": "byAihJjFoIOP",
        "outputId": "682f8351-37b8-49f3-f4b4-a414be020f45"
      },
      "execution_count": null,
      "outputs": [
        {
          "output_type": "execute_result",
          "data": {
            "text/plain": [
              "   Unnamed: 0 Pruebas      coef(a)_6am-MLP    rsquared_6am-MLP  \\\n",
              "0           0     1.0  0.31308803727339085  0.3331686054504356   \n",
              "\n",
              "  Standard Error_6am-MLP       coef(b)_6am-MLP coef(a)_Acu-6am-MLP  \\\n",
              "0     0.0401016801590803  0.012733320829028595  0.7455223960773738   \n",
              "\n",
              "  rsquared_Acu-6am-MLP Standard Error_Acu-6am-MLP   coef(b)_Acu-6am-MLP  ...  \\\n",
              "0   0.9791068388472847       0.009859793402742867  -0.06931215010427123  ...   \n",
              "\n",
              "  Standard Error_Acu-Beysens-PM coef(b)_Acu-Beysens-PM      coef(a)_MLP-PM  \\\n",
              "0           0.00516263916129549   0.035613286904677056  0.5169238192259427   \n",
              "\n",
              "       rsquared_MLP-PM Standard Error_MLP-PM       coef(b)_MLP-PM  \\\n",
              "0  0.40248608726952895   0.05702235927795981  0.02296527727536855   \n",
              "\n",
              "   coef(a)_Acu-MLP-PM rsquared_Acu-MLP-PM Standard Error_Acu-MLP-PM  \\\n",
              "0  1.4720847572545706  0.9827202757276289       0.01767283999605268   \n",
              "\n",
              "    coef(b)_Acu-MLP-PM  \n",
              "0  -0.5047387998429296  \n",
              "\n",
              "[1 rows x 34 columns]"
            ],
            "text/html": [
              "\n",
              "  <div id=\"df-0463fef7-16ab-427b-b783-fde6e24a4ef3\">\n",
              "    <div class=\"colab-df-container\">\n",
              "      <div>\n",
              "<style scoped>\n",
              "    .dataframe tbody tr th:only-of-type {\n",
              "        vertical-align: middle;\n",
              "    }\n",
              "\n",
              "    .dataframe tbody tr th {\n",
              "        vertical-align: top;\n",
              "    }\n",
              "\n",
              "    .dataframe thead th {\n",
              "        text-align: right;\n",
              "    }\n",
              "</style>\n",
              "<table border=\"1\" class=\"dataframe\">\n",
              "  <thead>\n",
              "    <tr style=\"text-align: right;\">\n",
              "      <th></th>\n",
              "      <th>Unnamed: 0</th>\n",
              "      <th>Pruebas</th>\n",
              "      <th>coef(a)_6am-MLP</th>\n",
              "      <th>rsquared_6am-MLP</th>\n",
              "      <th>Standard Error_6am-MLP</th>\n",
              "      <th>coef(b)_6am-MLP</th>\n",
              "      <th>coef(a)_Acu-6am-MLP</th>\n",
              "      <th>rsquared_Acu-6am-MLP</th>\n",
              "      <th>Standard Error_Acu-6am-MLP</th>\n",
              "      <th>coef(b)_Acu-6am-MLP</th>\n",
              "      <th>...</th>\n",
              "      <th>Standard Error_Acu-Beysens-PM</th>\n",
              "      <th>coef(b)_Acu-Beysens-PM</th>\n",
              "      <th>coef(a)_MLP-PM</th>\n",
              "      <th>rsquared_MLP-PM</th>\n",
              "      <th>Standard Error_MLP-PM</th>\n",
              "      <th>coef(b)_MLP-PM</th>\n",
              "      <th>coef(a)_Acu-MLP-PM</th>\n",
              "      <th>rsquared_Acu-MLP-PM</th>\n",
              "      <th>Standard Error_Acu-MLP-PM</th>\n",
              "      <th>coef(b)_Acu-MLP-PM</th>\n",
              "    </tr>\n",
              "  </thead>\n",
              "  <tbody>\n",
              "    <tr>\n",
              "      <th>0</th>\n",
              "      <td>0</td>\n",
              "      <td>1.0</td>\n",
              "      <td>0.31308803727339085</td>\n",
              "      <td>0.3331686054504356</td>\n",
              "      <td>0.0401016801590803</td>\n",
              "      <td>0.012733320829028595</td>\n",
              "      <td>0.7455223960773738</td>\n",
              "      <td>0.9791068388472847</td>\n",
              "      <td>0.009859793402742867</td>\n",
              "      <td>-0.06931215010427123</td>\n",
              "      <td>...</td>\n",
              "      <td>0.00516263916129549</td>\n",
              "      <td>0.035613286904677056</td>\n",
              "      <td>0.5169238192259427</td>\n",
              "      <td>0.40248608726952895</td>\n",
              "      <td>0.05702235927795981</td>\n",
              "      <td>0.02296527727536855</td>\n",
              "      <td>1.4720847572545706</td>\n",
              "      <td>0.9827202757276289</td>\n",
              "      <td>0.01767283999605268</td>\n",
              "      <td>-0.5047387998429296</td>\n",
              "    </tr>\n",
              "  </tbody>\n",
              "</table>\n",
              "<p>1 rows × 34 columns</p>\n",
              "</div>\n",
              "      <button class=\"colab-df-convert\" onclick=\"convertToInteractive('df-0463fef7-16ab-427b-b783-fde6e24a4ef3')\"\n",
              "              title=\"Convert this dataframe to an interactive table.\"\n",
              "              style=\"display:none;\">\n",
              "        \n",
              "  <svg xmlns=\"http://www.w3.org/2000/svg\" height=\"24px\"viewBox=\"0 0 24 24\"\n",
              "       width=\"24px\">\n",
              "    <path d=\"M0 0h24v24H0V0z\" fill=\"none\"/>\n",
              "    <path d=\"M18.56 5.44l.94 2.06.94-2.06 2.06-.94-2.06-.94-.94-2.06-.94 2.06-2.06.94zm-11 1L8.5 8.5l.94-2.06 2.06-.94-2.06-.94L8.5 2.5l-.94 2.06-2.06.94zm10 10l.94 2.06.94-2.06 2.06-.94-2.06-.94-.94-2.06-.94 2.06-2.06.94z\"/><path d=\"M17.41 7.96l-1.37-1.37c-.4-.4-.92-.59-1.43-.59-.52 0-1.04.2-1.43.59L10.3 9.45l-7.72 7.72c-.78.78-.78 2.05 0 2.83L4 21.41c.39.39.9.59 1.41.59.51 0 1.02-.2 1.41-.59l7.78-7.78 2.81-2.81c.8-.78.8-2.07 0-2.86zM5.41 20L4 18.59l7.72-7.72 1.47 1.35L5.41 20z\"/>\n",
              "  </svg>\n",
              "      </button>\n",
              "      \n",
              "  <style>\n",
              "    .colab-df-container {\n",
              "      display:flex;\n",
              "      flex-wrap:wrap;\n",
              "      gap: 12px;\n",
              "    }\n",
              "\n",
              "    .colab-df-convert {\n",
              "      background-color: #E8F0FE;\n",
              "      border: none;\n",
              "      border-radius: 50%;\n",
              "      cursor: pointer;\n",
              "      display: none;\n",
              "      fill: #1967D2;\n",
              "      height: 32px;\n",
              "      padding: 0 0 0 0;\n",
              "      width: 32px;\n",
              "    }\n",
              "\n",
              "    .colab-df-convert:hover {\n",
              "      background-color: #E2EBFA;\n",
              "      box-shadow: 0px 1px 2px rgba(60, 64, 67, 0.3), 0px 1px 3px 1px rgba(60, 64, 67, 0.15);\n",
              "      fill: #174EA6;\n",
              "    }\n",
              "\n",
              "    [theme=dark] .colab-df-convert {\n",
              "      background-color: #3B4455;\n",
              "      fill: #D2E3FC;\n",
              "    }\n",
              "\n",
              "    [theme=dark] .colab-df-convert:hover {\n",
              "      background-color: #434B5C;\n",
              "      box-shadow: 0px 1px 3px 1px rgba(0, 0, 0, 0.15);\n",
              "      filter: drop-shadow(0px 1px 2px rgba(0, 0, 0, 0.3));\n",
              "      fill: #FFFFFF;\n",
              "    }\n",
              "  </style>\n",
              "\n",
              "      <script>\n",
              "        const buttonEl =\n",
              "          document.querySelector('#df-0463fef7-16ab-427b-b783-fde6e24a4ef3 button.colab-df-convert');\n",
              "        buttonEl.style.display =\n",
              "          google.colab.kernel.accessAllowed ? 'block' : 'none';\n",
              "\n",
              "        async function convertToInteractive(key) {\n",
              "          const element = document.querySelector('#df-0463fef7-16ab-427b-b783-fde6e24a4ef3');\n",
              "          const dataTable =\n",
              "            await google.colab.kernel.invokeFunction('convertToInteractive',\n",
              "                                                     [key], {});\n",
              "          if (!dataTable) return;\n",
              "\n",
              "          const docLinkHtml = 'Like what you see? Visit the ' +\n",
              "            '<a target=\"_blank\" href=https://colab.research.google.com/notebooks/data_table.ipynb>data table notebook</a>'\n",
              "            + ' to learn more about interactive tables.';\n",
              "          element.innerHTML = '';\n",
              "          dataTable['output_type'] = 'display_data';\n",
              "          await google.colab.output.renderOutput(dataTable, element);\n",
              "          const docLink = document.createElement('div');\n",
              "          docLink.innerHTML = docLinkHtml;\n",
              "          element.appendChild(docLink);\n",
              "        }\n",
              "      </script>\n",
              "    </div>\n",
              "  </div>\n",
              "  "
            ]
          },
          "metadata": {},
          "execution_count": 76
        }
      ]
    },
    {
      "cell_type": "code",
      "source": [
        "datostotal = [datos1,datos2,datos3,datos4,datos5,datos6,datos7,datos8,datos9,datos10,datos11,datos12,datos13,datos14,datos15,datos16,datos17,datos18,datos19,datos20, ]\n",
        "#datostotal = [datos1,datos2,datos3,datos4,datos5,datos6,datos10,datos11,datos12,datos13,datos14,datos15,datos16,datos17,datos18,datos19,datos20, ]\n",
        "resultadoDatos= pd.concat(datostotal)"
      ],
      "metadata": {
        "id": "byO5akVLqfaZ"
      },
      "execution_count": null,
      "outputs": []
    },
    {
      "cell_type": "code",
      "source": [
        "resultadoDatos"
      ],
      "metadata": {
        "colab": {
          "base_uri": "https://localhost:8080/",
          "height": 765
        },
        "id": "_v5HqXv0q_qh",
        "outputId": "55e9959e-60ef-4800-9100-4d6f1dbcc571"
      },
      "execution_count": null,
      "outputs": [
        {
          "output_type": "execute_result",
          "data": {
            "text/plain": [
              "   Unnamed: 0 Pruebas      coef(a)_6am-MLP     rsquared_6am-MLP  \\\n",
              "0           0     1.0  0.31308803727339085   0.3331686054504356   \n",
              "0           0     2.0   0.3848851298116347  0.07381630370867287   \n",
              "0           0     3.0   0.7002121639555752   0.5216827313993018   \n",
              "0           0     4.0  0.42478369803310384   0.5626473482389169   \n",
              "0           0     5.0   0.4296042656017296  0.20173984292806857   \n",
              "0           0     6.0   0.7489676533922068   0.5426131968395358   \n",
              "0           0     7.0  0.46667878093189885   0.3142632626440989   \n",
              "0           0     8.0    0.437760539383256   0.2643992231467365   \n",
              "0           0     9.0  0.39390063330794506  0.16651062977946451   \n",
              "0           0    10.0  0.46708987237085914  0.39268626015598584   \n",
              "0           0    11.0  0.25445115389210804  0.13630636100905413   \n",
              "0           0    12.0   0.3421628984383864  0.33698282834149196   \n",
              "0           0    13.0   0.6307957375046586   0.3224267964051174   \n",
              "0           0    14.0  0.46343055608613043  0.29095721057638646   \n",
              "0           0    15.0   0.4330721603424114   0.4510504526899747   \n",
              "0           0    16.0  0.47373384162582616  0.45195994716128607   \n",
              "0           0    17.0  0.47798943140018957   0.3082293731652921   \n",
              "0           0    18.0   0.7194029969761618  0.43210755055033123   \n",
              "0           0    19.0   0.2775460435155994  0.22578387965921898   \n",
              "0           0    20.0   0.6760852931872088   0.5082257086462649   \n",
              "\n",
              "  Standard Error_6am-MLP       coef(b)_6am-MLP coef(a)_Acu-6am-MLP  \\\n",
              "0     0.0401016801590803  0.012733320829028595  0.7455223960773738   \n",
              "0    0.12343080528468561  0.023669841748787356   1.198879914421366   \n",
              "0    0.06070221519517972  0.008404027280125917  0.8351667237643019   \n",
              "0   0.033906710347009476   0.01325931710413885   0.799121256090052   \n",
              "0    0.07736865771314885  0.022091435484920225   1.158445448508508   \n",
              "0    0.06225579432347322  0.010082852087916925  1.2355978530291625   \n",
              "0    0.06241227849199327  0.022375961632093495   1.195361311633377   \n",
              "0    0.06610704248401403  0.016968562265487895  0.7685640303889951   \n",
              "0    0.07978768422148831  0.022768358602347334  1.2370824316674174   \n",
              "0    0.05259012907887567   0.02673287633961602  1.4914407981496263   \n",
              "0     0.0579890931019989  0.014119477652782712   0.627937891504242   \n",
              "0    0.04345217232746519  0.008653039396707956  0.6371401051645239   \n",
              "0    0.08278875887060892   0.02310993889927979  1.2271404392521295   \n",
              "0    0.06549775378287762  0.019406142542058982  1.2014668866376468   \n",
              "0    0.04325476953461103  0.014826711523140286  0.8410841222244749   \n",
              "0    0.04722920657659531   0.01079733359601756  0.7488454068075505   \n",
              "0    0.06483095617806689   0.02034738074014398  1.2104626610726048   \n",
              "0    0.07466713162412238  0.015510378336649876  1.2831785876051072   \n",
              "0    0.04653072458289932  0.017834386594798492  0.7094376296576353   \n",
              "0    0.06021104346823116  0.016547409539939432  1.1551213378245726   \n",
              "\n",
              "  rsquared_Acu-6am-MLP Standard Error_Acu-6am-MLP    coef(b)_Acu-6am-MLP  ...  \\\n",
              "0   0.9791068388472847       0.009859793402742867   -0.06931215010427123  ...   \n",
              "0   0.9081566028740408        0.03451750252989892    -0.2809303083603534  ...   \n",
              "0   0.9818279782513647       0.010286726397065992    0.42174206262576036  ...   \n",
              "0   0.9863736879194498       0.008503568119213515    -0.0528134787159216  ...   \n",
              "0   0.9242656820661893        0.03002227620737448     0.2541159172480594  ...   \n",
              "0   0.9685099383385198       0.020171209600559518   -0.19235532350850143  ...   \n",
              "0   0.9844410634767289       0.013605495811924164    -0.0852338573035431  ...   \n",
              "0   0.9625407107856573        0.01372683311828699     0.5546376291604866  ...   \n",
              "0   0.9542669928130638        0.02451876846318403   -0.22508567034059113  ...   \n",
              "0   0.9732079427452853       0.022404038634748026   -0.21839675796587812  ...   \n",
              "0   0.9632498930296568       0.011104438327445149     0.2010251814407184  ...   \n",
              "0   0.9914861469145082      0.0053453331361520496  0.0010747224937787958  ...   \n",
              "0    0.971278020792224        0.01910511924784986     0.5340769009228374  ...   \n",
              "0   0.9882609713884727       0.011855289086710722   -0.14281162953103252  ...   \n",
              "0    0.985356185618925       0.009283035334905211    0.39869290521369544  ...   \n",
              "0   0.9821120216093255       0.009149816268009836    0.14776024142105676  ...   \n",
              "0   0.9770122395929568       0.016810081192020845  -0.026044401984534706  ...   \n",
              "0   0.9797195384107654       0.016714570523332146    0.33077033038618214  ...   \n",
              "0   0.9834730684791746       0.008326244937860832     0.2833291767378928  ...   \n",
              "0   0.9818212097760717       0.014230297356992588     0.2391320773213625  ...   \n",
              "\n",
              "  Standard Error_Acu-Beysens-PM  coef(b)_Acu-Beysens-PM       coef(a)_MLP-PM  \\\n",
              "0           0.00516263916129549    0.035613286904677056   0.5169238192259427   \n",
              "0          0.002575460320423237     0.17762708242766478  0.24576106849908746   \n",
              "0          0.005044500186642591     0.04368723065344185   0.3383411295275826   \n",
              "0         0.0026848443052946242    -0.05178614592211955   0.5384401639425658   \n",
              "0          0.004779598700008863    -0.05555229817183934   0.2818200084032509   \n",
              "0          0.005013896944520109   -0.030162453306611398   0.4406048094958531   \n",
              "0          0.005125123019658115    -0.08128927236677982    0.227139660569259   \n",
              "0         0.0038940620623488507   -0.052412951746513524  0.31862721649560233   \n",
              "0          0.006609354363662432     0.10780430218843738   0.2767500285690684   \n",
              "0          0.009405283306602953  -0.0022503069158106084   0.5060781926464502   \n",
              "0         0.0010449931349528075   -0.026056622146340403   0.2611404330032648   \n",
              "0          0.005049784931949527     0.13743977355278736   0.2818715851077369   \n",
              "0          0.004735673750587108   -0.026818167972567378  0.30197476344060603   \n",
              "0          0.005959669410091187    -0.10092005792674794   0.2613558332370738   \n",
              "0          0.003963851582656289      0.0048124870755929   0.4075070287109439   \n",
              "0          0.007397481649231221      0.1489573990829159  0.20888132633404016   \n",
              "0          0.004737962599528334    -0.07008442710181165   0.2815489609301509   \n",
              "0          0.009471794801177588    -0.04388719608616527   0.3946590225698345   \n",
              "0          0.005405571799517828       0.173928835150046  0.27317425201845447   \n",
              "0          0.003082018105587368   -0.027265606515744625   0.2692063789552896   \n",
              "\n",
              "       rsquared_MLP-PM Standard Error_MLP-PM        coef(b)_MLP-PM  \\\n",
              "0  0.40248608726952895   0.05702235927795981   0.02296527727536855   \n",
              "0  0.16943133931548193    0.0492633663837274  0.018289037524023194   \n",
              "0   0.3404991709244578   0.04263089995968173   0.01581460172480245   \n",
              "0  0.28843779697026584   0.07656634036916433  0.016581486950739643   \n",
              "0  0.10858620546937636   0.07310452265532329   0.03763028944486872   \n",
              "0  0.38944390304822296  0.049947023889002955  0.015924744254539352   \n",
              "0   0.1138085017059387  0.057383808868571556   0.01675318962963496   \n",
              "0  0.22257411465955712   0.05391320518606187  0.024991897914179217   \n",
              "0  0.08140843239499818   0.08416554181429087  0.021417280552676707   \n",
              "0  0.13270661491225888    0.1171316959057813  0.033768980363154295   \n",
              "0  0.18563323855663472  0.049519505233694604  0.017606091278694874   \n",
              "0  0.08784764374818232   0.08223186805818024  0.020443330620650166   \n",
              "0  0.16261709566367666   0.06203970299122766  0.029334817801619402   \n",
              "0   0.2107277812660704   0.04579359813328846  0.014927007300989219   \n",
              "0  0.34668715926132754    0.0506462011734745   0.02052870294291215   \n",
              "0   0.1463744816307896  0.045668919909972246   0.01952252288170222   \n",
              "0   0.1697081937565772   0.05638166959766779  0.020378520787199057   \n",
              "0  0.26364591213763267   0.05971383347025869  0.020887527059927163   \n",
              "0  0.24824099494025254  0.043039022608682406  0.015226235129680445   \n",
              "0  0.20299076639003122   0.04829463709041691  0.018146785658969006   \n",
              "\n",
              "   coef(a)_Acu-MLP-PM rsquared_Acu-MLP-PM Standard Error_Acu-MLP-PM  \\\n",
              "0  1.4720847572545706  0.9827202757276289       0.01767283999605268   \n",
              "0  0.9406393994617493  0.9669201258793427       0.01575178862743934   \n",
              "0  0.8423534782507183  0.9892086873604164      0.007965400812279776   \n",
              "0   1.180817297114149   0.980733767773115      0.014983926045133454   \n",
              "0  1.5457043470045524  0.9567193691274599      0.029764666551769438   \n",
              "0  1.0929168105484797  0.9870649054708688      0.011327110554418344   \n",
              "0  0.8424300046119113   0.982127822024469       0.01028865595264223   \n",
              "0  1.0098065462167471  0.9805142133903028      0.012888141333695743   \n",
              "0  0.9965206317398723  0.9523920081823865      0.020171511503405157   \n",
              "0  1.7531361045417242  0.9487931161381853       0.03687348035202532   \n",
              "0  0.7722670573049073   0.966054882079079      0.013106156678779488   \n",
              "0   0.973679680520605  0.9875019218882017      0.009917194567348568   \n",
              "0   1.199048187576857  0.9618444803505598       0.02162135857135005   \n",
              "0  0.7490693206820451  0.9945099400562856      0.005038787865924649   \n",
              "0  1.0235622271400269  0.9873279936959322      0.010498477050418403   \n",
              "0  0.7988563550278343  0.9808821704217728      0.010097169611035094   \n",
              "0  0.9709940040745477  0.9915393000184374      0.008120538159763137   \n",
              "0  1.1476671086339252  0.9703972350304102      0.018147942003251732   \n",
              "0  0.6668925889942653  0.9840294788617591       0.00769186167996167   \n",
              "0  0.7775262409749157  0.9877742052652689      0.007831498164956591   \n",
              "\n",
              "      coef(b)_Acu-MLP-PM  \n",
              "0    -0.5047387998429296  \n",
              "0   -0.02190630407577089  \n",
              "0     0.2636869257901733  \n",
              "0   -0.05630080602231739  \n",
              "0     0.2555549590861679  \n",
              "0    0.10924757399150062  \n",
              "0   -0.23803183672423198  \n",
              "0  -0.023511817386793914  \n",
              "0    -0.0984672819497717  \n",
              "0    -0.1897236746780926  \n",
              "0    0.09966860783658188  \n",
              "0   -0.03485115775974896  \n",
              "0    0.45262665888272413  \n",
              "0   -0.01713975924406958  \n",
              "0      0.318509407421941  \n",
              "0     0.1951380415433766  \n",
              "0    -0.1632048860394572  \n",
              "0    0.09413836233665565  \n",
              "0      0.157798734609376  \n",
              "0    0.24797883569415435  \n",
              "\n",
              "[20 rows x 34 columns]"
            ],
            "text/html": [
              "\n",
              "  <div id=\"df-e61fc9bc-edf1-4a85-ac43-93c00103af68\">\n",
              "    <div class=\"colab-df-container\">\n",
              "      <div>\n",
              "<style scoped>\n",
              "    .dataframe tbody tr th:only-of-type {\n",
              "        vertical-align: middle;\n",
              "    }\n",
              "\n",
              "    .dataframe tbody tr th {\n",
              "        vertical-align: top;\n",
              "    }\n",
              "\n",
              "    .dataframe thead th {\n",
              "        text-align: right;\n",
              "    }\n",
              "</style>\n",
              "<table border=\"1\" class=\"dataframe\">\n",
              "  <thead>\n",
              "    <tr style=\"text-align: right;\">\n",
              "      <th></th>\n",
              "      <th>Unnamed: 0</th>\n",
              "      <th>Pruebas</th>\n",
              "      <th>coef(a)_6am-MLP</th>\n",
              "      <th>rsquared_6am-MLP</th>\n",
              "      <th>Standard Error_6am-MLP</th>\n",
              "      <th>coef(b)_6am-MLP</th>\n",
              "      <th>coef(a)_Acu-6am-MLP</th>\n",
              "      <th>rsquared_Acu-6am-MLP</th>\n",
              "      <th>Standard Error_Acu-6am-MLP</th>\n",
              "      <th>coef(b)_Acu-6am-MLP</th>\n",
              "      <th>...</th>\n",
              "      <th>Standard Error_Acu-Beysens-PM</th>\n",
              "      <th>coef(b)_Acu-Beysens-PM</th>\n",
              "      <th>coef(a)_MLP-PM</th>\n",
              "      <th>rsquared_MLP-PM</th>\n",
              "      <th>Standard Error_MLP-PM</th>\n",
              "      <th>coef(b)_MLP-PM</th>\n",
              "      <th>coef(a)_Acu-MLP-PM</th>\n",
              "      <th>rsquared_Acu-MLP-PM</th>\n",
              "      <th>Standard Error_Acu-MLP-PM</th>\n",
              "      <th>coef(b)_Acu-MLP-PM</th>\n",
              "    </tr>\n",
              "  </thead>\n",
              "  <tbody>\n",
              "    <tr>\n",
              "      <th>0</th>\n",
              "      <td>0</td>\n",
              "      <td>1.0</td>\n",
              "      <td>0.31308803727339085</td>\n",
              "      <td>0.3331686054504356</td>\n",
              "      <td>0.0401016801590803</td>\n",
              "      <td>0.012733320829028595</td>\n",
              "      <td>0.7455223960773738</td>\n",
              "      <td>0.9791068388472847</td>\n",
              "      <td>0.009859793402742867</td>\n",
              "      <td>-0.06931215010427123</td>\n",
              "      <td>...</td>\n",
              "      <td>0.00516263916129549</td>\n",
              "      <td>0.035613286904677056</td>\n",
              "      <td>0.5169238192259427</td>\n",
              "      <td>0.40248608726952895</td>\n",
              "      <td>0.05702235927795981</td>\n",
              "      <td>0.02296527727536855</td>\n",
              "      <td>1.4720847572545706</td>\n",
              "      <td>0.9827202757276289</td>\n",
              "      <td>0.01767283999605268</td>\n",
              "      <td>-0.5047387998429296</td>\n",
              "    </tr>\n",
              "    <tr>\n",
              "      <th>0</th>\n",
              "      <td>0</td>\n",
              "      <td>2.0</td>\n",
              "      <td>0.3848851298116347</td>\n",
              "      <td>0.07381630370867287</td>\n",
              "      <td>0.12343080528468561</td>\n",
              "      <td>0.023669841748787356</td>\n",
              "      <td>1.198879914421366</td>\n",
              "      <td>0.9081566028740408</td>\n",
              "      <td>0.03451750252989892</td>\n",
              "      <td>-0.2809303083603534</td>\n",
              "      <td>...</td>\n",
              "      <td>0.002575460320423237</td>\n",
              "      <td>0.17762708242766478</td>\n",
              "      <td>0.24576106849908746</td>\n",
              "      <td>0.16943133931548193</td>\n",
              "      <td>0.0492633663837274</td>\n",
              "      <td>0.018289037524023194</td>\n",
              "      <td>0.9406393994617493</td>\n",
              "      <td>0.9669201258793427</td>\n",
              "      <td>0.01575178862743934</td>\n",
              "      <td>-0.02190630407577089</td>\n",
              "    </tr>\n",
              "    <tr>\n",
              "      <th>0</th>\n",
              "      <td>0</td>\n",
              "      <td>3.0</td>\n",
              "      <td>0.7002121639555752</td>\n",
              "      <td>0.5216827313993018</td>\n",
              "      <td>0.06070221519517972</td>\n",
              "      <td>0.008404027280125917</td>\n",
              "      <td>0.8351667237643019</td>\n",
              "      <td>0.9818279782513647</td>\n",
              "      <td>0.010286726397065992</td>\n",
              "      <td>0.42174206262576036</td>\n",
              "      <td>...</td>\n",
              "      <td>0.005044500186642591</td>\n",
              "      <td>0.04368723065344185</td>\n",
              "      <td>0.3383411295275826</td>\n",
              "      <td>0.3404991709244578</td>\n",
              "      <td>0.04263089995968173</td>\n",
              "      <td>0.01581460172480245</td>\n",
              "      <td>0.8423534782507183</td>\n",
              "      <td>0.9892086873604164</td>\n",
              "      <td>0.007965400812279776</td>\n",
              "      <td>0.2636869257901733</td>\n",
              "    </tr>\n",
              "    <tr>\n",
              "      <th>0</th>\n",
              "      <td>0</td>\n",
              "      <td>4.0</td>\n",
              "      <td>0.42478369803310384</td>\n",
              "      <td>0.5626473482389169</td>\n",
              "      <td>0.033906710347009476</td>\n",
              "      <td>0.01325931710413885</td>\n",
              "      <td>0.799121256090052</td>\n",
              "      <td>0.9863736879194498</td>\n",
              "      <td>0.008503568119213515</td>\n",
              "      <td>-0.0528134787159216</td>\n",
              "      <td>...</td>\n",
              "      <td>0.0026848443052946242</td>\n",
              "      <td>-0.05178614592211955</td>\n",
              "      <td>0.5384401639425658</td>\n",
              "      <td>0.28843779697026584</td>\n",
              "      <td>0.07656634036916433</td>\n",
              "      <td>0.016581486950739643</td>\n",
              "      <td>1.180817297114149</td>\n",
              "      <td>0.980733767773115</td>\n",
              "      <td>0.014983926045133454</td>\n",
              "      <td>-0.05630080602231739</td>\n",
              "    </tr>\n",
              "    <tr>\n",
              "      <th>0</th>\n",
              "      <td>0</td>\n",
              "      <td>5.0</td>\n",
              "      <td>0.4296042656017296</td>\n",
              "      <td>0.20173984292806857</td>\n",
              "      <td>0.07736865771314885</td>\n",
              "      <td>0.022091435484920225</td>\n",
              "      <td>1.158445448508508</td>\n",
              "      <td>0.9242656820661893</td>\n",
              "      <td>0.03002227620737448</td>\n",
              "      <td>0.2541159172480594</td>\n",
              "      <td>...</td>\n",
              "      <td>0.004779598700008863</td>\n",
              "      <td>-0.05555229817183934</td>\n",
              "      <td>0.2818200084032509</td>\n",
              "      <td>0.10858620546937636</td>\n",
              "      <td>0.07310452265532329</td>\n",
              "      <td>0.03763028944486872</td>\n",
              "      <td>1.5457043470045524</td>\n",
              "      <td>0.9567193691274599</td>\n",
              "      <td>0.029764666551769438</td>\n",
              "      <td>0.2555549590861679</td>\n",
              "    </tr>\n",
              "    <tr>\n",
              "      <th>0</th>\n",
              "      <td>0</td>\n",
              "      <td>6.0</td>\n",
              "      <td>0.7489676533922068</td>\n",
              "      <td>0.5426131968395358</td>\n",
              "      <td>0.06225579432347322</td>\n",
              "      <td>0.010082852087916925</td>\n",
              "      <td>1.2355978530291625</td>\n",
              "      <td>0.9685099383385198</td>\n",
              "      <td>0.020171209600559518</td>\n",
              "      <td>-0.19235532350850143</td>\n",
              "      <td>...</td>\n",
              "      <td>0.005013896944520109</td>\n",
              "      <td>-0.030162453306611398</td>\n",
              "      <td>0.4406048094958531</td>\n",
              "      <td>0.38944390304822296</td>\n",
              "      <td>0.049947023889002955</td>\n",
              "      <td>0.015924744254539352</td>\n",
              "      <td>1.0929168105484797</td>\n",
              "      <td>0.9870649054708688</td>\n",
              "      <td>0.011327110554418344</td>\n",
              "      <td>0.10924757399150062</td>\n",
              "    </tr>\n",
              "    <tr>\n",
              "      <th>0</th>\n",
              "      <td>0</td>\n",
              "      <td>7.0</td>\n",
              "      <td>0.46667878093189885</td>\n",
              "      <td>0.3142632626440989</td>\n",
              "      <td>0.06241227849199327</td>\n",
              "      <td>0.022375961632093495</td>\n",
              "      <td>1.195361311633377</td>\n",
              "      <td>0.9844410634767289</td>\n",
              "      <td>0.013605495811924164</td>\n",
              "      <td>-0.0852338573035431</td>\n",
              "      <td>...</td>\n",
              "      <td>0.005125123019658115</td>\n",
              "      <td>-0.08128927236677982</td>\n",
              "      <td>0.227139660569259</td>\n",
              "      <td>0.1138085017059387</td>\n",
              "      <td>0.057383808868571556</td>\n",
              "      <td>0.01675318962963496</td>\n",
              "      <td>0.8424300046119113</td>\n",
              "      <td>0.982127822024469</td>\n",
              "      <td>0.01028865595264223</td>\n",
              "      <td>-0.23803183672423198</td>\n",
              "    </tr>\n",
              "    <tr>\n",
              "      <th>0</th>\n",
              "      <td>0</td>\n",
              "      <td>8.0</td>\n",
              "      <td>0.437760539383256</td>\n",
              "      <td>0.2643992231467365</td>\n",
              "      <td>0.06610704248401403</td>\n",
              "      <td>0.016968562265487895</td>\n",
              "      <td>0.7685640303889951</td>\n",
              "      <td>0.9625407107856573</td>\n",
              "      <td>0.01372683311828699</td>\n",
              "      <td>0.5546376291604866</td>\n",
              "      <td>...</td>\n",
              "      <td>0.0038940620623488507</td>\n",
              "      <td>-0.052412951746513524</td>\n",
              "      <td>0.31862721649560233</td>\n",
              "      <td>0.22257411465955712</td>\n",
              "      <td>0.05391320518606187</td>\n",
              "      <td>0.024991897914179217</td>\n",
              "      <td>1.0098065462167471</td>\n",
              "      <td>0.9805142133903028</td>\n",
              "      <td>0.012888141333695743</td>\n",
              "      <td>-0.023511817386793914</td>\n",
              "    </tr>\n",
              "    <tr>\n",
              "      <th>0</th>\n",
              "      <td>0</td>\n",
              "      <td>9.0</td>\n",
              "      <td>0.39390063330794506</td>\n",
              "      <td>0.16651062977946451</td>\n",
              "      <td>0.07978768422148831</td>\n",
              "      <td>0.022768358602347334</td>\n",
              "      <td>1.2370824316674174</td>\n",
              "      <td>0.9542669928130638</td>\n",
              "      <td>0.02451876846318403</td>\n",
              "      <td>-0.22508567034059113</td>\n",
              "      <td>...</td>\n",
              "      <td>0.006609354363662432</td>\n",
              "      <td>0.10780430218843738</td>\n",
              "      <td>0.2767500285690684</td>\n",
              "      <td>0.08140843239499818</td>\n",
              "      <td>0.08416554181429087</td>\n",
              "      <td>0.021417280552676707</td>\n",
              "      <td>0.9965206317398723</td>\n",
              "      <td>0.9523920081823865</td>\n",
              "      <td>0.020171511503405157</td>\n",
              "      <td>-0.0984672819497717</td>\n",
              "    </tr>\n",
              "    <tr>\n",
              "      <th>0</th>\n",
              "      <td>0</td>\n",
              "      <td>10.0</td>\n",
              "      <td>0.46708987237085914</td>\n",
              "      <td>0.39268626015598584</td>\n",
              "      <td>0.05259012907887567</td>\n",
              "      <td>0.02673287633961602</td>\n",
              "      <td>1.4914407981496263</td>\n",
              "      <td>0.9732079427452853</td>\n",
              "      <td>0.022404038634748026</td>\n",
              "      <td>-0.21839675796587812</td>\n",
              "      <td>...</td>\n",
              "      <td>0.009405283306602953</td>\n",
              "      <td>-0.0022503069158106084</td>\n",
              "      <td>0.5060781926464502</td>\n",
              "      <td>0.13270661491225888</td>\n",
              "      <td>0.1171316959057813</td>\n",
              "      <td>0.033768980363154295</td>\n",
              "      <td>1.7531361045417242</td>\n",
              "      <td>0.9487931161381853</td>\n",
              "      <td>0.03687348035202532</td>\n",
              "      <td>-0.1897236746780926</td>\n",
              "    </tr>\n",
              "    <tr>\n",
              "      <th>0</th>\n",
              "      <td>0</td>\n",
              "      <td>11.0</td>\n",
              "      <td>0.25445115389210804</td>\n",
              "      <td>0.13630636100905413</td>\n",
              "      <td>0.0579890931019989</td>\n",
              "      <td>0.014119477652782712</td>\n",
              "      <td>0.627937891504242</td>\n",
              "      <td>0.9632498930296568</td>\n",
              "      <td>0.011104438327445149</td>\n",
              "      <td>0.2010251814407184</td>\n",
              "      <td>...</td>\n",
              "      <td>0.0010449931349528075</td>\n",
              "      <td>-0.026056622146340403</td>\n",
              "      <td>0.2611404330032648</td>\n",
              "      <td>0.18563323855663472</td>\n",
              "      <td>0.049519505233694604</td>\n",
              "      <td>0.017606091278694874</td>\n",
              "      <td>0.7722670573049073</td>\n",
              "      <td>0.966054882079079</td>\n",
              "      <td>0.013106156678779488</td>\n",
              "      <td>0.09966860783658188</td>\n",
              "    </tr>\n",
              "    <tr>\n",
              "      <th>0</th>\n",
              "      <td>0</td>\n",
              "      <td>12.0</td>\n",
              "      <td>0.3421628984383864</td>\n",
              "      <td>0.33698282834149196</td>\n",
              "      <td>0.04345217232746519</td>\n",
              "      <td>0.008653039396707956</td>\n",
              "      <td>0.6371401051645239</td>\n",
              "      <td>0.9914861469145082</td>\n",
              "      <td>0.0053453331361520496</td>\n",
              "      <td>0.0010747224937787958</td>\n",
              "      <td>...</td>\n",
              "      <td>0.005049784931949527</td>\n",
              "      <td>0.13743977355278736</td>\n",
              "      <td>0.2818715851077369</td>\n",
              "      <td>0.08784764374818232</td>\n",
              "      <td>0.08223186805818024</td>\n",
              "      <td>0.020443330620650166</td>\n",
              "      <td>0.973679680520605</td>\n",
              "      <td>0.9875019218882017</td>\n",
              "      <td>0.009917194567348568</td>\n",
              "      <td>-0.03485115775974896</td>\n",
              "    </tr>\n",
              "    <tr>\n",
              "      <th>0</th>\n",
              "      <td>0</td>\n",
              "      <td>13.0</td>\n",
              "      <td>0.6307957375046586</td>\n",
              "      <td>0.3224267964051174</td>\n",
              "      <td>0.08278875887060892</td>\n",
              "      <td>0.02310993889927979</td>\n",
              "      <td>1.2271404392521295</td>\n",
              "      <td>0.971278020792224</td>\n",
              "      <td>0.01910511924784986</td>\n",
              "      <td>0.5340769009228374</td>\n",
              "      <td>...</td>\n",
              "      <td>0.004735673750587108</td>\n",
              "      <td>-0.026818167972567378</td>\n",
              "      <td>0.30197476344060603</td>\n",
              "      <td>0.16261709566367666</td>\n",
              "      <td>0.06203970299122766</td>\n",
              "      <td>0.029334817801619402</td>\n",
              "      <td>1.199048187576857</td>\n",
              "      <td>0.9618444803505598</td>\n",
              "      <td>0.02162135857135005</td>\n",
              "      <td>0.45262665888272413</td>\n",
              "    </tr>\n",
              "    <tr>\n",
              "      <th>0</th>\n",
              "      <td>0</td>\n",
              "      <td>14.0</td>\n",
              "      <td>0.46343055608613043</td>\n",
              "      <td>0.29095721057638646</td>\n",
              "      <td>0.06549775378287762</td>\n",
              "      <td>0.019406142542058982</td>\n",
              "      <td>1.2014668866376468</td>\n",
              "      <td>0.9882609713884727</td>\n",
              "      <td>0.011855289086710722</td>\n",
              "      <td>-0.14281162953103252</td>\n",
              "      <td>...</td>\n",
              "      <td>0.005959669410091187</td>\n",
              "      <td>-0.10092005792674794</td>\n",
              "      <td>0.2613558332370738</td>\n",
              "      <td>0.2107277812660704</td>\n",
              "      <td>0.04579359813328846</td>\n",
              "      <td>0.014927007300989219</td>\n",
              "      <td>0.7490693206820451</td>\n",
              "      <td>0.9945099400562856</td>\n",
              "      <td>0.005038787865924649</td>\n",
              "      <td>-0.01713975924406958</td>\n",
              "    </tr>\n",
              "    <tr>\n",
              "      <th>0</th>\n",
              "      <td>0</td>\n",
              "      <td>15.0</td>\n",
              "      <td>0.4330721603424114</td>\n",
              "      <td>0.4510504526899747</td>\n",
              "      <td>0.04325476953461103</td>\n",
              "      <td>0.014826711523140286</td>\n",
              "      <td>0.8410841222244749</td>\n",
              "      <td>0.985356185618925</td>\n",
              "      <td>0.009283035334905211</td>\n",
              "      <td>0.39869290521369544</td>\n",
              "      <td>...</td>\n",
              "      <td>0.003963851582656289</td>\n",
              "      <td>0.0048124870755929</td>\n",
              "      <td>0.4075070287109439</td>\n",
              "      <td>0.34668715926132754</td>\n",
              "      <td>0.0506462011734745</td>\n",
              "      <td>0.02052870294291215</td>\n",
              "      <td>1.0235622271400269</td>\n",
              "      <td>0.9873279936959322</td>\n",
              "      <td>0.010498477050418403</td>\n",
              "      <td>0.318509407421941</td>\n",
              "    </tr>\n",
              "    <tr>\n",
              "      <th>0</th>\n",
              "      <td>0</td>\n",
              "      <td>16.0</td>\n",
              "      <td>0.47373384162582616</td>\n",
              "      <td>0.45195994716128607</td>\n",
              "      <td>0.04722920657659531</td>\n",
              "      <td>0.01079733359601756</td>\n",
              "      <td>0.7488454068075505</td>\n",
              "      <td>0.9821120216093255</td>\n",
              "      <td>0.009149816268009836</td>\n",
              "      <td>0.14776024142105676</td>\n",
              "      <td>...</td>\n",
              "      <td>0.007397481649231221</td>\n",
              "      <td>0.1489573990829159</td>\n",
              "      <td>0.20888132633404016</td>\n",
              "      <td>0.1463744816307896</td>\n",
              "      <td>0.045668919909972246</td>\n",
              "      <td>0.01952252288170222</td>\n",
              "      <td>0.7988563550278343</td>\n",
              "      <td>0.9808821704217728</td>\n",
              "      <td>0.010097169611035094</td>\n",
              "      <td>0.1951380415433766</td>\n",
              "    </tr>\n",
              "    <tr>\n",
              "      <th>0</th>\n",
              "      <td>0</td>\n",
              "      <td>17.0</td>\n",
              "      <td>0.47798943140018957</td>\n",
              "      <td>0.3082293731652921</td>\n",
              "      <td>0.06483095617806689</td>\n",
              "      <td>0.02034738074014398</td>\n",
              "      <td>1.2104626610726048</td>\n",
              "      <td>0.9770122395929568</td>\n",
              "      <td>0.016810081192020845</td>\n",
              "      <td>-0.026044401984534706</td>\n",
              "      <td>...</td>\n",
              "      <td>0.004737962599528334</td>\n",
              "      <td>-0.07008442710181165</td>\n",
              "      <td>0.2815489609301509</td>\n",
              "      <td>0.1697081937565772</td>\n",
              "      <td>0.05638166959766779</td>\n",
              "      <td>0.020378520787199057</td>\n",
              "      <td>0.9709940040745477</td>\n",
              "      <td>0.9915393000184374</td>\n",
              "      <td>0.008120538159763137</td>\n",
              "      <td>-0.1632048860394572</td>\n",
              "    </tr>\n",
              "    <tr>\n",
              "      <th>0</th>\n",
              "      <td>0</td>\n",
              "      <td>18.0</td>\n",
              "      <td>0.7194029969761618</td>\n",
              "      <td>0.43210755055033123</td>\n",
              "      <td>0.07466713162412238</td>\n",
              "      <td>0.015510378336649876</td>\n",
              "      <td>1.2831785876051072</td>\n",
              "      <td>0.9797195384107654</td>\n",
              "      <td>0.016714570523332146</td>\n",
              "      <td>0.33077033038618214</td>\n",
              "      <td>...</td>\n",
              "      <td>0.009471794801177588</td>\n",
              "      <td>-0.04388719608616527</td>\n",
              "      <td>0.3946590225698345</td>\n",
              "      <td>0.26364591213763267</td>\n",
              "      <td>0.05971383347025869</td>\n",
              "      <td>0.020887527059927163</td>\n",
              "      <td>1.1476671086339252</td>\n",
              "      <td>0.9703972350304102</td>\n",
              "      <td>0.018147942003251732</td>\n",
              "      <td>0.09413836233665565</td>\n",
              "    </tr>\n",
              "    <tr>\n",
              "      <th>0</th>\n",
              "      <td>0</td>\n",
              "      <td>19.0</td>\n",
              "      <td>0.2775460435155994</td>\n",
              "      <td>0.22578387965921898</td>\n",
              "      <td>0.04653072458289932</td>\n",
              "      <td>0.017834386594798492</td>\n",
              "      <td>0.7094376296576353</td>\n",
              "      <td>0.9834730684791746</td>\n",
              "      <td>0.008326244937860832</td>\n",
              "      <td>0.2833291767378928</td>\n",
              "      <td>...</td>\n",
              "      <td>0.005405571799517828</td>\n",
              "      <td>0.173928835150046</td>\n",
              "      <td>0.27317425201845447</td>\n",
              "      <td>0.24824099494025254</td>\n",
              "      <td>0.043039022608682406</td>\n",
              "      <td>0.015226235129680445</td>\n",
              "      <td>0.6668925889942653</td>\n",
              "      <td>0.9840294788617591</td>\n",
              "      <td>0.00769186167996167</td>\n",
              "      <td>0.157798734609376</td>\n",
              "    </tr>\n",
              "    <tr>\n",
              "      <th>0</th>\n",
              "      <td>0</td>\n",
              "      <td>20.0</td>\n",
              "      <td>0.6760852931872088</td>\n",
              "      <td>0.5082257086462649</td>\n",
              "      <td>0.06021104346823116</td>\n",
              "      <td>0.016547409539939432</td>\n",
              "      <td>1.1551213378245726</td>\n",
              "      <td>0.9818212097760717</td>\n",
              "      <td>0.014230297356992588</td>\n",
              "      <td>0.2391320773213625</td>\n",
              "      <td>...</td>\n",
              "      <td>0.003082018105587368</td>\n",
              "      <td>-0.027265606515744625</td>\n",
              "      <td>0.2692063789552896</td>\n",
              "      <td>0.20299076639003122</td>\n",
              "      <td>0.04829463709041691</td>\n",
              "      <td>0.018146785658969006</td>\n",
              "      <td>0.7775262409749157</td>\n",
              "      <td>0.9877742052652689</td>\n",
              "      <td>0.007831498164956591</td>\n",
              "      <td>0.24797883569415435</td>\n",
              "    </tr>\n",
              "  </tbody>\n",
              "</table>\n",
              "<p>20 rows × 34 columns</p>\n",
              "</div>\n",
              "      <button class=\"colab-df-convert\" onclick=\"convertToInteractive('df-e61fc9bc-edf1-4a85-ac43-93c00103af68')\"\n",
              "              title=\"Convert this dataframe to an interactive table.\"\n",
              "              style=\"display:none;\">\n",
              "        \n",
              "  <svg xmlns=\"http://www.w3.org/2000/svg\" height=\"24px\"viewBox=\"0 0 24 24\"\n",
              "       width=\"24px\">\n",
              "    <path d=\"M0 0h24v24H0V0z\" fill=\"none\"/>\n",
              "    <path d=\"M18.56 5.44l.94 2.06.94-2.06 2.06-.94-2.06-.94-.94-2.06-.94 2.06-2.06.94zm-11 1L8.5 8.5l.94-2.06 2.06-.94-2.06-.94L8.5 2.5l-.94 2.06-2.06.94zm10 10l.94 2.06.94-2.06 2.06-.94-2.06-.94-.94-2.06-.94 2.06-2.06.94z\"/><path d=\"M17.41 7.96l-1.37-1.37c-.4-.4-.92-.59-1.43-.59-.52 0-1.04.2-1.43.59L10.3 9.45l-7.72 7.72c-.78.78-.78 2.05 0 2.83L4 21.41c.39.39.9.59 1.41.59.51 0 1.02-.2 1.41-.59l7.78-7.78 2.81-2.81c.8-.78.8-2.07 0-2.86zM5.41 20L4 18.59l7.72-7.72 1.47 1.35L5.41 20z\"/>\n",
              "  </svg>\n",
              "      </button>\n",
              "      \n",
              "  <style>\n",
              "    .colab-df-container {\n",
              "      display:flex;\n",
              "      flex-wrap:wrap;\n",
              "      gap: 12px;\n",
              "    }\n",
              "\n",
              "    .colab-df-convert {\n",
              "      background-color: #E8F0FE;\n",
              "      border: none;\n",
              "      border-radius: 50%;\n",
              "      cursor: pointer;\n",
              "      display: none;\n",
              "      fill: #1967D2;\n",
              "      height: 32px;\n",
              "      padding: 0 0 0 0;\n",
              "      width: 32px;\n",
              "    }\n",
              "\n",
              "    .colab-df-convert:hover {\n",
              "      background-color: #E2EBFA;\n",
              "      box-shadow: 0px 1px 2px rgba(60, 64, 67, 0.3), 0px 1px 3px 1px rgba(60, 64, 67, 0.15);\n",
              "      fill: #174EA6;\n",
              "    }\n",
              "\n",
              "    [theme=dark] .colab-df-convert {\n",
              "      background-color: #3B4455;\n",
              "      fill: #D2E3FC;\n",
              "    }\n",
              "\n",
              "    [theme=dark] .colab-df-convert:hover {\n",
              "      background-color: #434B5C;\n",
              "      box-shadow: 0px 1px 3px 1px rgba(0, 0, 0, 0.15);\n",
              "      filter: drop-shadow(0px 1px 2px rgba(0, 0, 0, 0.3));\n",
              "      fill: #FFFFFF;\n",
              "    }\n",
              "  </style>\n",
              "\n",
              "      <script>\n",
              "        const buttonEl =\n",
              "          document.querySelector('#df-e61fc9bc-edf1-4a85-ac43-93c00103af68 button.colab-df-convert');\n",
              "        buttonEl.style.display =\n",
              "          google.colab.kernel.accessAllowed ? 'block' : 'none';\n",
              "\n",
              "        async function convertToInteractive(key) {\n",
              "          const element = document.querySelector('#df-e61fc9bc-edf1-4a85-ac43-93c00103af68');\n",
              "          const dataTable =\n",
              "            await google.colab.kernel.invokeFunction('convertToInteractive',\n",
              "                                                     [key], {});\n",
              "          if (!dataTable) return;\n",
              "\n",
              "          const docLinkHtml = 'Like what you see? Visit the ' +\n",
              "            '<a target=\"_blank\" href=https://colab.research.google.com/notebooks/data_table.ipynb>data table notebook</a>'\n",
              "            + ' to learn more about interactive tables.';\n",
              "          element.innerHTML = '';\n",
              "          dataTable['output_type'] = 'display_data';\n",
              "          await google.colab.output.renderOutput(dataTable, element);\n",
              "          const docLink = document.createElement('div');\n",
              "          docLink.innerHTML = docLinkHtml;\n",
              "          element.appendChild(docLink);\n",
              "        }\n",
              "      </script>\n",
              "    </div>\n",
              "  </div>\n",
              "  "
            ]
          },
          "metadata": {},
          "execution_count": 78
        }
      ]
    },
    {
      "cell_type": "code",
      "source": [
        "#resultadoDatos['Pruebas'] = resultadoDatos['Pruebas'].astype('float')\n",
        "#resultadoDatos = resultadoDatos.set_index('Pruebas')\n"
      ],
      "metadata": {
        "id": "WplQIMEMtnV6"
      },
      "execution_count": null,
      "outputs": []
    },
    {
      "cell_type": "code",
      "source": [
        "resultadoDatos"
      ],
      "metadata": {
        "colab": {
          "base_uri": "https://localhost:8080/",
          "height": 765
        },
        "id": "tqSl-9Skt9oi",
        "outputId": "b1dcce6c-7359-4dc5-ba02-36afb4b38228"
      },
      "execution_count": null,
      "outputs": [
        {
          "output_type": "execute_result",
          "data": {
            "text/plain": [
              "   Unnamed: 0 Pruebas      coef(a)_6am-MLP     rsquared_6am-MLP  \\\n",
              "0           0     1.0  0.31308803727339085   0.3331686054504356   \n",
              "0           0     2.0   0.3848851298116347  0.07381630370867287   \n",
              "0           0     3.0   0.7002121639555752   0.5216827313993018   \n",
              "0           0     4.0  0.42478369803310384   0.5626473482389169   \n",
              "0           0     5.0   0.4296042656017296  0.20173984292806857   \n",
              "0           0     6.0   0.7489676533922068   0.5426131968395358   \n",
              "0           0     7.0  0.46667878093189885   0.3142632626440989   \n",
              "0           0     8.0    0.437760539383256   0.2643992231467365   \n",
              "0           0     9.0  0.39390063330794506  0.16651062977946451   \n",
              "0           0    10.0  0.46708987237085914  0.39268626015598584   \n",
              "0           0    11.0  0.25445115389210804  0.13630636100905413   \n",
              "0           0    12.0   0.3421628984383864  0.33698282834149196   \n",
              "0           0    13.0   0.6307957375046586   0.3224267964051174   \n",
              "0           0    14.0  0.46343055608613043  0.29095721057638646   \n",
              "0           0    15.0   0.4330721603424114   0.4510504526899747   \n",
              "0           0    16.0  0.47373384162582616  0.45195994716128607   \n",
              "0           0    17.0  0.47798943140018957   0.3082293731652921   \n",
              "0           0    18.0   0.7194029969761618  0.43210755055033123   \n",
              "0           0    19.0   0.2775460435155994  0.22578387965921898   \n",
              "0           0    20.0   0.6760852931872088   0.5082257086462649   \n",
              "\n",
              "  Standard Error_6am-MLP       coef(b)_6am-MLP coef(a)_Acu-6am-MLP  \\\n",
              "0     0.0401016801590803  0.012733320829028595  0.7455223960773738   \n",
              "0    0.12343080528468561  0.023669841748787356   1.198879914421366   \n",
              "0    0.06070221519517972  0.008404027280125917  0.8351667237643019   \n",
              "0   0.033906710347009476   0.01325931710413885   0.799121256090052   \n",
              "0    0.07736865771314885  0.022091435484920225   1.158445448508508   \n",
              "0    0.06225579432347322  0.010082852087916925  1.2355978530291625   \n",
              "0    0.06241227849199327  0.022375961632093495   1.195361311633377   \n",
              "0    0.06610704248401403  0.016968562265487895  0.7685640303889951   \n",
              "0    0.07978768422148831  0.022768358602347334  1.2370824316674174   \n",
              "0    0.05259012907887567   0.02673287633961602  1.4914407981496263   \n",
              "0     0.0579890931019989  0.014119477652782712   0.627937891504242   \n",
              "0    0.04345217232746519  0.008653039396707956  0.6371401051645239   \n",
              "0    0.08278875887060892   0.02310993889927979  1.2271404392521295   \n",
              "0    0.06549775378287762  0.019406142542058982  1.2014668866376468   \n",
              "0    0.04325476953461103  0.014826711523140286  0.8410841222244749   \n",
              "0    0.04722920657659531   0.01079733359601756  0.7488454068075505   \n",
              "0    0.06483095617806689   0.02034738074014398  1.2104626610726048   \n",
              "0    0.07466713162412238  0.015510378336649876  1.2831785876051072   \n",
              "0    0.04653072458289932  0.017834386594798492  0.7094376296576353   \n",
              "0    0.06021104346823116  0.016547409539939432  1.1551213378245726   \n",
              "\n",
              "  rsquared_Acu-6am-MLP Standard Error_Acu-6am-MLP    coef(b)_Acu-6am-MLP  ...  \\\n",
              "0   0.9791068388472847       0.009859793402742867   -0.06931215010427123  ...   \n",
              "0   0.9081566028740408        0.03451750252989892    -0.2809303083603534  ...   \n",
              "0   0.9818279782513647       0.010286726397065992    0.42174206262576036  ...   \n",
              "0   0.9863736879194498       0.008503568119213515    -0.0528134787159216  ...   \n",
              "0   0.9242656820661893        0.03002227620737448     0.2541159172480594  ...   \n",
              "0   0.9685099383385198       0.020171209600559518   -0.19235532350850143  ...   \n",
              "0   0.9844410634767289       0.013605495811924164    -0.0852338573035431  ...   \n",
              "0   0.9625407107856573        0.01372683311828699     0.5546376291604866  ...   \n",
              "0   0.9542669928130638        0.02451876846318403   -0.22508567034059113  ...   \n",
              "0   0.9732079427452853       0.022404038634748026   -0.21839675796587812  ...   \n",
              "0   0.9632498930296568       0.011104438327445149     0.2010251814407184  ...   \n",
              "0   0.9914861469145082      0.0053453331361520496  0.0010747224937787958  ...   \n",
              "0    0.971278020792224        0.01910511924784986     0.5340769009228374  ...   \n",
              "0   0.9882609713884727       0.011855289086710722   -0.14281162953103252  ...   \n",
              "0    0.985356185618925       0.009283035334905211    0.39869290521369544  ...   \n",
              "0   0.9821120216093255       0.009149816268009836    0.14776024142105676  ...   \n",
              "0   0.9770122395929568       0.016810081192020845  -0.026044401984534706  ...   \n",
              "0   0.9797195384107654       0.016714570523332146    0.33077033038618214  ...   \n",
              "0   0.9834730684791746       0.008326244937860832     0.2833291767378928  ...   \n",
              "0   0.9818212097760717       0.014230297356992588     0.2391320773213625  ...   \n",
              "\n",
              "  Standard Error_Acu-Beysens-PM  coef(b)_Acu-Beysens-PM       coef(a)_MLP-PM  \\\n",
              "0           0.00516263916129549    0.035613286904677056   0.5169238192259427   \n",
              "0          0.002575460320423237     0.17762708242766478  0.24576106849908746   \n",
              "0          0.005044500186642591     0.04368723065344185   0.3383411295275826   \n",
              "0         0.0026848443052946242    -0.05178614592211955   0.5384401639425658   \n",
              "0          0.004779598700008863    -0.05555229817183934   0.2818200084032509   \n",
              "0          0.005013896944520109   -0.030162453306611398   0.4406048094958531   \n",
              "0          0.005125123019658115    -0.08128927236677982    0.227139660569259   \n",
              "0         0.0038940620623488507   -0.052412951746513524  0.31862721649560233   \n",
              "0          0.006609354363662432     0.10780430218843738   0.2767500285690684   \n",
              "0          0.009405283306602953  -0.0022503069158106084   0.5060781926464502   \n",
              "0         0.0010449931349528075   -0.026056622146340403   0.2611404330032648   \n",
              "0          0.005049784931949527     0.13743977355278736   0.2818715851077369   \n",
              "0          0.004735673750587108   -0.026818167972567378  0.30197476344060603   \n",
              "0          0.005959669410091187    -0.10092005792674794   0.2613558332370738   \n",
              "0          0.003963851582656289      0.0048124870755929   0.4075070287109439   \n",
              "0          0.007397481649231221      0.1489573990829159  0.20888132633404016   \n",
              "0          0.004737962599528334    -0.07008442710181165   0.2815489609301509   \n",
              "0          0.009471794801177588    -0.04388719608616527   0.3946590225698345   \n",
              "0          0.005405571799517828       0.173928835150046  0.27317425201845447   \n",
              "0          0.003082018105587368   -0.027265606515744625   0.2692063789552896   \n",
              "\n",
              "       rsquared_MLP-PM Standard Error_MLP-PM        coef(b)_MLP-PM  \\\n",
              "0  0.40248608726952895   0.05702235927795981   0.02296527727536855   \n",
              "0  0.16943133931548193    0.0492633663837274  0.018289037524023194   \n",
              "0   0.3404991709244578   0.04263089995968173   0.01581460172480245   \n",
              "0  0.28843779697026584   0.07656634036916433  0.016581486950739643   \n",
              "0  0.10858620546937636   0.07310452265532329   0.03763028944486872   \n",
              "0  0.38944390304822296  0.049947023889002955  0.015924744254539352   \n",
              "0   0.1138085017059387  0.057383808868571556   0.01675318962963496   \n",
              "0  0.22257411465955712   0.05391320518606187  0.024991897914179217   \n",
              "0  0.08140843239499818   0.08416554181429087  0.021417280552676707   \n",
              "0  0.13270661491225888    0.1171316959057813  0.033768980363154295   \n",
              "0  0.18563323855663472  0.049519505233694604  0.017606091278694874   \n",
              "0  0.08784764374818232   0.08223186805818024  0.020443330620650166   \n",
              "0  0.16261709566367666   0.06203970299122766  0.029334817801619402   \n",
              "0   0.2107277812660704   0.04579359813328846  0.014927007300989219   \n",
              "0  0.34668715926132754    0.0506462011734745   0.02052870294291215   \n",
              "0   0.1463744816307896  0.045668919909972246   0.01952252288170222   \n",
              "0   0.1697081937565772   0.05638166959766779  0.020378520787199057   \n",
              "0  0.26364591213763267   0.05971383347025869  0.020887527059927163   \n",
              "0  0.24824099494025254  0.043039022608682406  0.015226235129680445   \n",
              "0  0.20299076639003122   0.04829463709041691  0.018146785658969006   \n",
              "\n",
              "   coef(a)_Acu-MLP-PM rsquared_Acu-MLP-PM Standard Error_Acu-MLP-PM  \\\n",
              "0  1.4720847572545706  0.9827202757276289       0.01767283999605268   \n",
              "0  0.9406393994617493  0.9669201258793427       0.01575178862743934   \n",
              "0  0.8423534782507183  0.9892086873604164      0.007965400812279776   \n",
              "0   1.180817297114149   0.980733767773115      0.014983926045133454   \n",
              "0  1.5457043470045524  0.9567193691274599      0.029764666551769438   \n",
              "0  1.0929168105484797  0.9870649054708688      0.011327110554418344   \n",
              "0  0.8424300046119113   0.982127822024469       0.01028865595264223   \n",
              "0  1.0098065462167471  0.9805142133903028      0.012888141333695743   \n",
              "0  0.9965206317398723  0.9523920081823865      0.020171511503405157   \n",
              "0  1.7531361045417242  0.9487931161381853       0.03687348035202532   \n",
              "0  0.7722670573049073   0.966054882079079      0.013106156678779488   \n",
              "0   0.973679680520605  0.9875019218882017      0.009917194567348568   \n",
              "0   1.199048187576857  0.9618444803505598       0.02162135857135005   \n",
              "0  0.7490693206820451  0.9945099400562856      0.005038787865924649   \n",
              "0  1.0235622271400269  0.9873279936959322      0.010498477050418403   \n",
              "0  0.7988563550278343  0.9808821704217728      0.010097169611035094   \n",
              "0  0.9709940040745477  0.9915393000184374      0.008120538159763137   \n",
              "0  1.1476671086339252  0.9703972350304102      0.018147942003251732   \n",
              "0  0.6668925889942653  0.9840294788617591       0.00769186167996167   \n",
              "0  0.7775262409749157  0.9877742052652689      0.007831498164956591   \n",
              "\n",
              "      coef(b)_Acu-MLP-PM  \n",
              "0    -0.5047387998429296  \n",
              "0   -0.02190630407577089  \n",
              "0     0.2636869257901733  \n",
              "0   -0.05630080602231739  \n",
              "0     0.2555549590861679  \n",
              "0    0.10924757399150062  \n",
              "0   -0.23803183672423198  \n",
              "0  -0.023511817386793914  \n",
              "0    -0.0984672819497717  \n",
              "0    -0.1897236746780926  \n",
              "0    0.09966860783658188  \n",
              "0   -0.03485115775974896  \n",
              "0    0.45262665888272413  \n",
              "0   -0.01713975924406958  \n",
              "0      0.318509407421941  \n",
              "0     0.1951380415433766  \n",
              "0    -0.1632048860394572  \n",
              "0    0.09413836233665565  \n",
              "0      0.157798734609376  \n",
              "0    0.24797883569415435  \n",
              "\n",
              "[20 rows x 34 columns]"
            ],
            "text/html": [
              "\n",
              "  <div id=\"df-aaa34239-1dee-4557-a101-0a49141f7e4c\">\n",
              "    <div class=\"colab-df-container\">\n",
              "      <div>\n",
              "<style scoped>\n",
              "    .dataframe tbody tr th:only-of-type {\n",
              "        vertical-align: middle;\n",
              "    }\n",
              "\n",
              "    .dataframe tbody tr th {\n",
              "        vertical-align: top;\n",
              "    }\n",
              "\n",
              "    .dataframe thead th {\n",
              "        text-align: right;\n",
              "    }\n",
              "</style>\n",
              "<table border=\"1\" class=\"dataframe\">\n",
              "  <thead>\n",
              "    <tr style=\"text-align: right;\">\n",
              "      <th></th>\n",
              "      <th>Unnamed: 0</th>\n",
              "      <th>Pruebas</th>\n",
              "      <th>coef(a)_6am-MLP</th>\n",
              "      <th>rsquared_6am-MLP</th>\n",
              "      <th>Standard Error_6am-MLP</th>\n",
              "      <th>coef(b)_6am-MLP</th>\n",
              "      <th>coef(a)_Acu-6am-MLP</th>\n",
              "      <th>rsquared_Acu-6am-MLP</th>\n",
              "      <th>Standard Error_Acu-6am-MLP</th>\n",
              "      <th>coef(b)_Acu-6am-MLP</th>\n",
              "      <th>...</th>\n",
              "      <th>Standard Error_Acu-Beysens-PM</th>\n",
              "      <th>coef(b)_Acu-Beysens-PM</th>\n",
              "      <th>coef(a)_MLP-PM</th>\n",
              "      <th>rsquared_MLP-PM</th>\n",
              "      <th>Standard Error_MLP-PM</th>\n",
              "      <th>coef(b)_MLP-PM</th>\n",
              "      <th>coef(a)_Acu-MLP-PM</th>\n",
              "      <th>rsquared_Acu-MLP-PM</th>\n",
              "      <th>Standard Error_Acu-MLP-PM</th>\n",
              "      <th>coef(b)_Acu-MLP-PM</th>\n",
              "    </tr>\n",
              "  </thead>\n",
              "  <tbody>\n",
              "    <tr>\n",
              "      <th>0</th>\n",
              "      <td>0</td>\n",
              "      <td>1.0</td>\n",
              "      <td>0.31308803727339085</td>\n",
              "      <td>0.3331686054504356</td>\n",
              "      <td>0.0401016801590803</td>\n",
              "      <td>0.012733320829028595</td>\n",
              "      <td>0.7455223960773738</td>\n",
              "      <td>0.9791068388472847</td>\n",
              "      <td>0.009859793402742867</td>\n",
              "      <td>-0.06931215010427123</td>\n",
              "      <td>...</td>\n",
              "      <td>0.00516263916129549</td>\n",
              "      <td>0.035613286904677056</td>\n",
              "      <td>0.5169238192259427</td>\n",
              "      <td>0.40248608726952895</td>\n",
              "      <td>0.05702235927795981</td>\n",
              "      <td>0.02296527727536855</td>\n",
              "      <td>1.4720847572545706</td>\n",
              "      <td>0.9827202757276289</td>\n",
              "      <td>0.01767283999605268</td>\n",
              "      <td>-0.5047387998429296</td>\n",
              "    </tr>\n",
              "    <tr>\n",
              "      <th>0</th>\n",
              "      <td>0</td>\n",
              "      <td>2.0</td>\n",
              "      <td>0.3848851298116347</td>\n",
              "      <td>0.07381630370867287</td>\n",
              "      <td>0.12343080528468561</td>\n",
              "      <td>0.023669841748787356</td>\n",
              "      <td>1.198879914421366</td>\n",
              "      <td>0.9081566028740408</td>\n",
              "      <td>0.03451750252989892</td>\n",
              "      <td>-0.2809303083603534</td>\n",
              "      <td>...</td>\n",
              "      <td>0.002575460320423237</td>\n",
              "      <td>0.17762708242766478</td>\n",
              "      <td>0.24576106849908746</td>\n",
              "      <td>0.16943133931548193</td>\n",
              "      <td>0.0492633663837274</td>\n",
              "      <td>0.018289037524023194</td>\n",
              "      <td>0.9406393994617493</td>\n",
              "      <td>0.9669201258793427</td>\n",
              "      <td>0.01575178862743934</td>\n",
              "      <td>-0.02190630407577089</td>\n",
              "    </tr>\n",
              "    <tr>\n",
              "      <th>0</th>\n",
              "      <td>0</td>\n",
              "      <td>3.0</td>\n",
              "      <td>0.7002121639555752</td>\n",
              "      <td>0.5216827313993018</td>\n",
              "      <td>0.06070221519517972</td>\n",
              "      <td>0.008404027280125917</td>\n",
              "      <td>0.8351667237643019</td>\n",
              "      <td>0.9818279782513647</td>\n",
              "      <td>0.010286726397065992</td>\n",
              "      <td>0.42174206262576036</td>\n",
              "      <td>...</td>\n",
              "      <td>0.005044500186642591</td>\n",
              "      <td>0.04368723065344185</td>\n",
              "      <td>0.3383411295275826</td>\n",
              "      <td>0.3404991709244578</td>\n",
              "      <td>0.04263089995968173</td>\n",
              "      <td>0.01581460172480245</td>\n",
              "      <td>0.8423534782507183</td>\n",
              "      <td>0.9892086873604164</td>\n",
              "      <td>0.007965400812279776</td>\n",
              "      <td>0.2636869257901733</td>\n",
              "    </tr>\n",
              "    <tr>\n",
              "      <th>0</th>\n",
              "      <td>0</td>\n",
              "      <td>4.0</td>\n",
              "      <td>0.42478369803310384</td>\n",
              "      <td>0.5626473482389169</td>\n",
              "      <td>0.033906710347009476</td>\n",
              "      <td>0.01325931710413885</td>\n",
              "      <td>0.799121256090052</td>\n",
              "      <td>0.9863736879194498</td>\n",
              "      <td>0.008503568119213515</td>\n",
              "      <td>-0.0528134787159216</td>\n",
              "      <td>...</td>\n",
              "      <td>0.0026848443052946242</td>\n",
              "      <td>-0.05178614592211955</td>\n",
              "      <td>0.5384401639425658</td>\n",
              "      <td>0.28843779697026584</td>\n",
              "      <td>0.07656634036916433</td>\n",
              "      <td>0.016581486950739643</td>\n",
              "      <td>1.180817297114149</td>\n",
              "      <td>0.980733767773115</td>\n",
              "      <td>0.014983926045133454</td>\n",
              "      <td>-0.05630080602231739</td>\n",
              "    </tr>\n",
              "    <tr>\n",
              "      <th>0</th>\n",
              "      <td>0</td>\n",
              "      <td>5.0</td>\n",
              "      <td>0.4296042656017296</td>\n",
              "      <td>0.20173984292806857</td>\n",
              "      <td>0.07736865771314885</td>\n",
              "      <td>0.022091435484920225</td>\n",
              "      <td>1.158445448508508</td>\n",
              "      <td>0.9242656820661893</td>\n",
              "      <td>0.03002227620737448</td>\n",
              "      <td>0.2541159172480594</td>\n",
              "      <td>...</td>\n",
              "      <td>0.004779598700008863</td>\n",
              "      <td>-0.05555229817183934</td>\n",
              "      <td>0.2818200084032509</td>\n",
              "      <td>0.10858620546937636</td>\n",
              "      <td>0.07310452265532329</td>\n",
              "      <td>0.03763028944486872</td>\n",
              "      <td>1.5457043470045524</td>\n",
              "      <td>0.9567193691274599</td>\n",
              "      <td>0.029764666551769438</td>\n",
              "      <td>0.2555549590861679</td>\n",
              "    </tr>\n",
              "    <tr>\n",
              "      <th>0</th>\n",
              "      <td>0</td>\n",
              "      <td>6.0</td>\n",
              "      <td>0.7489676533922068</td>\n",
              "      <td>0.5426131968395358</td>\n",
              "      <td>0.06225579432347322</td>\n",
              "      <td>0.010082852087916925</td>\n",
              "      <td>1.2355978530291625</td>\n",
              "      <td>0.9685099383385198</td>\n",
              "      <td>0.020171209600559518</td>\n",
              "      <td>-0.19235532350850143</td>\n",
              "      <td>...</td>\n",
              "      <td>0.005013896944520109</td>\n",
              "      <td>-0.030162453306611398</td>\n",
              "      <td>0.4406048094958531</td>\n",
              "      <td>0.38944390304822296</td>\n",
              "      <td>0.049947023889002955</td>\n",
              "      <td>0.015924744254539352</td>\n",
              "      <td>1.0929168105484797</td>\n",
              "      <td>0.9870649054708688</td>\n",
              "      <td>0.011327110554418344</td>\n",
              "      <td>0.10924757399150062</td>\n",
              "    </tr>\n",
              "    <tr>\n",
              "      <th>0</th>\n",
              "      <td>0</td>\n",
              "      <td>7.0</td>\n",
              "      <td>0.46667878093189885</td>\n",
              "      <td>0.3142632626440989</td>\n",
              "      <td>0.06241227849199327</td>\n",
              "      <td>0.022375961632093495</td>\n",
              "      <td>1.195361311633377</td>\n",
              "      <td>0.9844410634767289</td>\n",
              "      <td>0.013605495811924164</td>\n",
              "      <td>-0.0852338573035431</td>\n",
              "      <td>...</td>\n",
              "      <td>0.005125123019658115</td>\n",
              "      <td>-0.08128927236677982</td>\n",
              "      <td>0.227139660569259</td>\n",
              "      <td>0.1138085017059387</td>\n",
              "      <td>0.057383808868571556</td>\n",
              "      <td>0.01675318962963496</td>\n",
              "      <td>0.8424300046119113</td>\n",
              "      <td>0.982127822024469</td>\n",
              "      <td>0.01028865595264223</td>\n",
              "      <td>-0.23803183672423198</td>\n",
              "    </tr>\n",
              "    <tr>\n",
              "      <th>0</th>\n",
              "      <td>0</td>\n",
              "      <td>8.0</td>\n",
              "      <td>0.437760539383256</td>\n",
              "      <td>0.2643992231467365</td>\n",
              "      <td>0.06610704248401403</td>\n",
              "      <td>0.016968562265487895</td>\n",
              "      <td>0.7685640303889951</td>\n",
              "      <td>0.9625407107856573</td>\n",
              "      <td>0.01372683311828699</td>\n",
              "      <td>0.5546376291604866</td>\n",
              "      <td>...</td>\n",
              "      <td>0.0038940620623488507</td>\n",
              "      <td>-0.052412951746513524</td>\n",
              "      <td>0.31862721649560233</td>\n",
              "      <td>0.22257411465955712</td>\n",
              "      <td>0.05391320518606187</td>\n",
              "      <td>0.024991897914179217</td>\n",
              "      <td>1.0098065462167471</td>\n",
              "      <td>0.9805142133903028</td>\n",
              "      <td>0.012888141333695743</td>\n",
              "      <td>-0.023511817386793914</td>\n",
              "    </tr>\n",
              "    <tr>\n",
              "      <th>0</th>\n",
              "      <td>0</td>\n",
              "      <td>9.0</td>\n",
              "      <td>0.39390063330794506</td>\n",
              "      <td>0.16651062977946451</td>\n",
              "      <td>0.07978768422148831</td>\n",
              "      <td>0.022768358602347334</td>\n",
              "      <td>1.2370824316674174</td>\n",
              "      <td>0.9542669928130638</td>\n",
              "      <td>0.02451876846318403</td>\n",
              "      <td>-0.22508567034059113</td>\n",
              "      <td>...</td>\n",
              "      <td>0.006609354363662432</td>\n",
              "      <td>0.10780430218843738</td>\n",
              "      <td>0.2767500285690684</td>\n",
              "      <td>0.08140843239499818</td>\n",
              "      <td>0.08416554181429087</td>\n",
              "      <td>0.021417280552676707</td>\n",
              "      <td>0.9965206317398723</td>\n",
              "      <td>0.9523920081823865</td>\n",
              "      <td>0.020171511503405157</td>\n",
              "      <td>-0.0984672819497717</td>\n",
              "    </tr>\n",
              "    <tr>\n",
              "      <th>0</th>\n",
              "      <td>0</td>\n",
              "      <td>10.0</td>\n",
              "      <td>0.46708987237085914</td>\n",
              "      <td>0.39268626015598584</td>\n",
              "      <td>0.05259012907887567</td>\n",
              "      <td>0.02673287633961602</td>\n",
              "      <td>1.4914407981496263</td>\n",
              "      <td>0.9732079427452853</td>\n",
              "      <td>0.022404038634748026</td>\n",
              "      <td>-0.21839675796587812</td>\n",
              "      <td>...</td>\n",
              "      <td>0.009405283306602953</td>\n",
              "      <td>-0.0022503069158106084</td>\n",
              "      <td>0.5060781926464502</td>\n",
              "      <td>0.13270661491225888</td>\n",
              "      <td>0.1171316959057813</td>\n",
              "      <td>0.033768980363154295</td>\n",
              "      <td>1.7531361045417242</td>\n",
              "      <td>0.9487931161381853</td>\n",
              "      <td>0.03687348035202532</td>\n",
              "      <td>-0.1897236746780926</td>\n",
              "    </tr>\n",
              "    <tr>\n",
              "      <th>0</th>\n",
              "      <td>0</td>\n",
              "      <td>11.0</td>\n",
              "      <td>0.25445115389210804</td>\n",
              "      <td>0.13630636100905413</td>\n",
              "      <td>0.0579890931019989</td>\n",
              "      <td>0.014119477652782712</td>\n",
              "      <td>0.627937891504242</td>\n",
              "      <td>0.9632498930296568</td>\n",
              "      <td>0.011104438327445149</td>\n",
              "      <td>0.2010251814407184</td>\n",
              "      <td>...</td>\n",
              "      <td>0.0010449931349528075</td>\n",
              "      <td>-0.026056622146340403</td>\n",
              "      <td>0.2611404330032648</td>\n",
              "      <td>0.18563323855663472</td>\n",
              "      <td>0.049519505233694604</td>\n",
              "      <td>0.017606091278694874</td>\n",
              "      <td>0.7722670573049073</td>\n",
              "      <td>0.966054882079079</td>\n",
              "      <td>0.013106156678779488</td>\n",
              "      <td>0.09966860783658188</td>\n",
              "    </tr>\n",
              "    <tr>\n",
              "      <th>0</th>\n",
              "      <td>0</td>\n",
              "      <td>12.0</td>\n",
              "      <td>0.3421628984383864</td>\n",
              "      <td>0.33698282834149196</td>\n",
              "      <td>0.04345217232746519</td>\n",
              "      <td>0.008653039396707956</td>\n",
              "      <td>0.6371401051645239</td>\n",
              "      <td>0.9914861469145082</td>\n",
              "      <td>0.0053453331361520496</td>\n",
              "      <td>0.0010747224937787958</td>\n",
              "      <td>...</td>\n",
              "      <td>0.005049784931949527</td>\n",
              "      <td>0.13743977355278736</td>\n",
              "      <td>0.2818715851077369</td>\n",
              "      <td>0.08784764374818232</td>\n",
              "      <td>0.08223186805818024</td>\n",
              "      <td>0.020443330620650166</td>\n",
              "      <td>0.973679680520605</td>\n",
              "      <td>0.9875019218882017</td>\n",
              "      <td>0.009917194567348568</td>\n",
              "      <td>-0.03485115775974896</td>\n",
              "    </tr>\n",
              "    <tr>\n",
              "      <th>0</th>\n",
              "      <td>0</td>\n",
              "      <td>13.0</td>\n",
              "      <td>0.6307957375046586</td>\n",
              "      <td>0.3224267964051174</td>\n",
              "      <td>0.08278875887060892</td>\n",
              "      <td>0.02310993889927979</td>\n",
              "      <td>1.2271404392521295</td>\n",
              "      <td>0.971278020792224</td>\n",
              "      <td>0.01910511924784986</td>\n",
              "      <td>0.5340769009228374</td>\n",
              "      <td>...</td>\n",
              "      <td>0.004735673750587108</td>\n",
              "      <td>-0.026818167972567378</td>\n",
              "      <td>0.30197476344060603</td>\n",
              "      <td>0.16261709566367666</td>\n",
              "      <td>0.06203970299122766</td>\n",
              "      <td>0.029334817801619402</td>\n",
              "      <td>1.199048187576857</td>\n",
              "      <td>0.9618444803505598</td>\n",
              "      <td>0.02162135857135005</td>\n",
              "      <td>0.45262665888272413</td>\n",
              "    </tr>\n",
              "    <tr>\n",
              "      <th>0</th>\n",
              "      <td>0</td>\n",
              "      <td>14.0</td>\n",
              "      <td>0.46343055608613043</td>\n",
              "      <td>0.29095721057638646</td>\n",
              "      <td>0.06549775378287762</td>\n",
              "      <td>0.019406142542058982</td>\n",
              "      <td>1.2014668866376468</td>\n",
              "      <td>0.9882609713884727</td>\n",
              "      <td>0.011855289086710722</td>\n",
              "      <td>-0.14281162953103252</td>\n",
              "      <td>...</td>\n",
              "      <td>0.005959669410091187</td>\n",
              "      <td>-0.10092005792674794</td>\n",
              "      <td>0.2613558332370738</td>\n",
              "      <td>0.2107277812660704</td>\n",
              "      <td>0.04579359813328846</td>\n",
              "      <td>0.014927007300989219</td>\n",
              "      <td>0.7490693206820451</td>\n",
              "      <td>0.9945099400562856</td>\n",
              "      <td>0.005038787865924649</td>\n",
              "      <td>-0.01713975924406958</td>\n",
              "    </tr>\n",
              "    <tr>\n",
              "      <th>0</th>\n",
              "      <td>0</td>\n",
              "      <td>15.0</td>\n",
              "      <td>0.4330721603424114</td>\n",
              "      <td>0.4510504526899747</td>\n",
              "      <td>0.04325476953461103</td>\n",
              "      <td>0.014826711523140286</td>\n",
              "      <td>0.8410841222244749</td>\n",
              "      <td>0.985356185618925</td>\n",
              "      <td>0.009283035334905211</td>\n",
              "      <td>0.39869290521369544</td>\n",
              "      <td>...</td>\n",
              "      <td>0.003963851582656289</td>\n",
              "      <td>0.0048124870755929</td>\n",
              "      <td>0.4075070287109439</td>\n",
              "      <td>0.34668715926132754</td>\n",
              "      <td>0.0506462011734745</td>\n",
              "      <td>0.02052870294291215</td>\n",
              "      <td>1.0235622271400269</td>\n",
              "      <td>0.9873279936959322</td>\n",
              "      <td>0.010498477050418403</td>\n",
              "      <td>0.318509407421941</td>\n",
              "    </tr>\n",
              "    <tr>\n",
              "      <th>0</th>\n",
              "      <td>0</td>\n",
              "      <td>16.0</td>\n",
              "      <td>0.47373384162582616</td>\n",
              "      <td>0.45195994716128607</td>\n",
              "      <td>0.04722920657659531</td>\n",
              "      <td>0.01079733359601756</td>\n",
              "      <td>0.7488454068075505</td>\n",
              "      <td>0.9821120216093255</td>\n",
              "      <td>0.009149816268009836</td>\n",
              "      <td>0.14776024142105676</td>\n",
              "      <td>...</td>\n",
              "      <td>0.007397481649231221</td>\n",
              "      <td>0.1489573990829159</td>\n",
              "      <td>0.20888132633404016</td>\n",
              "      <td>0.1463744816307896</td>\n",
              "      <td>0.045668919909972246</td>\n",
              "      <td>0.01952252288170222</td>\n",
              "      <td>0.7988563550278343</td>\n",
              "      <td>0.9808821704217728</td>\n",
              "      <td>0.010097169611035094</td>\n",
              "      <td>0.1951380415433766</td>\n",
              "    </tr>\n",
              "    <tr>\n",
              "      <th>0</th>\n",
              "      <td>0</td>\n",
              "      <td>17.0</td>\n",
              "      <td>0.47798943140018957</td>\n",
              "      <td>0.3082293731652921</td>\n",
              "      <td>0.06483095617806689</td>\n",
              "      <td>0.02034738074014398</td>\n",
              "      <td>1.2104626610726048</td>\n",
              "      <td>0.9770122395929568</td>\n",
              "      <td>0.016810081192020845</td>\n",
              "      <td>-0.026044401984534706</td>\n",
              "      <td>...</td>\n",
              "      <td>0.004737962599528334</td>\n",
              "      <td>-0.07008442710181165</td>\n",
              "      <td>0.2815489609301509</td>\n",
              "      <td>0.1697081937565772</td>\n",
              "      <td>0.05638166959766779</td>\n",
              "      <td>0.020378520787199057</td>\n",
              "      <td>0.9709940040745477</td>\n",
              "      <td>0.9915393000184374</td>\n",
              "      <td>0.008120538159763137</td>\n",
              "      <td>-0.1632048860394572</td>\n",
              "    </tr>\n",
              "    <tr>\n",
              "      <th>0</th>\n",
              "      <td>0</td>\n",
              "      <td>18.0</td>\n",
              "      <td>0.7194029969761618</td>\n",
              "      <td>0.43210755055033123</td>\n",
              "      <td>0.07466713162412238</td>\n",
              "      <td>0.015510378336649876</td>\n",
              "      <td>1.2831785876051072</td>\n",
              "      <td>0.9797195384107654</td>\n",
              "      <td>0.016714570523332146</td>\n",
              "      <td>0.33077033038618214</td>\n",
              "      <td>...</td>\n",
              "      <td>0.009471794801177588</td>\n",
              "      <td>-0.04388719608616527</td>\n",
              "      <td>0.3946590225698345</td>\n",
              "      <td>0.26364591213763267</td>\n",
              "      <td>0.05971383347025869</td>\n",
              "      <td>0.020887527059927163</td>\n",
              "      <td>1.1476671086339252</td>\n",
              "      <td>0.9703972350304102</td>\n",
              "      <td>0.018147942003251732</td>\n",
              "      <td>0.09413836233665565</td>\n",
              "    </tr>\n",
              "    <tr>\n",
              "      <th>0</th>\n",
              "      <td>0</td>\n",
              "      <td>19.0</td>\n",
              "      <td>0.2775460435155994</td>\n",
              "      <td>0.22578387965921898</td>\n",
              "      <td>0.04653072458289932</td>\n",
              "      <td>0.017834386594798492</td>\n",
              "      <td>0.7094376296576353</td>\n",
              "      <td>0.9834730684791746</td>\n",
              "      <td>0.008326244937860832</td>\n",
              "      <td>0.2833291767378928</td>\n",
              "      <td>...</td>\n",
              "      <td>0.005405571799517828</td>\n",
              "      <td>0.173928835150046</td>\n",
              "      <td>0.27317425201845447</td>\n",
              "      <td>0.24824099494025254</td>\n",
              "      <td>0.043039022608682406</td>\n",
              "      <td>0.015226235129680445</td>\n",
              "      <td>0.6668925889942653</td>\n",
              "      <td>0.9840294788617591</td>\n",
              "      <td>0.00769186167996167</td>\n",
              "      <td>0.157798734609376</td>\n",
              "    </tr>\n",
              "    <tr>\n",
              "      <th>0</th>\n",
              "      <td>0</td>\n",
              "      <td>20.0</td>\n",
              "      <td>0.6760852931872088</td>\n",
              "      <td>0.5082257086462649</td>\n",
              "      <td>0.06021104346823116</td>\n",
              "      <td>0.016547409539939432</td>\n",
              "      <td>1.1551213378245726</td>\n",
              "      <td>0.9818212097760717</td>\n",
              "      <td>0.014230297356992588</td>\n",
              "      <td>0.2391320773213625</td>\n",
              "      <td>...</td>\n",
              "      <td>0.003082018105587368</td>\n",
              "      <td>-0.027265606515744625</td>\n",
              "      <td>0.2692063789552896</td>\n",
              "      <td>0.20299076639003122</td>\n",
              "      <td>0.04829463709041691</td>\n",
              "      <td>0.018146785658969006</td>\n",
              "      <td>0.7775262409749157</td>\n",
              "      <td>0.9877742052652689</td>\n",
              "      <td>0.007831498164956591</td>\n",
              "      <td>0.24797883569415435</td>\n",
              "    </tr>\n",
              "  </tbody>\n",
              "</table>\n",
              "<p>20 rows × 34 columns</p>\n",
              "</div>\n",
              "      <button class=\"colab-df-convert\" onclick=\"convertToInteractive('df-aaa34239-1dee-4557-a101-0a49141f7e4c')\"\n",
              "              title=\"Convert this dataframe to an interactive table.\"\n",
              "              style=\"display:none;\">\n",
              "        \n",
              "  <svg xmlns=\"http://www.w3.org/2000/svg\" height=\"24px\"viewBox=\"0 0 24 24\"\n",
              "       width=\"24px\">\n",
              "    <path d=\"M0 0h24v24H0V0z\" fill=\"none\"/>\n",
              "    <path d=\"M18.56 5.44l.94 2.06.94-2.06 2.06-.94-2.06-.94-.94-2.06-.94 2.06-2.06.94zm-11 1L8.5 8.5l.94-2.06 2.06-.94-2.06-.94L8.5 2.5l-.94 2.06-2.06.94zm10 10l.94 2.06.94-2.06 2.06-.94-2.06-.94-.94-2.06-.94 2.06-2.06.94z\"/><path d=\"M17.41 7.96l-1.37-1.37c-.4-.4-.92-.59-1.43-.59-.52 0-1.04.2-1.43.59L10.3 9.45l-7.72 7.72c-.78.78-.78 2.05 0 2.83L4 21.41c.39.39.9.59 1.41.59.51 0 1.02-.2 1.41-.59l7.78-7.78 2.81-2.81c.8-.78.8-2.07 0-2.86zM5.41 20L4 18.59l7.72-7.72 1.47 1.35L5.41 20z\"/>\n",
              "  </svg>\n",
              "      </button>\n",
              "      \n",
              "  <style>\n",
              "    .colab-df-container {\n",
              "      display:flex;\n",
              "      flex-wrap:wrap;\n",
              "      gap: 12px;\n",
              "    }\n",
              "\n",
              "    .colab-df-convert {\n",
              "      background-color: #E8F0FE;\n",
              "      border: none;\n",
              "      border-radius: 50%;\n",
              "      cursor: pointer;\n",
              "      display: none;\n",
              "      fill: #1967D2;\n",
              "      height: 32px;\n",
              "      padding: 0 0 0 0;\n",
              "      width: 32px;\n",
              "    }\n",
              "\n",
              "    .colab-df-convert:hover {\n",
              "      background-color: #E2EBFA;\n",
              "      box-shadow: 0px 1px 2px rgba(60, 64, 67, 0.3), 0px 1px 3px 1px rgba(60, 64, 67, 0.15);\n",
              "      fill: #174EA6;\n",
              "    }\n",
              "\n",
              "    [theme=dark] .colab-df-convert {\n",
              "      background-color: #3B4455;\n",
              "      fill: #D2E3FC;\n",
              "    }\n",
              "\n",
              "    [theme=dark] .colab-df-convert:hover {\n",
              "      background-color: #434B5C;\n",
              "      box-shadow: 0px 1px 3px 1px rgba(0, 0, 0, 0.15);\n",
              "      filter: drop-shadow(0px 1px 2px rgba(0, 0, 0, 0.3));\n",
              "      fill: #FFFFFF;\n",
              "    }\n",
              "  </style>\n",
              "\n",
              "      <script>\n",
              "        const buttonEl =\n",
              "          document.querySelector('#df-aaa34239-1dee-4557-a101-0a49141f7e4c button.colab-df-convert');\n",
              "        buttonEl.style.display =\n",
              "          google.colab.kernel.accessAllowed ? 'block' : 'none';\n",
              "\n",
              "        async function convertToInteractive(key) {\n",
              "          const element = document.querySelector('#df-aaa34239-1dee-4557-a101-0a49141f7e4c');\n",
              "          const dataTable =\n",
              "            await google.colab.kernel.invokeFunction('convertToInteractive',\n",
              "                                                     [key], {});\n",
              "          if (!dataTable) return;\n",
              "\n",
              "          const docLinkHtml = 'Like what you see? Visit the ' +\n",
              "            '<a target=\"_blank\" href=https://colab.research.google.com/notebooks/data_table.ipynb>data table notebook</a>'\n",
              "            + ' to learn more about interactive tables.';\n",
              "          element.innerHTML = '';\n",
              "          dataTable['output_type'] = 'display_data';\n",
              "          await google.colab.output.renderOutput(dataTable, element);\n",
              "          const docLink = document.createElement('div');\n",
              "          docLink.innerHTML = docLinkHtml;\n",
              "          element.appendChild(docLink);\n",
              "        }\n",
              "      </script>\n",
              "    </div>\n",
              "  </div>\n",
              "  "
            ]
          },
          "metadata": {},
          "execution_count": 80
        }
      ]
    },
    {
      "cell_type": "code",
      "source": [
        "resultadoDatos = resultadoDatos.drop(['Unnamed: 0'], axis=1)"
      ],
      "metadata": {
        "id": "KYz9cnBatZXo"
      },
      "execution_count": null,
      "outputs": []
    },
    {
      "cell_type": "code",
      "source": [
        "resultadoDatos"
      ],
      "metadata": {
        "colab": {
          "base_uri": "https://localhost:8080/",
          "height": 765
        },
        "id": "jf4XOESauLZK",
        "outputId": "5bef6bed-89a5-43c2-bf80-e57e70fc8332"
      },
      "execution_count": null,
      "outputs": [
        {
          "output_type": "execute_result",
          "data": {
            "text/plain": [
              "  Pruebas      coef(a)_6am-MLP     rsquared_6am-MLP Standard Error_6am-MLP  \\\n",
              "0     1.0  0.31308803727339085   0.3331686054504356     0.0401016801590803   \n",
              "0     2.0   0.3848851298116347  0.07381630370867287    0.12343080528468561   \n",
              "0     3.0   0.7002121639555752   0.5216827313993018    0.06070221519517972   \n",
              "0     4.0  0.42478369803310384   0.5626473482389169   0.033906710347009476   \n",
              "0     5.0   0.4296042656017296  0.20173984292806857    0.07736865771314885   \n",
              "0     6.0   0.7489676533922068   0.5426131968395358    0.06225579432347322   \n",
              "0     7.0  0.46667878093189885   0.3142632626440989    0.06241227849199327   \n",
              "0     8.0    0.437760539383256   0.2643992231467365    0.06610704248401403   \n",
              "0     9.0  0.39390063330794506  0.16651062977946451    0.07978768422148831   \n",
              "0    10.0  0.46708987237085914  0.39268626015598584    0.05259012907887567   \n",
              "0    11.0  0.25445115389210804  0.13630636100905413     0.0579890931019989   \n",
              "0    12.0   0.3421628984383864  0.33698282834149196    0.04345217232746519   \n",
              "0    13.0   0.6307957375046586   0.3224267964051174    0.08278875887060892   \n",
              "0    14.0  0.46343055608613043  0.29095721057638646    0.06549775378287762   \n",
              "0    15.0   0.4330721603424114   0.4510504526899747    0.04325476953461103   \n",
              "0    16.0  0.47373384162582616  0.45195994716128607    0.04722920657659531   \n",
              "0    17.0  0.47798943140018957   0.3082293731652921    0.06483095617806689   \n",
              "0    18.0   0.7194029969761618  0.43210755055033123    0.07466713162412238   \n",
              "0    19.0   0.2775460435155994  0.22578387965921898    0.04653072458289932   \n",
              "0    20.0   0.6760852931872088   0.5082257086462649    0.06021104346823116   \n",
              "\n",
              "        coef(b)_6am-MLP coef(a)_Acu-6am-MLP rsquared_Acu-6am-MLP  \\\n",
              "0  0.012733320829028595  0.7455223960773738   0.9791068388472847   \n",
              "0  0.023669841748787356   1.198879914421366   0.9081566028740408   \n",
              "0  0.008404027280125917  0.8351667237643019   0.9818279782513647   \n",
              "0   0.01325931710413885   0.799121256090052   0.9863736879194498   \n",
              "0  0.022091435484920225   1.158445448508508   0.9242656820661893   \n",
              "0  0.010082852087916925  1.2355978530291625   0.9685099383385198   \n",
              "0  0.022375961632093495   1.195361311633377   0.9844410634767289   \n",
              "0  0.016968562265487895  0.7685640303889951   0.9625407107856573   \n",
              "0  0.022768358602347334  1.2370824316674174   0.9542669928130638   \n",
              "0   0.02673287633961602  1.4914407981496263   0.9732079427452853   \n",
              "0  0.014119477652782712   0.627937891504242   0.9632498930296568   \n",
              "0  0.008653039396707956  0.6371401051645239   0.9914861469145082   \n",
              "0   0.02310993889927979  1.2271404392521295    0.971278020792224   \n",
              "0  0.019406142542058982  1.2014668866376468   0.9882609713884727   \n",
              "0  0.014826711523140286  0.8410841222244749    0.985356185618925   \n",
              "0   0.01079733359601756  0.7488454068075505   0.9821120216093255   \n",
              "0   0.02034738074014398  1.2104626610726048   0.9770122395929568   \n",
              "0  0.015510378336649876  1.2831785876051072   0.9797195384107654   \n",
              "0  0.017834386594798492  0.7094376296576353   0.9834730684791746   \n",
              "0  0.016547409539939432  1.1551213378245726   0.9818212097760717   \n",
              "\n",
              "  Standard Error_Acu-6am-MLP    coef(b)_Acu-6am-MLP coef(a)_6am-Beysens  ...  \\\n",
              "0       0.009859793402742867   -0.06931215010427123  0.5788744212224292  ...   \n",
              "0        0.03451750252989892    -0.2809303083603534  0.7062574468875472  ...   \n",
              "0       0.010286726397065992    0.42174206262576036  0.9494546617442088  ...   \n",
              "0       0.008503568119213515    -0.0528134787159216  0.6422147822014861  ...   \n",
              "0        0.03002227620737448     0.2541159172480594  0.7572897118727793  ...   \n",
              "0       0.020171209600559518   -0.19235532350850143  0.6027001444354609  ...   \n",
              "0       0.013605495811924164    -0.0852338573035431  0.3555628746736983  ...   \n",
              "0        0.01372683311828699     0.5546376291604866  0.5739922025085711  ...   \n",
              "0        0.02451876846318403   -0.22508567034059113  0.5107107419686856  ...   \n",
              "0       0.022404038634748026   -0.21839675796587812  0.7069949383761389  ...   \n",
              "0       0.011104438327445149     0.2010251814407184  0.8762587532524023  ...   \n",
              "0      0.0053453331361520496  0.0010747224937787958  0.6065472095616347  ...   \n",
              "0        0.01910511924784986     0.5340769009228374  0.4576463482901221  ...   \n",
              "0       0.011855289086710722   -0.14281162953103252  0.7520771078937539  ...   \n",
              "0       0.009283035334905211    0.39869290521369544  0.6245181890788517  ...   \n",
              "0       0.009149816268009836    0.14776024142105676  0.5826051225607669  ...   \n",
              "0       0.016810081192020845  -0.026044401984534706  0.8085818115120118  ...   \n",
              "0       0.016714570523332146    0.33077033038618214  1.0441627055531786  ...   \n",
              "0       0.008326244937860832     0.2833291767378928  0.4779574453865171  ...   \n",
              "0       0.014230297356992588     0.2391320773213625  0.5965922427702124  ...   \n",
              "\n",
              "  Standard Error_Acu-Beysens-PM  coef(b)_Acu-Beysens-PM       coef(a)_MLP-PM  \\\n",
              "0           0.00516263916129549    0.035613286904677056   0.5169238192259427   \n",
              "0          0.002575460320423237     0.17762708242766478  0.24576106849908746   \n",
              "0          0.005044500186642591     0.04368723065344185   0.3383411295275826   \n",
              "0         0.0026848443052946242    -0.05178614592211955   0.5384401639425658   \n",
              "0          0.004779598700008863    -0.05555229817183934   0.2818200084032509   \n",
              "0          0.005013896944520109   -0.030162453306611398   0.4406048094958531   \n",
              "0          0.005125123019658115    -0.08128927236677982    0.227139660569259   \n",
              "0         0.0038940620623488507   -0.052412951746513524  0.31862721649560233   \n",
              "0          0.006609354363662432     0.10780430218843738   0.2767500285690684   \n",
              "0          0.009405283306602953  -0.0022503069158106084   0.5060781926464502   \n",
              "0         0.0010449931349528075   -0.026056622146340403   0.2611404330032648   \n",
              "0          0.005049784931949527     0.13743977355278736   0.2818715851077369   \n",
              "0          0.004735673750587108   -0.026818167972567378  0.30197476344060603   \n",
              "0          0.005959669410091187    -0.10092005792674794   0.2613558332370738   \n",
              "0          0.003963851582656289      0.0048124870755929   0.4075070287109439   \n",
              "0          0.007397481649231221      0.1489573990829159  0.20888132633404016   \n",
              "0          0.004737962599528334    -0.07008442710181165   0.2815489609301509   \n",
              "0          0.009471794801177588    -0.04388719608616527   0.3946590225698345   \n",
              "0          0.005405571799517828       0.173928835150046  0.27317425201845447   \n",
              "0          0.003082018105587368   -0.027265606515744625   0.2692063789552896   \n",
              "\n",
              "       rsquared_MLP-PM Standard Error_MLP-PM        coef(b)_MLP-PM  \\\n",
              "0  0.40248608726952895   0.05702235927795981   0.02296527727536855   \n",
              "0  0.16943133931548193    0.0492633663837274  0.018289037524023194   \n",
              "0   0.3404991709244578   0.04263089995968173   0.01581460172480245   \n",
              "0  0.28843779697026584   0.07656634036916433  0.016581486950739643   \n",
              "0  0.10858620546937636   0.07310452265532329   0.03763028944486872   \n",
              "0  0.38944390304822296  0.049947023889002955  0.015924744254539352   \n",
              "0   0.1138085017059387  0.057383808868571556   0.01675318962963496   \n",
              "0  0.22257411465955712   0.05391320518606187  0.024991897914179217   \n",
              "0  0.08140843239499818   0.08416554181429087  0.021417280552676707   \n",
              "0  0.13270661491225888    0.1171316959057813  0.033768980363154295   \n",
              "0  0.18563323855663472  0.049519505233694604  0.017606091278694874   \n",
              "0  0.08784764374818232   0.08223186805818024  0.020443330620650166   \n",
              "0  0.16261709566367666   0.06203970299122766  0.029334817801619402   \n",
              "0   0.2107277812660704   0.04579359813328846  0.014927007300989219   \n",
              "0  0.34668715926132754    0.0506462011734745   0.02052870294291215   \n",
              "0   0.1463744816307896  0.045668919909972246   0.01952252288170222   \n",
              "0   0.1697081937565772   0.05638166959766779  0.020378520787199057   \n",
              "0  0.26364591213763267   0.05971383347025869  0.020887527059927163   \n",
              "0  0.24824099494025254  0.043039022608682406  0.015226235129680445   \n",
              "0  0.20299076639003122   0.04829463709041691  0.018146785658969006   \n",
              "\n",
              "   coef(a)_Acu-MLP-PM rsquared_Acu-MLP-PM Standard Error_Acu-MLP-PM  \\\n",
              "0  1.4720847572545706  0.9827202757276289       0.01767283999605268   \n",
              "0  0.9406393994617493  0.9669201258793427       0.01575178862743934   \n",
              "0  0.8423534782507183  0.9892086873604164      0.007965400812279776   \n",
              "0   1.180817297114149   0.980733767773115      0.014983926045133454   \n",
              "0  1.5457043470045524  0.9567193691274599      0.029764666551769438   \n",
              "0  1.0929168105484797  0.9870649054708688      0.011327110554418344   \n",
              "0  0.8424300046119113   0.982127822024469       0.01028865595264223   \n",
              "0  1.0098065462167471  0.9805142133903028      0.012888141333695743   \n",
              "0  0.9965206317398723  0.9523920081823865      0.020171511503405157   \n",
              "0  1.7531361045417242  0.9487931161381853       0.03687348035202532   \n",
              "0  0.7722670573049073   0.966054882079079      0.013106156678779488   \n",
              "0   0.973679680520605  0.9875019218882017      0.009917194567348568   \n",
              "0   1.199048187576857  0.9618444803505598       0.02162135857135005   \n",
              "0  0.7490693206820451  0.9945099400562856      0.005038787865924649   \n",
              "0  1.0235622271400269  0.9873279936959322      0.010498477050418403   \n",
              "0  0.7988563550278343  0.9808821704217728      0.010097169611035094   \n",
              "0  0.9709940040745477  0.9915393000184374      0.008120538159763137   \n",
              "0  1.1476671086339252  0.9703972350304102      0.018147942003251732   \n",
              "0  0.6668925889942653  0.9840294788617591       0.00769186167996167   \n",
              "0  0.7775262409749157  0.9877742052652689      0.007831498164956591   \n",
              "\n",
              "      coef(b)_Acu-MLP-PM  \n",
              "0    -0.5047387998429296  \n",
              "0   -0.02190630407577089  \n",
              "0     0.2636869257901733  \n",
              "0   -0.05630080602231739  \n",
              "0     0.2555549590861679  \n",
              "0    0.10924757399150062  \n",
              "0   -0.23803183672423198  \n",
              "0  -0.023511817386793914  \n",
              "0    -0.0984672819497717  \n",
              "0    -0.1897236746780926  \n",
              "0    0.09966860783658188  \n",
              "0   -0.03485115775974896  \n",
              "0    0.45262665888272413  \n",
              "0   -0.01713975924406958  \n",
              "0      0.318509407421941  \n",
              "0     0.1951380415433766  \n",
              "0    -0.1632048860394572  \n",
              "0    0.09413836233665565  \n",
              "0      0.157798734609376  \n",
              "0    0.24797883569415435  \n",
              "\n",
              "[20 rows x 33 columns]"
            ],
            "text/html": [
              "\n",
              "  <div id=\"df-11efdd0e-6e6f-408c-8ed0-731b5ad37b18\">\n",
              "    <div class=\"colab-df-container\">\n",
              "      <div>\n",
              "<style scoped>\n",
              "    .dataframe tbody tr th:only-of-type {\n",
              "        vertical-align: middle;\n",
              "    }\n",
              "\n",
              "    .dataframe tbody tr th {\n",
              "        vertical-align: top;\n",
              "    }\n",
              "\n",
              "    .dataframe thead th {\n",
              "        text-align: right;\n",
              "    }\n",
              "</style>\n",
              "<table border=\"1\" class=\"dataframe\">\n",
              "  <thead>\n",
              "    <tr style=\"text-align: right;\">\n",
              "      <th></th>\n",
              "      <th>Pruebas</th>\n",
              "      <th>coef(a)_6am-MLP</th>\n",
              "      <th>rsquared_6am-MLP</th>\n",
              "      <th>Standard Error_6am-MLP</th>\n",
              "      <th>coef(b)_6am-MLP</th>\n",
              "      <th>coef(a)_Acu-6am-MLP</th>\n",
              "      <th>rsquared_Acu-6am-MLP</th>\n",
              "      <th>Standard Error_Acu-6am-MLP</th>\n",
              "      <th>coef(b)_Acu-6am-MLP</th>\n",
              "      <th>coef(a)_6am-Beysens</th>\n",
              "      <th>...</th>\n",
              "      <th>Standard Error_Acu-Beysens-PM</th>\n",
              "      <th>coef(b)_Acu-Beysens-PM</th>\n",
              "      <th>coef(a)_MLP-PM</th>\n",
              "      <th>rsquared_MLP-PM</th>\n",
              "      <th>Standard Error_MLP-PM</th>\n",
              "      <th>coef(b)_MLP-PM</th>\n",
              "      <th>coef(a)_Acu-MLP-PM</th>\n",
              "      <th>rsquared_Acu-MLP-PM</th>\n",
              "      <th>Standard Error_Acu-MLP-PM</th>\n",
              "      <th>coef(b)_Acu-MLP-PM</th>\n",
              "    </tr>\n",
              "  </thead>\n",
              "  <tbody>\n",
              "    <tr>\n",
              "      <th>0</th>\n",
              "      <td>1.0</td>\n",
              "      <td>0.31308803727339085</td>\n",
              "      <td>0.3331686054504356</td>\n",
              "      <td>0.0401016801590803</td>\n",
              "      <td>0.012733320829028595</td>\n",
              "      <td>0.7455223960773738</td>\n",
              "      <td>0.9791068388472847</td>\n",
              "      <td>0.009859793402742867</td>\n",
              "      <td>-0.06931215010427123</td>\n",
              "      <td>0.5788744212224292</td>\n",
              "      <td>...</td>\n",
              "      <td>0.00516263916129549</td>\n",
              "      <td>0.035613286904677056</td>\n",
              "      <td>0.5169238192259427</td>\n",
              "      <td>0.40248608726952895</td>\n",
              "      <td>0.05702235927795981</td>\n",
              "      <td>0.02296527727536855</td>\n",
              "      <td>1.4720847572545706</td>\n",
              "      <td>0.9827202757276289</td>\n",
              "      <td>0.01767283999605268</td>\n",
              "      <td>-0.5047387998429296</td>\n",
              "    </tr>\n",
              "    <tr>\n",
              "      <th>0</th>\n",
              "      <td>2.0</td>\n",
              "      <td>0.3848851298116347</td>\n",
              "      <td>0.07381630370867287</td>\n",
              "      <td>0.12343080528468561</td>\n",
              "      <td>0.023669841748787356</td>\n",
              "      <td>1.198879914421366</td>\n",
              "      <td>0.9081566028740408</td>\n",
              "      <td>0.03451750252989892</td>\n",
              "      <td>-0.2809303083603534</td>\n",
              "      <td>0.7062574468875472</td>\n",
              "      <td>...</td>\n",
              "      <td>0.002575460320423237</td>\n",
              "      <td>0.17762708242766478</td>\n",
              "      <td>0.24576106849908746</td>\n",
              "      <td>0.16943133931548193</td>\n",
              "      <td>0.0492633663837274</td>\n",
              "      <td>0.018289037524023194</td>\n",
              "      <td>0.9406393994617493</td>\n",
              "      <td>0.9669201258793427</td>\n",
              "      <td>0.01575178862743934</td>\n",
              "      <td>-0.02190630407577089</td>\n",
              "    </tr>\n",
              "    <tr>\n",
              "      <th>0</th>\n",
              "      <td>3.0</td>\n",
              "      <td>0.7002121639555752</td>\n",
              "      <td>0.5216827313993018</td>\n",
              "      <td>0.06070221519517972</td>\n",
              "      <td>0.008404027280125917</td>\n",
              "      <td>0.8351667237643019</td>\n",
              "      <td>0.9818279782513647</td>\n",
              "      <td>0.010286726397065992</td>\n",
              "      <td>0.42174206262576036</td>\n",
              "      <td>0.9494546617442088</td>\n",
              "      <td>...</td>\n",
              "      <td>0.005044500186642591</td>\n",
              "      <td>0.04368723065344185</td>\n",
              "      <td>0.3383411295275826</td>\n",
              "      <td>0.3404991709244578</td>\n",
              "      <td>0.04263089995968173</td>\n",
              "      <td>0.01581460172480245</td>\n",
              "      <td>0.8423534782507183</td>\n",
              "      <td>0.9892086873604164</td>\n",
              "      <td>0.007965400812279776</td>\n",
              "      <td>0.2636869257901733</td>\n",
              "    </tr>\n",
              "    <tr>\n",
              "      <th>0</th>\n",
              "      <td>4.0</td>\n",
              "      <td>0.42478369803310384</td>\n",
              "      <td>0.5626473482389169</td>\n",
              "      <td>0.033906710347009476</td>\n",
              "      <td>0.01325931710413885</td>\n",
              "      <td>0.799121256090052</td>\n",
              "      <td>0.9863736879194498</td>\n",
              "      <td>0.008503568119213515</td>\n",
              "      <td>-0.0528134787159216</td>\n",
              "      <td>0.6422147822014861</td>\n",
              "      <td>...</td>\n",
              "      <td>0.0026848443052946242</td>\n",
              "      <td>-0.05178614592211955</td>\n",
              "      <td>0.5384401639425658</td>\n",
              "      <td>0.28843779697026584</td>\n",
              "      <td>0.07656634036916433</td>\n",
              "      <td>0.016581486950739643</td>\n",
              "      <td>1.180817297114149</td>\n",
              "      <td>0.980733767773115</td>\n",
              "      <td>0.014983926045133454</td>\n",
              "      <td>-0.05630080602231739</td>\n",
              "    </tr>\n",
              "    <tr>\n",
              "      <th>0</th>\n",
              "      <td>5.0</td>\n",
              "      <td>0.4296042656017296</td>\n",
              "      <td>0.20173984292806857</td>\n",
              "      <td>0.07736865771314885</td>\n",
              "      <td>0.022091435484920225</td>\n",
              "      <td>1.158445448508508</td>\n",
              "      <td>0.9242656820661893</td>\n",
              "      <td>0.03002227620737448</td>\n",
              "      <td>0.2541159172480594</td>\n",
              "      <td>0.7572897118727793</td>\n",
              "      <td>...</td>\n",
              "      <td>0.004779598700008863</td>\n",
              "      <td>-0.05555229817183934</td>\n",
              "      <td>0.2818200084032509</td>\n",
              "      <td>0.10858620546937636</td>\n",
              "      <td>0.07310452265532329</td>\n",
              "      <td>0.03763028944486872</td>\n",
              "      <td>1.5457043470045524</td>\n",
              "      <td>0.9567193691274599</td>\n",
              "      <td>0.029764666551769438</td>\n",
              "      <td>0.2555549590861679</td>\n",
              "    </tr>\n",
              "    <tr>\n",
              "      <th>0</th>\n",
              "      <td>6.0</td>\n",
              "      <td>0.7489676533922068</td>\n",
              "      <td>0.5426131968395358</td>\n",
              "      <td>0.06225579432347322</td>\n",
              "      <td>0.010082852087916925</td>\n",
              "      <td>1.2355978530291625</td>\n",
              "      <td>0.9685099383385198</td>\n",
              "      <td>0.020171209600559518</td>\n",
              "      <td>-0.19235532350850143</td>\n",
              "      <td>0.6027001444354609</td>\n",
              "      <td>...</td>\n",
              "      <td>0.005013896944520109</td>\n",
              "      <td>-0.030162453306611398</td>\n",
              "      <td>0.4406048094958531</td>\n",
              "      <td>0.38944390304822296</td>\n",
              "      <td>0.049947023889002955</td>\n",
              "      <td>0.015924744254539352</td>\n",
              "      <td>1.0929168105484797</td>\n",
              "      <td>0.9870649054708688</td>\n",
              "      <td>0.011327110554418344</td>\n",
              "      <td>0.10924757399150062</td>\n",
              "    </tr>\n",
              "    <tr>\n",
              "      <th>0</th>\n",
              "      <td>7.0</td>\n",
              "      <td>0.46667878093189885</td>\n",
              "      <td>0.3142632626440989</td>\n",
              "      <td>0.06241227849199327</td>\n",
              "      <td>0.022375961632093495</td>\n",
              "      <td>1.195361311633377</td>\n",
              "      <td>0.9844410634767289</td>\n",
              "      <td>0.013605495811924164</td>\n",
              "      <td>-0.0852338573035431</td>\n",
              "      <td>0.3555628746736983</td>\n",
              "      <td>...</td>\n",
              "      <td>0.005125123019658115</td>\n",
              "      <td>-0.08128927236677982</td>\n",
              "      <td>0.227139660569259</td>\n",
              "      <td>0.1138085017059387</td>\n",
              "      <td>0.057383808868571556</td>\n",
              "      <td>0.01675318962963496</td>\n",
              "      <td>0.8424300046119113</td>\n",
              "      <td>0.982127822024469</td>\n",
              "      <td>0.01028865595264223</td>\n",
              "      <td>-0.23803183672423198</td>\n",
              "    </tr>\n",
              "    <tr>\n",
              "      <th>0</th>\n",
              "      <td>8.0</td>\n",
              "      <td>0.437760539383256</td>\n",
              "      <td>0.2643992231467365</td>\n",
              "      <td>0.06610704248401403</td>\n",
              "      <td>0.016968562265487895</td>\n",
              "      <td>0.7685640303889951</td>\n",
              "      <td>0.9625407107856573</td>\n",
              "      <td>0.01372683311828699</td>\n",
              "      <td>0.5546376291604866</td>\n",
              "      <td>0.5739922025085711</td>\n",
              "      <td>...</td>\n",
              "      <td>0.0038940620623488507</td>\n",
              "      <td>-0.052412951746513524</td>\n",
              "      <td>0.31862721649560233</td>\n",
              "      <td>0.22257411465955712</td>\n",
              "      <td>0.05391320518606187</td>\n",
              "      <td>0.024991897914179217</td>\n",
              "      <td>1.0098065462167471</td>\n",
              "      <td>0.9805142133903028</td>\n",
              "      <td>0.012888141333695743</td>\n",
              "      <td>-0.023511817386793914</td>\n",
              "    </tr>\n",
              "    <tr>\n",
              "      <th>0</th>\n",
              "      <td>9.0</td>\n",
              "      <td>0.39390063330794506</td>\n",
              "      <td>0.16651062977946451</td>\n",
              "      <td>0.07978768422148831</td>\n",
              "      <td>0.022768358602347334</td>\n",
              "      <td>1.2370824316674174</td>\n",
              "      <td>0.9542669928130638</td>\n",
              "      <td>0.02451876846318403</td>\n",
              "      <td>-0.22508567034059113</td>\n",
              "      <td>0.5107107419686856</td>\n",
              "      <td>...</td>\n",
              "      <td>0.006609354363662432</td>\n",
              "      <td>0.10780430218843738</td>\n",
              "      <td>0.2767500285690684</td>\n",
              "      <td>0.08140843239499818</td>\n",
              "      <td>0.08416554181429087</td>\n",
              "      <td>0.021417280552676707</td>\n",
              "      <td>0.9965206317398723</td>\n",
              "      <td>0.9523920081823865</td>\n",
              "      <td>0.020171511503405157</td>\n",
              "      <td>-0.0984672819497717</td>\n",
              "    </tr>\n",
              "    <tr>\n",
              "      <th>0</th>\n",
              "      <td>10.0</td>\n",
              "      <td>0.46708987237085914</td>\n",
              "      <td>0.39268626015598584</td>\n",
              "      <td>0.05259012907887567</td>\n",
              "      <td>0.02673287633961602</td>\n",
              "      <td>1.4914407981496263</td>\n",
              "      <td>0.9732079427452853</td>\n",
              "      <td>0.022404038634748026</td>\n",
              "      <td>-0.21839675796587812</td>\n",
              "      <td>0.7069949383761389</td>\n",
              "      <td>...</td>\n",
              "      <td>0.009405283306602953</td>\n",
              "      <td>-0.0022503069158106084</td>\n",
              "      <td>0.5060781926464502</td>\n",
              "      <td>0.13270661491225888</td>\n",
              "      <td>0.1171316959057813</td>\n",
              "      <td>0.033768980363154295</td>\n",
              "      <td>1.7531361045417242</td>\n",
              "      <td>0.9487931161381853</td>\n",
              "      <td>0.03687348035202532</td>\n",
              "      <td>-0.1897236746780926</td>\n",
              "    </tr>\n",
              "    <tr>\n",
              "      <th>0</th>\n",
              "      <td>11.0</td>\n",
              "      <td>0.25445115389210804</td>\n",
              "      <td>0.13630636100905413</td>\n",
              "      <td>0.0579890931019989</td>\n",
              "      <td>0.014119477652782712</td>\n",
              "      <td>0.627937891504242</td>\n",
              "      <td>0.9632498930296568</td>\n",
              "      <td>0.011104438327445149</td>\n",
              "      <td>0.2010251814407184</td>\n",
              "      <td>0.8762587532524023</td>\n",
              "      <td>...</td>\n",
              "      <td>0.0010449931349528075</td>\n",
              "      <td>-0.026056622146340403</td>\n",
              "      <td>0.2611404330032648</td>\n",
              "      <td>0.18563323855663472</td>\n",
              "      <td>0.049519505233694604</td>\n",
              "      <td>0.017606091278694874</td>\n",
              "      <td>0.7722670573049073</td>\n",
              "      <td>0.966054882079079</td>\n",
              "      <td>0.013106156678779488</td>\n",
              "      <td>0.09966860783658188</td>\n",
              "    </tr>\n",
              "    <tr>\n",
              "      <th>0</th>\n",
              "      <td>12.0</td>\n",
              "      <td>0.3421628984383864</td>\n",
              "      <td>0.33698282834149196</td>\n",
              "      <td>0.04345217232746519</td>\n",
              "      <td>0.008653039396707956</td>\n",
              "      <td>0.6371401051645239</td>\n",
              "      <td>0.9914861469145082</td>\n",
              "      <td>0.0053453331361520496</td>\n",
              "      <td>0.0010747224937787958</td>\n",
              "      <td>0.6065472095616347</td>\n",
              "      <td>...</td>\n",
              "      <td>0.005049784931949527</td>\n",
              "      <td>0.13743977355278736</td>\n",
              "      <td>0.2818715851077369</td>\n",
              "      <td>0.08784764374818232</td>\n",
              "      <td>0.08223186805818024</td>\n",
              "      <td>0.020443330620650166</td>\n",
              "      <td>0.973679680520605</td>\n",
              "      <td>0.9875019218882017</td>\n",
              "      <td>0.009917194567348568</td>\n",
              "      <td>-0.03485115775974896</td>\n",
              "    </tr>\n",
              "    <tr>\n",
              "      <th>0</th>\n",
              "      <td>13.0</td>\n",
              "      <td>0.6307957375046586</td>\n",
              "      <td>0.3224267964051174</td>\n",
              "      <td>0.08278875887060892</td>\n",
              "      <td>0.02310993889927979</td>\n",
              "      <td>1.2271404392521295</td>\n",
              "      <td>0.971278020792224</td>\n",
              "      <td>0.01910511924784986</td>\n",
              "      <td>0.5340769009228374</td>\n",
              "      <td>0.4576463482901221</td>\n",
              "      <td>...</td>\n",
              "      <td>0.004735673750587108</td>\n",
              "      <td>-0.026818167972567378</td>\n",
              "      <td>0.30197476344060603</td>\n",
              "      <td>0.16261709566367666</td>\n",
              "      <td>0.06203970299122766</td>\n",
              "      <td>0.029334817801619402</td>\n",
              "      <td>1.199048187576857</td>\n",
              "      <td>0.9618444803505598</td>\n",
              "      <td>0.02162135857135005</td>\n",
              "      <td>0.45262665888272413</td>\n",
              "    </tr>\n",
              "    <tr>\n",
              "      <th>0</th>\n",
              "      <td>14.0</td>\n",
              "      <td>0.46343055608613043</td>\n",
              "      <td>0.29095721057638646</td>\n",
              "      <td>0.06549775378287762</td>\n",
              "      <td>0.019406142542058982</td>\n",
              "      <td>1.2014668866376468</td>\n",
              "      <td>0.9882609713884727</td>\n",
              "      <td>0.011855289086710722</td>\n",
              "      <td>-0.14281162953103252</td>\n",
              "      <td>0.7520771078937539</td>\n",
              "      <td>...</td>\n",
              "      <td>0.005959669410091187</td>\n",
              "      <td>-0.10092005792674794</td>\n",
              "      <td>0.2613558332370738</td>\n",
              "      <td>0.2107277812660704</td>\n",
              "      <td>0.04579359813328846</td>\n",
              "      <td>0.014927007300989219</td>\n",
              "      <td>0.7490693206820451</td>\n",
              "      <td>0.9945099400562856</td>\n",
              "      <td>0.005038787865924649</td>\n",
              "      <td>-0.01713975924406958</td>\n",
              "    </tr>\n",
              "    <tr>\n",
              "      <th>0</th>\n",
              "      <td>15.0</td>\n",
              "      <td>0.4330721603424114</td>\n",
              "      <td>0.4510504526899747</td>\n",
              "      <td>0.04325476953461103</td>\n",
              "      <td>0.014826711523140286</td>\n",
              "      <td>0.8410841222244749</td>\n",
              "      <td>0.985356185618925</td>\n",
              "      <td>0.009283035334905211</td>\n",
              "      <td>0.39869290521369544</td>\n",
              "      <td>0.6245181890788517</td>\n",
              "      <td>...</td>\n",
              "      <td>0.003963851582656289</td>\n",
              "      <td>0.0048124870755929</td>\n",
              "      <td>0.4075070287109439</td>\n",
              "      <td>0.34668715926132754</td>\n",
              "      <td>0.0506462011734745</td>\n",
              "      <td>0.02052870294291215</td>\n",
              "      <td>1.0235622271400269</td>\n",
              "      <td>0.9873279936959322</td>\n",
              "      <td>0.010498477050418403</td>\n",
              "      <td>0.318509407421941</td>\n",
              "    </tr>\n",
              "    <tr>\n",
              "      <th>0</th>\n",
              "      <td>16.0</td>\n",
              "      <td>0.47373384162582616</td>\n",
              "      <td>0.45195994716128607</td>\n",
              "      <td>0.04722920657659531</td>\n",
              "      <td>0.01079733359601756</td>\n",
              "      <td>0.7488454068075505</td>\n",
              "      <td>0.9821120216093255</td>\n",
              "      <td>0.009149816268009836</td>\n",
              "      <td>0.14776024142105676</td>\n",
              "      <td>0.5826051225607669</td>\n",
              "      <td>...</td>\n",
              "      <td>0.007397481649231221</td>\n",
              "      <td>0.1489573990829159</td>\n",
              "      <td>0.20888132633404016</td>\n",
              "      <td>0.1463744816307896</td>\n",
              "      <td>0.045668919909972246</td>\n",
              "      <td>0.01952252288170222</td>\n",
              "      <td>0.7988563550278343</td>\n",
              "      <td>0.9808821704217728</td>\n",
              "      <td>0.010097169611035094</td>\n",
              "      <td>0.1951380415433766</td>\n",
              "    </tr>\n",
              "    <tr>\n",
              "      <th>0</th>\n",
              "      <td>17.0</td>\n",
              "      <td>0.47798943140018957</td>\n",
              "      <td>0.3082293731652921</td>\n",
              "      <td>0.06483095617806689</td>\n",
              "      <td>0.02034738074014398</td>\n",
              "      <td>1.2104626610726048</td>\n",
              "      <td>0.9770122395929568</td>\n",
              "      <td>0.016810081192020845</td>\n",
              "      <td>-0.026044401984534706</td>\n",
              "      <td>0.8085818115120118</td>\n",
              "      <td>...</td>\n",
              "      <td>0.004737962599528334</td>\n",
              "      <td>-0.07008442710181165</td>\n",
              "      <td>0.2815489609301509</td>\n",
              "      <td>0.1697081937565772</td>\n",
              "      <td>0.05638166959766779</td>\n",
              "      <td>0.020378520787199057</td>\n",
              "      <td>0.9709940040745477</td>\n",
              "      <td>0.9915393000184374</td>\n",
              "      <td>0.008120538159763137</td>\n",
              "      <td>-0.1632048860394572</td>\n",
              "    </tr>\n",
              "    <tr>\n",
              "      <th>0</th>\n",
              "      <td>18.0</td>\n",
              "      <td>0.7194029969761618</td>\n",
              "      <td>0.43210755055033123</td>\n",
              "      <td>0.07466713162412238</td>\n",
              "      <td>0.015510378336649876</td>\n",
              "      <td>1.2831785876051072</td>\n",
              "      <td>0.9797195384107654</td>\n",
              "      <td>0.016714570523332146</td>\n",
              "      <td>0.33077033038618214</td>\n",
              "      <td>1.0441627055531786</td>\n",
              "      <td>...</td>\n",
              "      <td>0.009471794801177588</td>\n",
              "      <td>-0.04388719608616527</td>\n",
              "      <td>0.3946590225698345</td>\n",
              "      <td>0.26364591213763267</td>\n",
              "      <td>0.05971383347025869</td>\n",
              "      <td>0.020887527059927163</td>\n",
              "      <td>1.1476671086339252</td>\n",
              "      <td>0.9703972350304102</td>\n",
              "      <td>0.018147942003251732</td>\n",
              "      <td>0.09413836233665565</td>\n",
              "    </tr>\n",
              "    <tr>\n",
              "      <th>0</th>\n",
              "      <td>19.0</td>\n",
              "      <td>0.2775460435155994</td>\n",
              "      <td>0.22578387965921898</td>\n",
              "      <td>0.04653072458289932</td>\n",
              "      <td>0.017834386594798492</td>\n",
              "      <td>0.7094376296576353</td>\n",
              "      <td>0.9834730684791746</td>\n",
              "      <td>0.008326244937860832</td>\n",
              "      <td>0.2833291767378928</td>\n",
              "      <td>0.4779574453865171</td>\n",
              "      <td>...</td>\n",
              "      <td>0.005405571799517828</td>\n",
              "      <td>0.173928835150046</td>\n",
              "      <td>0.27317425201845447</td>\n",
              "      <td>0.24824099494025254</td>\n",
              "      <td>0.043039022608682406</td>\n",
              "      <td>0.015226235129680445</td>\n",
              "      <td>0.6668925889942653</td>\n",
              "      <td>0.9840294788617591</td>\n",
              "      <td>0.00769186167996167</td>\n",
              "      <td>0.157798734609376</td>\n",
              "    </tr>\n",
              "    <tr>\n",
              "      <th>0</th>\n",
              "      <td>20.0</td>\n",
              "      <td>0.6760852931872088</td>\n",
              "      <td>0.5082257086462649</td>\n",
              "      <td>0.06021104346823116</td>\n",
              "      <td>0.016547409539939432</td>\n",
              "      <td>1.1551213378245726</td>\n",
              "      <td>0.9818212097760717</td>\n",
              "      <td>0.014230297356992588</td>\n",
              "      <td>0.2391320773213625</td>\n",
              "      <td>0.5965922427702124</td>\n",
              "      <td>...</td>\n",
              "      <td>0.003082018105587368</td>\n",
              "      <td>-0.027265606515744625</td>\n",
              "      <td>0.2692063789552896</td>\n",
              "      <td>0.20299076639003122</td>\n",
              "      <td>0.04829463709041691</td>\n",
              "      <td>0.018146785658969006</td>\n",
              "      <td>0.7775262409749157</td>\n",
              "      <td>0.9877742052652689</td>\n",
              "      <td>0.007831498164956591</td>\n",
              "      <td>0.24797883569415435</td>\n",
              "    </tr>\n",
              "  </tbody>\n",
              "</table>\n",
              "<p>20 rows × 33 columns</p>\n",
              "</div>\n",
              "      <button class=\"colab-df-convert\" onclick=\"convertToInteractive('df-11efdd0e-6e6f-408c-8ed0-731b5ad37b18')\"\n",
              "              title=\"Convert this dataframe to an interactive table.\"\n",
              "              style=\"display:none;\">\n",
              "        \n",
              "  <svg xmlns=\"http://www.w3.org/2000/svg\" height=\"24px\"viewBox=\"0 0 24 24\"\n",
              "       width=\"24px\">\n",
              "    <path d=\"M0 0h24v24H0V0z\" fill=\"none\"/>\n",
              "    <path d=\"M18.56 5.44l.94 2.06.94-2.06 2.06-.94-2.06-.94-.94-2.06-.94 2.06-2.06.94zm-11 1L8.5 8.5l.94-2.06 2.06-.94-2.06-.94L8.5 2.5l-.94 2.06-2.06.94zm10 10l.94 2.06.94-2.06 2.06-.94-2.06-.94-.94-2.06-.94 2.06-2.06.94z\"/><path d=\"M17.41 7.96l-1.37-1.37c-.4-.4-.92-.59-1.43-.59-.52 0-1.04.2-1.43.59L10.3 9.45l-7.72 7.72c-.78.78-.78 2.05 0 2.83L4 21.41c.39.39.9.59 1.41.59.51 0 1.02-.2 1.41-.59l7.78-7.78 2.81-2.81c.8-.78.8-2.07 0-2.86zM5.41 20L4 18.59l7.72-7.72 1.47 1.35L5.41 20z\"/>\n",
              "  </svg>\n",
              "      </button>\n",
              "      \n",
              "  <style>\n",
              "    .colab-df-container {\n",
              "      display:flex;\n",
              "      flex-wrap:wrap;\n",
              "      gap: 12px;\n",
              "    }\n",
              "\n",
              "    .colab-df-convert {\n",
              "      background-color: #E8F0FE;\n",
              "      border: none;\n",
              "      border-radius: 50%;\n",
              "      cursor: pointer;\n",
              "      display: none;\n",
              "      fill: #1967D2;\n",
              "      height: 32px;\n",
              "      padding: 0 0 0 0;\n",
              "      width: 32px;\n",
              "    }\n",
              "\n",
              "    .colab-df-convert:hover {\n",
              "      background-color: #E2EBFA;\n",
              "      box-shadow: 0px 1px 2px rgba(60, 64, 67, 0.3), 0px 1px 3px 1px rgba(60, 64, 67, 0.15);\n",
              "      fill: #174EA6;\n",
              "    }\n",
              "\n",
              "    [theme=dark] .colab-df-convert {\n",
              "      background-color: #3B4455;\n",
              "      fill: #D2E3FC;\n",
              "    }\n",
              "\n",
              "    [theme=dark] .colab-df-convert:hover {\n",
              "      background-color: #434B5C;\n",
              "      box-shadow: 0px 1px 3px 1px rgba(0, 0, 0, 0.15);\n",
              "      filter: drop-shadow(0px 1px 2px rgba(0, 0, 0, 0.3));\n",
              "      fill: #FFFFFF;\n",
              "    }\n",
              "  </style>\n",
              "\n",
              "      <script>\n",
              "        const buttonEl =\n",
              "          document.querySelector('#df-11efdd0e-6e6f-408c-8ed0-731b5ad37b18 button.colab-df-convert');\n",
              "        buttonEl.style.display =\n",
              "          google.colab.kernel.accessAllowed ? 'block' : 'none';\n",
              "\n",
              "        async function convertToInteractive(key) {\n",
              "          const element = document.querySelector('#df-11efdd0e-6e6f-408c-8ed0-731b5ad37b18');\n",
              "          const dataTable =\n",
              "            await google.colab.kernel.invokeFunction('convertToInteractive',\n",
              "                                                     [key], {});\n",
              "          if (!dataTable) return;\n",
              "\n",
              "          const docLinkHtml = 'Like what you see? Visit the ' +\n",
              "            '<a target=\"_blank\" href=https://colab.research.google.com/notebooks/data_table.ipynb>data table notebook</a>'\n",
              "            + ' to learn more about interactive tables.';\n",
              "          element.innerHTML = '';\n",
              "          dataTable['output_type'] = 'display_data';\n",
              "          await google.colab.output.renderOutput(dataTable, element);\n",
              "          const docLink = document.createElement('div');\n",
              "          docLink.innerHTML = docLinkHtml;\n",
              "          element.appendChild(docLink);\n",
              "        }\n",
              "      </script>\n",
              "    </div>\n",
              "  </div>\n",
              "  "
            ]
          },
          "metadata": {},
          "execution_count": 82
        }
      ]
    },
    {
      "cell_type": "code",
      "source": [
        "resultadoDatos=resultadoDatos.astype(float)"
      ],
      "metadata": {
        "id": "84VdLftrvjMe"
      },
      "execution_count": null,
      "outputs": []
    },
    {
      "cell_type": "code",
      "source": [
        "resultadoDatos"
      ],
      "metadata": {
        "colab": {
          "base_uri": "https://localhost:8080/",
          "height": 782
        },
        "id": "m4_mlPO_vsd1",
        "outputId": "5390300a-cc34-4db0-cbfa-889265893f91"
      },
      "execution_count": null,
      "outputs": [
        {
          "output_type": "execute_result",
          "data": {
            "text/plain": [
              "   Pruebas  coef(a)_6am-MLP  rsquared_6am-MLP  Standard Error_6am-MLP  \\\n",
              "0      1.0         0.313088          0.333169                0.040102   \n",
              "0      2.0         0.384885          0.073816                0.123431   \n",
              "0      3.0         0.700212          0.521683                0.060702   \n",
              "0      4.0         0.424784          0.562647                0.033907   \n",
              "0      5.0         0.429604          0.201740                0.077369   \n",
              "0      6.0         0.748968          0.542613                0.062256   \n",
              "0      7.0         0.466679          0.314263                0.062412   \n",
              "0      8.0         0.437761          0.264399                0.066107   \n",
              "0      9.0         0.393901          0.166511                0.079788   \n",
              "0     10.0         0.467090          0.392686                0.052590   \n",
              "0     11.0         0.254451          0.136306                0.057989   \n",
              "0     12.0         0.342163          0.336983                0.043452   \n",
              "0     13.0         0.630796          0.322427                0.082789   \n",
              "0     14.0         0.463431          0.290957                0.065498   \n",
              "0     15.0         0.433072          0.451050                0.043255   \n",
              "0     16.0         0.473734          0.451960                0.047229   \n",
              "0     17.0         0.477989          0.308229                0.064831   \n",
              "0     18.0         0.719403          0.432108                0.074667   \n",
              "0     19.0         0.277546          0.225784                0.046531   \n",
              "0     20.0         0.676085          0.508226                0.060211   \n",
              "\n",
              "   coef(b)_6am-MLP  coef(a)_Acu-6am-MLP  rsquared_Acu-6am-MLP  \\\n",
              "0         0.012733             0.745522              0.979107   \n",
              "0         0.023670             1.198880              0.908157   \n",
              "0         0.008404             0.835167              0.981828   \n",
              "0         0.013259             0.799121              0.986374   \n",
              "0         0.022091             1.158445              0.924266   \n",
              "0         0.010083             1.235598              0.968510   \n",
              "0         0.022376             1.195361              0.984441   \n",
              "0         0.016969             0.768564              0.962541   \n",
              "0         0.022768             1.237082              0.954267   \n",
              "0         0.026733             1.491441              0.973208   \n",
              "0         0.014119             0.627938              0.963250   \n",
              "0         0.008653             0.637140              0.991486   \n",
              "0         0.023110             1.227140              0.971278   \n",
              "0         0.019406             1.201467              0.988261   \n",
              "0         0.014827             0.841084              0.985356   \n",
              "0         0.010797             0.748845              0.982112   \n",
              "0         0.020347             1.210463              0.977012   \n",
              "0         0.015510             1.283179              0.979720   \n",
              "0         0.017834             0.709438              0.983473   \n",
              "0         0.016547             1.155121              0.981821   \n",
              "\n",
              "   Standard Error_Acu-6am-MLP  coef(b)_Acu-6am-MLP  coef(a)_6am-Beysens  ...  \\\n",
              "0                    0.009860            -0.069312             0.578874  ...   \n",
              "0                    0.034518            -0.280930             0.706257  ...   \n",
              "0                    0.010287             0.421742             0.949455  ...   \n",
              "0                    0.008504            -0.052813             0.642215  ...   \n",
              "0                    0.030022             0.254116             0.757290  ...   \n",
              "0                    0.020171            -0.192355             0.602700  ...   \n",
              "0                    0.013605            -0.085234             0.355563  ...   \n",
              "0                    0.013727             0.554638             0.573992  ...   \n",
              "0                    0.024519            -0.225086             0.510711  ...   \n",
              "0                    0.022404            -0.218397             0.706995  ...   \n",
              "0                    0.011104             0.201025             0.876259  ...   \n",
              "0                    0.005345             0.001075             0.606547  ...   \n",
              "0                    0.019105             0.534077             0.457646  ...   \n",
              "0                    0.011855            -0.142812             0.752077  ...   \n",
              "0                    0.009283             0.398693             0.624518  ...   \n",
              "0                    0.009150             0.147760             0.582605  ...   \n",
              "0                    0.016810            -0.026044             0.808582  ...   \n",
              "0                    0.016715             0.330770             1.044163  ...   \n",
              "0                    0.008326             0.283329             0.477957  ...   \n",
              "0                    0.014230             0.239132             0.596592  ...   \n",
              "\n",
              "   Standard Error_Acu-Beysens-PM  coef(b)_Acu-Beysens-PM  coef(a)_MLP-PM  \\\n",
              "0                       0.005163                0.035613        0.516924   \n",
              "0                       0.002575                0.177627        0.245761   \n",
              "0                       0.005045                0.043687        0.338341   \n",
              "0                       0.002685               -0.051786        0.538440   \n",
              "0                       0.004780               -0.055552        0.281820   \n",
              "0                       0.005014               -0.030162        0.440605   \n",
              "0                       0.005125               -0.081289        0.227140   \n",
              "0                       0.003894               -0.052413        0.318627   \n",
              "0                       0.006609                0.107804        0.276750   \n",
              "0                       0.009405               -0.002250        0.506078   \n",
              "0                       0.001045               -0.026057        0.261140   \n",
              "0                       0.005050                0.137440        0.281872   \n",
              "0                       0.004736               -0.026818        0.301975   \n",
              "0                       0.005960               -0.100920        0.261356   \n",
              "0                       0.003964                0.004812        0.407507   \n",
              "0                       0.007397                0.148957        0.208881   \n",
              "0                       0.004738               -0.070084        0.281549   \n",
              "0                       0.009472               -0.043887        0.394659   \n",
              "0                       0.005406                0.173929        0.273174   \n",
              "0                       0.003082               -0.027266        0.269206   \n",
              "\n",
              "   rsquared_MLP-PM  Standard Error_MLP-PM  coef(b)_MLP-PM  coef(a)_Acu-MLP-PM  \\\n",
              "0         0.402486               0.057022        0.022965            1.472085   \n",
              "0         0.169431               0.049263        0.018289            0.940639   \n",
              "0         0.340499               0.042631        0.015815            0.842353   \n",
              "0         0.288438               0.076566        0.016581            1.180817   \n",
              "0         0.108586               0.073105        0.037630            1.545704   \n",
              "0         0.389444               0.049947        0.015925            1.092917   \n",
              "0         0.113809               0.057384        0.016753            0.842430   \n",
              "0         0.222574               0.053913        0.024992            1.009807   \n",
              "0         0.081408               0.084166        0.021417            0.996521   \n",
              "0         0.132707               0.117132        0.033769            1.753136   \n",
              "0         0.185633               0.049520        0.017606            0.772267   \n",
              "0         0.087848               0.082232        0.020443            0.973680   \n",
              "0         0.162617               0.062040        0.029335            1.199048   \n",
              "0         0.210728               0.045794        0.014927            0.749069   \n",
              "0         0.346687               0.050646        0.020529            1.023562   \n",
              "0         0.146374               0.045669        0.019523            0.798856   \n",
              "0         0.169708               0.056382        0.020379            0.970994   \n",
              "0         0.263646               0.059714        0.020888            1.147667   \n",
              "0         0.248241               0.043039        0.015226            0.666893   \n",
              "0         0.202991               0.048295        0.018147            0.777526   \n",
              "\n",
              "   rsquared_Acu-MLP-PM  Standard Error_Acu-MLP-PM  coef(b)_Acu-MLP-PM  \n",
              "0             0.982720                   0.017673           -0.504739  \n",
              "0             0.966920                   0.015752           -0.021906  \n",
              "0             0.989209                   0.007965            0.263687  \n",
              "0             0.980734                   0.014984           -0.056301  \n",
              "0             0.956719                   0.029765            0.255555  \n",
              "0             0.987065                   0.011327            0.109248  \n",
              "0             0.982128                   0.010289           -0.238032  \n",
              "0             0.980514                   0.012888           -0.023512  \n",
              "0             0.952392                   0.020172           -0.098467  \n",
              "0             0.948793                   0.036873           -0.189724  \n",
              "0             0.966055                   0.013106            0.099669  \n",
              "0             0.987502                   0.009917           -0.034851  \n",
              "0             0.961844                   0.021621            0.452627  \n",
              "0             0.994510                   0.005039           -0.017140  \n",
              "0             0.987328                   0.010498            0.318509  \n",
              "0             0.980882                   0.010097            0.195138  \n",
              "0             0.991539                   0.008121           -0.163205  \n",
              "0             0.970397                   0.018148            0.094138  \n",
              "0             0.984029                   0.007692            0.157799  \n",
              "0             0.987774                   0.007831            0.247979  \n",
              "\n",
              "[20 rows x 33 columns]"
            ],
            "text/html": [
              "\n",
              "  <div id=\"df-54773844-7415-41c4-8ba4-c65ee1adbfd5\">\n",
              "    <div class=\"colab-df-container\">\n",
              "      <div>\n",
              "<style scoped>\n",
              "    .dataframe tbody tr th:only-of-type {\n",
              "        vertical-align: middle;\n",
              "    }\n",
              "\n",
              "    .dataframe tbody tr th {\n",
              "        vertical-align: top;\n",
              "    }\n",
              "\n",
              "    .dataframe thead th {\n",
              "        text-align: right;\n",
              "    }\n",
              "</style>\n",
              "<table border=\"1\" class=\"dataframe\">\n",
              "  <thead>\n",
              "    <tr style=\"text-align: right;\">\n",
              "      <th></th>\n",
              "      <th>Pruebas</th>\n",
              "      <th>coef(a)_6am-MLP</th>\n",
              "      <th>rsquared_6am-MLP</th>\n",
              "      <th>Standard Error_6am-MLP</th>\n",
              "      <th>coef(b)_6am-MLP</th>\n",
              "      <th>coef(a)_Acu-6am-MLP</th>\n",
              "      <th>rsquared_Acu-6am-MLP</th>\n",
              "      <th>Standard Error_Acu-6am-MLP</th>\n",
              "      <th>coef(b)_Acu-6am-MLP</th>\n",
              "      <th>coef(a)_6am-Beysens</th>\n",
              "      <th>...</th>\n",
              "      <th>Standard Error_Acu-Beysens-PM</th>\n",
              "      <th>coef(b)_Acu-Beysens-PM</th>\n",
              "      <th>coef(a)_MLP-PM</th>\n",
              "      <th>rsquared_MLP-PM</th>\n",
              "      <th>Standard Error_MLP-PM</th>\n",
              "      <th>coef(b)_MLP-PM</th>\n",
              "      <th>coef(a)_Acu-MLP-PM</th>\n",
              "      <th>rsquared_Acu-MLP-PM</th>\n",
              "      <th>Standard Error_Acu-MLP-PM</th>\n",
              "      <th>coef(b)_Acu-MLP-PM</th>\n",
              "    </tr>\n",
              "  </thead>\n",
              "  <tbody>\n",
              "    <tr>\n",
              "      <th>0</th>\n",
              "      <td>1.0</td>\n",
              "      <td>0.313088</td>\n",
              "      <td>0.333169</td>\n",
              "      <td>0.040102</td>\n",
              "      <td>0.012733</td>\n",
              "      <td>0.745522</td>\n",
              "      <td>0.979107</td>\n",
              "      <td>0.009860</td>\n",
              "      <td>-0.069312</td>\n",
              "      <td>0.578874</td>\n",
              "      <td>...</td>\n",
              "      <td>0.005163</td>\n",
              "      <td>0.035613</td>\n",
              "      <td>0.516924</td>\n",
              "      <td>0.402486</td>\n",
              "      <td>0.057022</td>\n",
              "      <td>0.022965</td>\n",
              "      <td>1.472085</td>\n",
              "      <td>0.982720</td>\n",
              "      <td>0.017673</td>\n",
              "      <td>-0.504739</td>\n",
              "    </tr>\n",
              "    <tr>\n",
              "      <th>0</th>\n",
              "      <td>2.0</td>\n",
              "      <td>0.384885</td>\n",
              "      <td>0.073816</td>\n",
              "      <td>0.123431</td>\n",
              "      <td>0.023670</td>\n",
              "      <td>1.198880</td>\n",
              "      <td>0.908157</td>\n",
              "      <td>0.034518</td>\n",
              "      <td>-0.280930</td>\n",
              "      <td>0.706257</td>\n",
              "      <td>...</td>\n",
              "      <td>0.002575</td>\n",
              "      <td>0.177627</td>\n",
              "      <td>0.245761</td>\n",
              "      <td>0.169431</td>\n",
              "      <td>0.049263</td>\n",
              "      <td>0.018289</td>\n",
              "      <td>0.940639</td>\n",
              "      <td>0.966920</td>\n",
              "      <td>0.015752</td>\n",
              "      <td>-0.021906</td>\n",
              "    </tr>\n",
              "    <tr>\n",
              "      <th>0</th>\n",
              "      <td>3.0</td>\n",
              "      <td>0.700212</td>\n",
              "      <td>0.521683</td>\n",
              "      <td>0.060702</td>\n",
              "      <td>0.008404</td>\n",
              "      <td>0.835167</td>\n",
              "      <td>0.981828</td>\n",
              "      <td>0.010287</td>\n",
              "      <td>0.421742</td>\n",
              "      <td>0.949455</td>\n",
              "      <td>...</td>\n",
              "      <td>0.005045</td>\n",
              "      <td>0.043687</td>\n",
              "      <td>0.338341</td>\n",
              "      <td>0.340499</td>\n",
              "      <td>0.042631</td>\n",
              "      <td>0.015815</td>\n",
              "      <td>0.842353</td>\n",
              "      <td>0.989209</td>\n",
              "      <td>0.007965</td>\n",
              "      <td>0.263687</td>\n",
              "    </tr>\n",
              "    <tr>\n",
              "      <th>0</th>\n",
              "      <td>4.0</td>\n",
              "      <td>0.424784</td>\n",
              "      <td>0.562647</td>\n",
              "      <td>0.033907</td>\n",
              "      <td>0.013259</td>\n",
              "      <td>0.799121</td>\n",
              "      <td>0.986374</td>\n",
              "      <td>0.008504</td>\n",
              "      <td>-0.052813</td>\n",
              "      <td>0.642215</td>\n",
              "      <td>...</td>\n",
              "      <td>0.002685</td>\n",
              "      <td>-0.051786</td>\n",
              "      <td>0.538440</td>\n",
              "      <td>0.288438</td>\n",
              "      <td>0.076566</td>\n",
              "      <td>0.016581</td>\n",
              "      <td>1.180817</td>\n",
              "      <td>0.980734</td>\n",
              "      <td>0.014984</td>\n",
              "      <td>-0.056301</td>\n",
              "    </tr>\n",
              "    <tr>\n",
              "      <th>0</th>\n",
              "      <td>5.0</td>\n",
              "      <td>0.429604</td>\n",
              "      <td>0.201740</td>\n",
              "      <td>0.077369</td>\n",
              "      <td>0.022091</td>\n",
              "      <td>1.158445</td>\n",
              "      <td>0.924266</td>\n",
              "      <td>0.030022</td>\n",
              "      <td>0.254116</td>\n",
              "      <td>0.757290</td>\n",
              "      <td>...</td>\n",
              "      <td>0.004780</td>\n",
              "      <td>-0.055552</td>\n",
              "      <td>0.281820</td>\n",
              "      <td>0.108586</td>\n",
              "      <td>0.073105</td>\n",
              "      <td>0.037630</td>\n",
              "      <td>1.545704</td>\n",
              "      <td>0.956719</td>\n",
              "      <td>0.029765</td>\n",
              "      <td>0.255555</td>\n",
              "    </tr>\n",
              "    <tr>\n",
              "      <th>0</th>\n",
              "      <td>6.0</td>\n",
              "      <td>0.748968</td>\n",
              "      <td>0.542613</td>\n",
              "      <td>0.062256</td>\n",
              "      <td>0.010083</td>\n",
              "      <td>1.235598</td>\n",
              "      <td>0.968510</td>\n",
              "      <td>0.020171</td>\n",
              "      <td>-0.192355</td>\n",
              "      <td>0.602700</td>\n",
              "      <td>...</td>\n",
              "      <td>0.005014</td>\n",
              "      <td>-0.030162</td>\n",
              "      <td>0.440605</td>\n",
              "      <td>0.389444</td>\n",
              "      <td>0.049947</td>\n",
              "      <td>0.015925</td>\n",
              "      <td>1.092917</td>\n",
              "      <td>0.987065</td>\n",
              "      <td>0.011327</td>\n",
              "      <td>0.109248</td>\n",
              "    </tr>\n",
              "    <tr>\n",
              "      <th>0</th>\n",
              "      <td>7.0</td>\n",
              "      <td>0.466679</td>\n",
              "      <td>0.314263</td>\n",
              "      <td>0.062412</td>\n",
              "      <td>0.022376</td>\n",
              "      <td>1.195361</td>\n",
              "      <td>0.984441</td>\n",
              "      <td>0.013605</td>\n",
              "      <td>-0.085234</td>\n",
              "      <td>0.355563</td>\n",
              "      <td>...</td>\n",
              "      <td>0.005125</td>\n",
              "      <td>-0.081289</td>\n",
              "      <td>0.227140</td>\n",
              "      <td>0.113809</td>\n",
              "      <td>0.057384</td>\n",
              "      <td>0.016753</td>\n",
              "      <td>0.842430</td>\n",
              "      <td>0.982128</td>\n",
              "      <td>0.010289</td>\n",
              "      <td>-0.238032</td>\n",
              "    </tr>\n",
              "    <tr>\n",
              "      <th>0</th>\n",
              "      <td>8.0</td>\n",
              "      <td>0.437761</td>\n",
              "      <td>0.264399</td>\n",
              "      <td>0.066107</td>\n",
              "      <td>0.016969</td>\n",
              "      <td>0.768564</td>\n",
              "      <td>0.962541</td>\n",
              "      <td>0.013727</td>\n",
              "      <td>0.554638</td>\n",
              "      <td>0.573992</td>\n",
              "      <td>...</td>\n",
              "      <td>0.003894</td>\n",
              "      <td>-0.052413</td>\n",
              "      <td>0.318627</td>\n",
              "      <td>0.222574</td>\n",
              "      <td>0.053913</td>\n",
              "      <td>0.024992</td>\n",
              "      <td>1.009807</td>\n",
              "      <td>0.980514</td>\n",
              "      <td>0.012888</td>\n",
              "      <td>-0.023512</td>\n",
              "    </tr>\n",
              "    <tr>\n",
              "      <th>0</th>\n",
              "      <td>9.0</td>\n",
              "      <td>0.393901</td>\n",
              "      <td>0.166511</td>\n",
              "      <td>0.079788</td>\n",
              "      <td>0.022768</td>\n",
              "      <td>1.237082</td>\n",
              "      <td>0.954267</td>\n",
              "      <td>0.024519</td>\n",
              "      <td>-0.225086</td>\n",
              "      <td>0.510711</td>\n",
              "      <td>...</td>\n",
              "      <td>0.006609</td>\n",
              "      <td>0.107804</td>\n",
              "      <td>0.276750</td>\n",
              "      <td>0.081408</td>\n",
              "      <td>0.084166</td>\n",
              "      <td>0.021417</td>\n",
              "      <td>0.996521</td>\n",
              "      <td>0.952392</td>\n",
              "      <td>0.020172</td>\n",
              "      <td>-0.098467</td>\n",
              "    </tr>\n",
              "    <tr>\n",
              "      <th>0</th>\n",
              "      <td>10.0</td>\n",
              "      <td>0.467090</td>\n",
              "      <td>0.392686</td>\n",
              "      <td>0.052590</td>\n",
              "      <td>0.026733</td>\n",
              "      <td>1.491441</td>\n",
              "      <td>0.973208</td>\n",
              "      <td>0.022404</td>\n",
              "      <td>-0.218397</td>\n",
              "      <td>0.706995</td>\n",
              "      <td>...</td>\n",
              "      <td>0.009405</td>\n",
              "      <td>-0.002250</td>\n",
              "      <td>0.506078</td>\n",
              "      <td>0.132707</td>\n",
              "      <td>0.117132</td>\n",
              "      <td>0.033769</td>\n",
              "      <td>1.753136</td>\n",
              "      <td>0.948793</td>\n",
              "      <td>0.036873</td>\n",
              "      <td>-0.189724</td>\n",
              "    </tr>\n",
              "    <tr>\n",
              "      <th>0</th>\n",
              "      <td>11.0</td>\n",
              "      <td>0.254451</td>\n",
              "      <td>0.136306</td>\n",
              "      <td>0.057989</td>\n",
              "      <td>0.014119</td>\n",
              "      <td>0.627938</td>\n",
              "      <td>0.963250</td>\n",
              "      <td>0.011104</td>\n",
              "      <td>0.201025</td>\n",
              "      <td>0.876259</td>\n",
              "      <td>...</td>\n",
              "      <td>0.001045</td>\n",
              "      <td>-0.026057</td>\n",
              "      <td>0.261140</td>\n",
              "      <td>0.185633</td>\n",
              "      <td>0.049520</td>\n",
              "      <td>0.017606</td>\n",
              "      <td>0.772267</td>\n",
              "      <td>0.966055</td>\n",
              "      <td>0.013106</td>\n",
              "      <td>0.099669</td>\n",
              "    </tr>\n",
              "    <tr>\n",
              "      <th>0</th>\n",
              "      <td>12.0</td>\n",
              "      <td>0.342163</td>\n",
              "      <td>0.336983</td>\n",
              "      <td>0.043452</td>\n",
              "      <td>0.008653</td>\n",
              "      <td>0.637140</td>\n",
              "      <td>0.991486</td>\n",
              "      <td>0.005345</td>\n",
              "      <td>0.001075</td>\n",
              "      <td>0.606547</td>\n",
              "      <td>...</td>\n",
              "      <td>0.005050</td>\n",
              "      <td>0.137440</td>\n",
              "      <td>0.281872</td>\n",
              "      <td>0.087848</td>\n",
              "      <td>0.082232</td>\n",
              "      <td>0.020443</td>\n",
              "      <td>0.973680</td>\n",
              "      <td>0.987502</td>\n",
              "      <td>0.009917</td>\n",
              "      <td>-0.034851</td>\n",
              "    </tr>\n",
              "    <tr>\n",
              "      <th>0</th>\n",
              "      <td>13.0</td>\n",
              "      <td>0.630796</td>\n",
              "      <td>0.322427</td>\n",
              "      <td>0.082789</td>\n",
              "      <td>0.023110</td>\n",
              "      <td>1.227140</td>\n",
              "      <td>0.971278</td>\n",
              "      <td>0.019105</td>\n",
              "      <td>0.534077</td>\n",
              "      <td>0.457646</td>\n",
              "      <td>...</td>\n",
              "      <td>0.004736</td>\n",
              "      <td>-0.026818</td>\n",
              "      <td>0.301975</td>\n",
              "      <td>0.162617</td>\n",
              "      <td>0.062040</td>\n",
              "      <td>0.029335</td>\n",
              "      <td>1.199048</td>\n",
              "      <td>0.961844</td>\n",
              "      <td>0.021621</td>\n",
              "      <td>0.452627</td>\n",
              "    </tr>\n",
              "    <tr>\n",
              "      <th>0</th>\n",
              "      <td>14.0</td>\n",
              "      <td>0.463431</td>\n",
              "      <td>0.290957</td>\n",
              "      <td>0.065498</td>\n",
              "      <td>0.019406</td>\n",
              "      <td>1.201467</td>\n",
              "      <td>0.988261</td>\n",
              "      <td>0.011855</td>\n",
              "      <td>-0.142812</td>\n",
              "      <td>0.752077</td>\n",
              "      <td>...</td>\n",
              "      <td>0.005960</td>\n",
              "      <td>-0.100920</td>\n",
              "      <td>0.261356</td>\n",
              "      <td>0.210728</td>\n",
              "      <td>0.045794</td>\n",
              "      <td>0.014927</td>\n",
              "      <td>0.749069</td>\n",
              "      <td>0.994510</td>\n",
              "      <td>0.005039</td>\n",
              "      <td>-0.017140</td>\n",
              "    </tr>\n",
              "    <tr>\n",
              "      <th>0</th>\n",
              "      <td>15.0</td>\n",
              "      <td>0.433072</td>\n",
              "      <td>0.451050</td>\n",
              "      <td>0.043255</td>\n",
              "      <td>0.014827</td>\n",
              "      <td>0.841084</td>\n",
              "      <td>0.985356</td>\n",
              "      <td>0.009283</td>\n",
              "      <td>0.398693</td>\n",
              "      <td>0.624518</td>\n",
              "      <td>...</td>\n",
              "      <td>0.003964</td>\n",
              "      <td>0.004812</td>\n",
              "      <td>0.407507</td>\n",
              "      <td>0.346687</td>\n",
              "      <td>0.050646</td>\n",
              "      <td>0.020529</td>\n",
              "      <td>1.023562</td>\n",
              "      <td>0.987328</td>\n",
              "      <td>0.010498</td>\n",
              "      <td>0.318509</td>\n",
              "    </tr>\n",
              "    <tr>\n",
              "      <th>0</th>\n",
              "      <td>16.0</td>\n",
              "      <td>0.473734</td>\n",
              "      <td>0.451960</td>\n",
              "      <td>0.047229</td>\n",
              "      <td>0.010797</td>\n",
              "      <td>0.748845</td>\n",
              "      <td>0.982112</td>\n",
              "      <td>0.009150</td>\n",
              "      <td>0.147760</td>\n",
              "      <td>0.582605</td>\n",
              "      <td>...</td>\n",
              "      <td>0.007397</td>\n",
              "      <td>0.148957</td>\n",
              "      <td>0.208881</td>\n",
              "      <td>0.146374</td>\n",
              "      <td>0.045669</td>\n",
              "      <td>0.019523</td>\n",
              "      <td>0.798856</td>\n",
              "      <td>0.980882</td>\n",
              "      <td>0.010097</td>\n",
              "      <td>0.195138</td>\n",
              "    </tr>\n",
              "    <tr>\n",
              "      <th>0</th>\n",
              "      <td>17.0</td>\n",
              "      <td>0.477989</td>\n",
              "      <td>0.308229</td>\n",
              "      <td>0.064831</td>\n",
              "      <td>0.020347</td>\n",
              "      <td>1.210463</td>\n",
              "      <td>0.977012</td>\n",
              "      <td>0.016810</td>\n",
              "      <td>-0.026044</td>\n",
              "      <td>0.808582</td>\n",
              "      <td>...</td>\n",
              "      <td>0.004738</td>\n",
              "      <td>-0.070084</td>\n",
              "      <td>0.281549</td>\n",
              "      <td>0.169708</td>\n",
              "      <td>0.056382</td>\n",
              "      <td>0.020379</td>\n",
              "      <td>0.970994</td>\n",
              "      <td>0.991539</td>\n",
              "      <td>0.008121</td>\n",
              "      <td>-0.163205</td>\n",
              "    </tr>\n",
              "    <tr>\n",
              "      <th>0</th>\n",
              "      <td>18.0</td>\n",
              "      <td>0.719403</td>\n",
              "      <td>0.432108</td>\n",
              "      <td>0.074667</td>\n",
              "      <td>0.015510</td>\n",
              "      <td>1.283179</td>\n",
              "      <td>0.979720</td>\n",
              "      <td>0.016715</td>\n",
              "      <td>0.330770</td>\n",
              "      <td>1.044163</td>\n",
              "      <td>...</td>\n",
              "      <td>0.009472</td>\n",
              "      <td>-0.043887</td>\n",
              "      <td>0.394659</td>\n",
              "      <td>0.263646</td>\n",
              "      <td>0.059714</td>\n",
              "      <td>0.020888</td>\n",
              "      <td>1.147667</td>\n",
              "      <td>0.970397</td>\n",
              "      <td>0.018148</td>\n",
              "      <td>0.094138</td>\n",
              "    </tr>\n",
              "    <tr>\n",
              "      <th>0</th>\n",
              "      <td>19.0</td>\n",
              "      <td>0.277546</td>\n",
              "      <td>0.225784</td>\n",
              "      <td>0.046531</td>\n",
              "      <td>0.017834</td>\n",
              "      <td>0.709438</td>\n",
              "      <td>0.983473</td>\n",
              "      <td>0.008326</td>\n",
              "      <td>0.283329</td>\n",
              "      <td>0.477957</td>\n",
              "      <td>...</td>\n",
              "      <td>0.005406</td>\n",
              "      <td>0.173929</td>\n",
              "      <td>0.273174</td>\n",
              "      <td>0.248241</td>\n",
              "      <td>0.043039</td>\n",
              "      <td>0.015226</td>\n",
              "      <td>0.666893</td>\n",
              "      <td>0.984029</td>\n",
              "      <td>0.007692</td>\n",
              "      <td>0.157799</td>\n",
              "    </tr>\n",
              "    <tr>\n",
              "      <th>0</th>\n",
              "      <td>20.0</td>\n",
              "      <td>0.676085</td>\n",
              "      <td>0.508226</td>\n",
              "      <td>0.060211</td>\n",
              "      <td>0.016547</td>\n",
              "      <td>1.155121</td>\n",
              "      <td>0.981821</td>\n",
              "      <td>0.014230</td>\n",
              "      <td>0.239132</td>\n",
              "      <td>0.596592</td>\n",
              "      <td>...</td>\n",
              "      <td>0.003082</td>\n",
              "      <td>-0.027266</td>\n",
              "      <td>0.269206</td>\n",
              "      <td>0.202991</td>\n",
              "      <td>0.048295</td>\n",
              "      <td>0.018147</td>\n",
              "      <td>0.777526</td>\n",
              "      <td>0.987774</td>\n",
              "      <td>0.007831</td>\n",
              "      <td>0.247979</td>\n",
              "    </tr>\n",
              "  </tbody>\n",
              "</table>\n",
              "<p>20 rows × 33 columns</p>\n",
              "</div>\n",
              "      <button class=\"colab-df-convert\" onclick=\"convertToInteractive('df-54773844-7415-41c4-8ba4-c65ee1adbfd5')\"\n",
              "              title=\"Convert this dataframe to an interactive table.\"\n",
              "              style=\"display:none;\">\n",
              "        \n",
              "  <svg xmlns=\"http://www.w3.org/2000/svg\" height=\"24px\"viewBox=\"0 0 24 24\"\n",
              "       width=\"24px\">\n",
              "    <path d=\"M0 0h24v24H0V0z\" fill=\"none\"/>\n",
              "    <path d=\"M18.56 5.44l.94 2.06.94-2.06 2.06-.94-2.06-.94-.94-2.06-.94 2.06-2.06.94zm-11 1L8.5 8.5l.94-2.06 2.06-.94-2.06-.94L8.5 2.5l-.94 2.06-2.06.94zm10 10l.94 2.06.94-2.06 2.06-.94-2.06-.94-.94-2.06-.94 2.06-2.06.94z\"/><path d=\"M17.41 7.96l-1.37-1.37c-.4-.4-.92-.59-1.43-.59-.52 0-1.04.2-1.43.59L10.3 9.45l-7.72 7.72c-.78.78-.78 2.05 0 2.83L4 21.41c.39.39.9.59 1.41.59.51 0 1.02-.2 1.41-.59l7.78-7.78 2.81-2.81c.8-.78.8-2.07 0-2.86zM5.41 20L4 18.59l7.72-7.72 1.47 1.35L5.41 20z\"/>\n",
              "  </svg>\n",
              "      </button>\n",
              "      \n",
              "  <style>\n",
              "    .colab-df-container {\n",
              "      display:flex;\n",
              "      flex-wrap:wrap;\n",
              "      gap: 12px;\n",
              "    }\n",
              "\n",
              "    .colab-df-convert {\n",
              "      background-color: #E8F0FE;\n",
              "      border: none;\n",
              "      border-radius: 50%;\n",
              "      cursor: pointer;\n",
              "      display: none;\n",
              "      fill: #1967D2;\n",
              "      height: 32px;\n",
              "      padding: 0 0 0 0;\n",
              "      width: 32px;\n",
              "    }\n",
              "\n",
              "    .colab-df-convert:hover {\n",
              "      background-color: #E2EBFA;\n",
              "      box-shadow: 0px 1px 2px rgba(60, 64, 67, 0.3), 0px 1px 3px 1px rgba(60, 64, 67, 0.15);\n",
              "      fill: #174EA6;\n",
              "    }\n",
              "\n",
              "    [theme=dark] .colab-df-convert {\n",
              "      background-color: #3B4455;\n",
              "      fill: #D2E3FC;\n",
              "    }\n",
              "\n",
              "    [theme=dark] .colab-df-convert:hover {\n",
              "      background-color: #434B5C;\n",
              "      box-shadow: 0px 1px 3px 1px rgba(0, 0, 0, 0.15);\n",
              "      filter: drop-shadow(0px 1px 2px rgba(0, 0, 0, 0.3));\n",
              "      fill: #FFFFFF;\n",
              "    }\n",
              "  </style>\n",
              "\n",
              "      <script>\n",
              "        const buttonEl =\n",
              "          document.querySelector('#df-54773844-7415-41c4-8ba4-c65ee1adbfd5 button.colab-df-convert');\n",
              "        buttonEl.style.display =\n",
              "          google.colab.kernel.accessAllowed ? 'block' : 'none';\n",
              "\n",
              "        async function convertToInteractive(key) {\n",
              "          const element = document.querySelector('#df-54773844-7415-41c4-8ba4-c65ee1adbfd5');\n",
              "          const dataTable =\n",
              "            await google.colab.kernel.invokeFunction('convertToInteractive',\n",
              "                                                     [key], {});\n",
              "          if (!dataTable) return;\n",
              "\n",
              "          const docLinkHtml = 'Like what you see? Visit the ' +\n",
              "            '<a target=\"_blank\" href=https://colab.research.google.com/notebooks/data_table.ipynb>data table notebook</a>'\n",
              "            + ' to learn more about interactive tables.';\n",
              "          element.innerHTML = '';\n",
              "          dataTable['output_type'] = 'display_data';\n",
              "          await google.colab.output.renderOutput(dataTable, element);\n",
              "          const docLink = document.createElement('div');\n",
              "          docLink.innerHTML = docLinkHtml;\n",
              "          element.appendChild(docLink);\n",
              "        }\n",
              "      </script>\n",
              "    </div>\n",
              "  </div>\n",
              "  "
            ]
          },
          "metadata": {},
          "execution_count": 84
        }
      ]
    },
    {
      "cell_type": "code",
      "source": [
        "#mean_df = df['R-cuadrado-Modelo-Beysens(6am)'].mean()\n",
        "#print(mean_df)"
      ],
      "metadata": {
        "id": "gUODj0yHv57j"
      },
      "execution_count": null,
      "outputs": []
    },
    {
      "cell_type": "markdown",
      "source": [
        "# Resultados de Pruebas a modelo test"
      ],
      "metadata": {
        "id": "QSOrRflPjjhE"
      }
    },
    {
      "cell_type": "code",
      "source": [
        "import matplotlib.pyplot as plt"
      ],
      "metadata": {
        "id": "Os2W_UzOv95q"
      },
      "execution_count": null,
      "outputs": []
    },
    {
      "cell_type": "code",
      "source": [
        "#Graficos"
      ],
      "metadata": {
        "id": "cHh1oqcXrLcg"
      },
      "execution_count": null,
      "outputs": []
    },
    {
      "cell_type": "markdown",
      "source": [
        "## grafico 1, modelo R cuadrado"
      ],
      "metadata": {
        "id": "hejJV5c3rNz8"
      }
    },
    {
      "cell_type": "code",
      "source": [
        "fig, ax = plt.subplots(figsize=(8,6))   \n",
        "\n",
        "\n",
        "pruebas= resultadoDatos['Pruebas']\n",
        "resultados={'Modelo Beysens(6am)':resultadoDatos['rsquared_6am-Beysens'],'Modelo RNA(6am)':resultadoDatos['rsquared_6am-MLP']}\n",
        "ax.plot(pruebas,resultados['Modelo Beysens(6am)'], marker ='^',label=\"Modelo-Beysens(6am)\")\n",
        "ax.plot(pruebas,resultados['Modelo RNA(6am)'], marker = 'o',label=\"Modelo-MLP(6am)\")\n",
        "plt.ylabel('Resultado R cuadrado')\n",
        "plt.xlabel('Cantidad de Pruebas')\n",
        "legend = ax.legend(loc=\"best\")  \n",
        "plt.show()"
      ],
      "metadata": {
        "colab": {
          "base_uri": "https://localhost:8080/",
          "height": 388
        },
        "id": "W2hyjEiprbbB",
        "outputId": "bedff4a5-c6d0-4b7b-b1f3-037e324013e5"
      },
      "execution_count": null,
      "outputs": [
        {
          "output_type": "display_data",
          "data": {
            "text/plain": [
              "<Figure size 576x432 with 1 Axes>"
            ],
            "image/png": "[encoded data removed]"
          },
          "metadata": {
            "needs_background": "light"
          }
        }
      ]
    },
    {
      "cell_type": "code",
      "source": [
        "mean_df1 = resultadoDatos['rsquared_6am-Beysens'].mean()\n",
        "print(mean_df1)"
      ],
      "metadata": {
        "colab": {
          "base_uri": "https://localhost:8080/"
        },
        "id": "jyHmWGhS2ksJ",
        "outputId": "8ea36b85-a29b-4e63-c0bd-7a2604b28b48"
      },
      "execution_count": null,
      "outputs": [
        {
          "output_type": "stream",
          "name": "stdout",
          "text": [
            "0.3528370727032706\n"
          ]
        }
      ]
    },
    {
      "cell_type": "code",
      "source": [
        "mean_df = resultadoDatos['rsquared_6am-MLP'].mean()\n",
        "print(mean_df)"
      ],
      "metadata": {
        "colab": {
          "base_uri": "https://localhost:8080/"
        },
        "id": "7zw1WUOg22U6",
        "outputId": "1ef4ac51-5d1e-4b02-914e-023a2f8fd713"
      },
      "execution_count": null,
      "outputs": [
        {
          "output_type": "stream",
          "name": "stdout",
          "text": [
            "0.3418778756247818\n"
          ]
        }
      ]
    },
    {
      "cell_type": "code",
      "source": [
        "# Import statistics Library\n",
        "import statistics\n",
        "\n",
        "# Calculate the standard deviation from a sample of data\n",
        "print(statistics.stdev(resultadoDatos['rsquared_6am-Beysens']))\n",
        "# Import statistics Library\n",
        "import statistics\n",
        "\n",
        "# Calculate the standard deviation from a sample of data\n",
        "print(statistics.stdev(resultadoDatos['rsquared_6am-MLP']))"
      ],
      "metadata": {
        "colab": {
          "base_uri": "https://localhost:8080/"
        },
        "id": "PyJkdpa0oaia",
        "outputId": "abbc3d1c-03c7-476a-d600-607b2439981a"
      },
      "execution_count": null,
      "outputs": [
        {
          "output_type": "stream",
          "name": "stdout",
          "text": [
            "0.12504627967865148\n",
            "0.14006585439709857\n"
          ]
        }
      ]
    },
    {
      "cell_type": "markdown",
      "source": [
        "## m"
      ],
      "metadata": {
        "id": "Hxc0IXpMTyYm"
      }
    },
    {
      "cell_type": "code",
      "source": [
        "fig, ax = plt.subplots(figsize=(8,6))   \n",
        "\n",
        "\n",
        "pruebas= resultadoDatos['Pruebas']\n",
        "resultados={'Modelo Beysens(6am)':resultadoDatos['coef(a)_6am-Beysens'],'Modelo RNA(6am)':resultadoDatos['coef(a)_6am-MLP']}\n",
        "ax.plot(pruebas,resultados['Modelo Beysens(6am)'], marker ='^',label=\"m del Modelo-Beysens(6am)\")\n",
        "ax.plot(pruebas,resultados['Modelo RNA(6am)'], marker = 'o',label=\"m del Modelo-MLP(6am)\")\n",
        "plt.ylabel('Resultado pendiente')\n",
        "plt.xlabel('Cantidad de Pruebas')\n",
        "legend = ax.legend(loc=\"best\")  \n",
        "plt.show()"
      ],
      "metadata": {
        "colab": {
          "base_uri": "https://localhost:8080/",
          "height": 52
        },
        "id": "plw1XO2sTzyq",
        "outputId": "c50959ba-c864-4c66-b7f3-afc142babd27"
      },
      "execution_count": null,
      "outputs": [
        {
          "output_type": "display_data",
          "data": {
            "text/plain": [
              "<Figure size 576x432 with 1 Axes>"
            ],
            "image/png": "[encoded data removed]"
          },
          "metadata": {
            "needs_background": "light"
          }
        }
      ]
    },
    {
      "cell_type": "code",
      "source": [
        "mean_df111 = resultadoDatos['coef(a)_6am-Beysens'].mean()\n",
        "print(mean_df111)"
      ],
      "metadata": {
        "colab": {
          "base_uri": "https://localhost:8080/"
        },
        "id": "cMW_h9esY3yW",
        "outputId": "eac02352-e850-4995-90e7-160516a6aa70"
      },
      "execution_count": null,
      "outputs": [
        {
          "output_type": "stream",
          "name": "stdout",
          "text": [
            "0.6605499430875229\n"
          ]
        }
      ]
    },
    {
      "cell_type": "code",
      "source": [
        "mean_df = resultadoDatos['coef(a)_6am-MLP'].mean()\n",
        "print(mean_df)"
      ],
      "metadata": {
        "colab": {
          "base_uri": "https://localhost:8080/"
        },
        "id": "XDNu7OcTY37q",
        "outputId": "48a8e62c-15e0-409e-bae4-091b3615d3e2"
      },
      "execution_count": null,
      "outputs": [
        {
          "output_type": "stream",
          "name": "stdout",
          "text": [
            "0.475782044351514\n"
          ]
        }
      ]
    },
    {
      "cell_type": "code",
      "source": [
        "# Import statistics Library\n",
        "import statistics\n",
        "\n",
        "# Calculate the standard deviation from a sample of data\n",
        "print(statistics.stdev(resultadoDatos['coef(a)_6am-Beysens']))\n",
        "# Import statistics Library\n",
        "import statistics\n",
        "\n",
        "# Calculate the standard deviation from a sample of data\n",
        "print(statistics.stdev(resultadoDatos['coef(a)_6am-MLP']))"
      ],
      "metadata": {
        "id": "fbcniKqsZ4P2",
        "colab": {
          "base_uri": "https://localhost:8080/"
        },
        "outputId": "fe1689ee-4a8d-4861-c66f-afc2db2490af"
      },
      "execution_count": null,
      "outputs": [
        {
          "output_type": "stream",
          "name": "stdout",
          "text": [
            "0.16909290405613375\n",
            "0.14589094778236195\n"
          ]
        }
      ]
    },
    {
      "cell_type": "markdown",
      "source": [
        "## coef"
      ],
      "metadata": {
        "id": "nW3EBhkGT2nq"
      }
    },
    {
      "cell_type": "code",
      "source": [
        "fig, ax = plt.subplots(figsize=(8,6))   \n",
        "\n",
        "\n",
        "pruebas= resultadoDatos['Pruebas']\n",
        "resultados={'Modelo Beysens(6am)':resultadoDatos['coef(b)_6am-Beysens'],'Modelo RNA(6am)':resultadoDatos['coef(b)_6am-MLP']}\n",
        "ax.plot(pruebas,resultados['Modelo Beysens(6am)'], marker ='^',label=\"coef b del Modelo-Beysens(6am)\")\n",
        "ax.plot(pruebas,resultados['Modelo RNA(6am)'], marker = 'o',label=\"coef b del Modelo-MLP(6am)\")\n",
        "plt.ylabel('Resultado coef')\n",
        "plt.xlabel('Cantidad de Pruebas')\n",
        "legend = ax.legend(loc=\"best\")  \n",
        "plt.show()"
      ],
      "metadata": {
        "colab": {
          "base_uri": "https://localhost:8080/",
          "height": 52
        },
        "id": "7Vf36CdFT4_-",
        "outputId": "8c007881-6247-409f-903b-7060dfe7f0c0"
      },
      "execution_count": null,
      "outputs": [
        {
          "output_type": "display_data",
          "data": {
            "text/plain": [
              "<Figure size 576x432 with 1 Axes>"
            ],
            "image/png": "[encoded data removed]"
          },
          "metadata": {
            "needs_background": "light"
          }
        }
      ]
    },
    {
      "cell_type": "code",
      "source": [
        "mean_df1145 = resultadoDatos['coef(b)_6am-Beysens'].mean()\n",
        "print(mean_df1145)"
      ],
      "metadata": {
        "colab": {
          "base_uri": "https://localhost:8080/"
        },
        "id": "LVGZ2sqyZ4-w",
        "outputId": "3766c301-91bf-422f-c895-f72a33e44b36"
      },
      "execution_count": null,
      "outputs": [
        {
          "output_type": "stream",
          "name": "stdout",
          "text": [
            "0.015686316412857775\n"
          ]
        }
      ]
    },
    {
      "cell_type": "code",
      "source": [
        "mean_df1245 = resultadoDatos['coef(b)_6am-MLP'].mean()\n",
        "print(mean_df1245)"
      ],
      "metadata": {
        "colab": {
          "base_uri": "https://localhost:8080/"
        },
        "id": "92V9Xzb9Z6h6",
        "outputId": "0bd5a510-a47c-4185-e3b8-1c6b7984d7ab"
      },
      "execution_count": null,
      "outputs": [
        {
          "output_type": "stream",
          "name": "stdout",
          "text": [
            "0.017011937609799084\n"
          ]
        }
      ]
    },
    {
      "cell_type": "code",
      "source": [
        "# Import statistics Library\n",
        "import statistics\n",
        "\n",
        "# Calculate the standard deviation from a sample of data\n",
        "print(statistics.stdev(resultadoDatos['coef(b)_6am-Beysens']))\n",
        "# Import statistics Library\n",
        "import statistics\n",
        "\n",
        "# Calculate the standard deviation from a sample of data\n",
        "print(statistics.stdev(resultadoDatos['coef(b)_6am-MLP']))"
      ],
      "metadata": {
        "colab": {
          "base_uri": "https://localhost:8080/"
        },
        "id": "ows-nmAFp6UU",
        "outputId": "5492b4c4-51cb-4e89-d98e-61d7513b5082"
      },
      "execution_count": null,
      "outputs": [
        {
          "output_type": "stream",
          "name": "stdout",
          "text": [
            "0.0033976358284269854\n",
            "0.005428277080496952\n"
          ]
        }
      ]
    },
    {
      "cell_type": "markdown",
      "source": [
        "## error"
      ],
      "metadata": {
        "id": "-B7QfKsnT5eL"
      }
    },
    {
      "cell_type": "code",
      "source": [
        "fig, ax = plt.subplots(figsize=(8,6))   \n",
        "\n",
        "\n",
        "pruebas= resultadoDatos['Pruebas']\n",
        "resultados={'Modelo Beysens(6am)':resultadoDatos['Standard Error_6am-Beysens'],'Modelo RNA(6am)':resultadoDatos['Standard Error_6am-MLP']}\n",
        "ax.plot(pruebas,resultados['Modelo Beysens(6am)'], marker ='^',label=\"Standard Error del Modelo-Beysens(6am)\")\n",
        "ax.plot(pruebas,resultados['Modelo RNA(6am)'], marker = 'o',label=\"Standard Error del Modelo-MLP(6am)\")\n",
        "plt.ylabel('Resultados de Standard Error')\n",
        "plt.xlabel('Cantidad de Pruebas')\n",
        "legend = ax.legend(loc=\"best\")  \n",
        "plt.show()"
      ],
      "metadata": {
        "colab": {
          "base_uri": "https://localhost:8080/",
          "height": 387
        },
        "id": "SlkEhZrKT8N8",
        "outputId": "a0825ffa-c1e9-4cd8-d008-c8e0d666a9f8"
      },
      "execution_count": null,
      "outputs": [
        {
          "output_type": "display_data",
          "data": {
            "text/plain": [
              "<Figure size 576x432 with 1 Axes>"
            ],
            "image/png": "[encoded data removed]"
          },
          "metadata": {
            "needs_background": "light"
          }
        }
      ]
    },
    {
      "cell_type": "code",
      "source": [
        "mean_df114 = resultadoDatos['Standard Error_6am-Beysens'].mean()\n",
        "print(mean_df114)"
      ],
      "metadata": {
        "colab": {
          "base_uri": "https://localhost:8080/"
        },
        "id": "2HAuXg7radvT",
        "outputId": "10d1eb54-0bff-46b4-e344-9f9dab8defe3"
      },
      "execution_count": null,
      "outputs": [
        {
          "output_type": "stream",
          "name": "stdout",
          "text": [
            "0.08110983485382971\n"
          ]
        }
      ]
    },
    {
      "cell_type": "code",
      "source": [
        "mean_df124 = resultadoDatos['Standard Error_6am-MLP'].mean()\n",
        "print(mean_df124)"
      ],
      "metadata": {
        "colab": {
          "base_uri": "https://localhost:8080/"
        },
        "id": "9oW1_FXLae8s",
        "outputId": "d38877ab-74d5-4f57-9a85-d7e98a79e2ce"
      },
      "execution_count": null,
      "outputs": [
        {
          "output_type": "stream",
          "name": "stdout",
          "text": [
            "0.06225573036732126\n"
          ]
        }
      ]
    },
    {
      "cell_type": "code",
      "source": [
        "# Import statistics Library\n",
        "import statistics\n",
        "\n",
        "# Calculate the standard deviation from a sample of data\n",
        "print(statistics.stdev(resultadoDatos['Standard Error_6am-Beysens']))\n",
        "# Import statistics Library\n",
        "import statistics\n",
        "\n",
        "# Calculate the standard deviation from a sample of data\n",
        "print(statistics.stdev(resultadoDatos['Standard Error_6am-MLP']))"
      ],
      "metadata": {
        "colab": {
          "base_uri": "https://localhost:8080/"
        },
        "id": "f0ZLUwqoqL6V",
        "outputId": "098a6ee2-ec30-4c34-b96e-15d312f4cf82"
      },
      "execution_count": null,
      "outputs": [
        {
          "output_type": "stream",
          "name": "stdout",
          "text": [
            "0.009356788312973353\n",
            "0.01984967337794737\n"
          ]
        }
      ]
    },
    {
      "cell_type": "markdown",
      "source": [
        "## grafico 2"
      ],
      "metadata": {
        "id": "mF8wcxkrrOEE"
      }
    },
    {
      "cell_type": "code",
      "source": [
        "fig, ax = plt.subplots(figsize=(8,6)) \n",
        "\n",
        "pruebas= resultadoDatos['Pruebas']\n",
        "resultados={'Modelo Beysens(6am)':resultadoDatos['rsquared_Acu-6am-Beysens'],'Modelo RNA(6am)':resultadoDatos['rsquared_Acu-6am-MLP']}\n",
        "ax.plot(pruebas,resultados['Modelo Beysens(6am)'], marker ='^',label=\"Modelo-Acumulado-Beysens(6am)\")\n",
        "ax.plot(pruebas,resultados['Modelo RNA(6am)'], marker = 'o',label=\"Modelo-Acumulado-MLP(6am)\")\n",
        "plt.ylabel('Resultados R cuadrado acumulado')\n",
        "plt.xlabel('Cantidad de Pruebas')\n",
        "legend = ax.legend(loc=\"best\")  \n",
        "plt.show()"
      ],
      "metadata": {
        "colab": {
          "base_uri": "https://localhost:8080/",
          "height": 387
        },
        "id": "mSbw6rWDrcU-",
        "outputId": "5f1aea67-eece-4d0b-e1fa-137b1230836f"
      },
      "execution_count": null,
      "outputs": [
        {
          "output_type": "display_data",
          "data": {
            "text/plain": [
              "<Figure size 576x432 with 1 Axes>"
            ],
            "image/png": "[encoded data removed]"
          },
          "metadata": {
            "needs_background": "light"
          }
        }
      ]
    },
    {
      "cell_type": "code",
      "source": [
        "mean_df11 = resultadoDatos['rsquared_Acu-6am-Beysens'].mean()\n",
        "print(mean_df11)"
      ],
      "metadata": {
        "id": "LfG8O_KjAtnG",
        "outputId": "4f6cb5d2-88c4-478c-821c-a9f8c7709f3b",
        "colab": {
          "base_uri": "https://localhost:8080/"
        }
      },
      "execution_count": null,
      "outputs": [
        {
          "output_type": "stream",
          "name": "stdout",
          "text": [
            "0.9735083313070536\n"
          ]
        }
      ]
    },
    {
      "cell_type": "code",
      "source": [
        "mean_df11 = resultadoDatos['rsquared_Acu-6am-MLP'].mean()\n",
        "print(mean_df11)"
      ],
      "metadata": {
        "id": "ggPZSGAjAw0_",
        "outputId": "834d45c6-ae19-40ea-b86d-1a1870fdd4ce",
        "colab": {
          "base_uri": "https://localhost:8080/"
        }
      },
      "execution_count": null,
      "outputs": [
        {
          "output_type": "stream",
          "name": "stdout",
          "text": [
            "0.9713233366864833\n"
          ]
        }
      ]
    },
    {
      "cell_type": "code",
      "source": [
        "# Import statistics Library\n",
        "import statistics\n",
        "\n",
        "# Calculate the standard deviation from a sample of data\n",
        "print(statistics.stdev(resultadoDatos['rsquared_Acu-6am-Beysens']))\n",
        "# Import statistics Library\n",
        "import statistics\n",
        "\n",
        "# Calculate the standard deviation from a sample of data\n",
        "print(statistics.stdev(resultadoDatos['rsquared_Acu-6am-MLP']))"
      ],
      "metadata": {
        "id": "ycf1lyWfT_yH",
        "colab": {
          "base_uri": "https://localhost:8080/"
        },
        "outputId": "0a10f503-e11b-4e18-eaf6-ae3d6f4cf9a1"
      },
      "execution_count": null,
      "outputs": [
        {
          "output_type": "stream",
          "name": "stdout",
          "text": [
            "0.01568829844413658\n",
            "0.021257940097649104\n"
          ]
        }
      ]
    },
    {
      "cell_type": "markdown",
      "source": [
        "## m"
      ],
      "metadata": {
        "id": "2fPwNQr-UBj6"
      }
    },
    {
      "cell_type": "code",
      "source": [
        "fig, ax = plt.subplots(figsize=(8,6))   \n",
        "\n",
        "\n",
        "pruebas= resultadoDatos['Pruebas']\n",
        "resultados={'Modelo Beysens(6am)':resultadoDatos['coef(a)_Acu-6am-Beysens'],'Modelo RNA(6am)':resultadoDatos['coef(a)_Acu-6am-MLP']}\n",
        "ax.plot(pruebas,resultados['Modelo Beysens(6am)'], marker ='^',label=\"m del Modelo-Acumulado-Beysens(6am)\")\n",
        "ax.plot(pruebas,resultados['Modelo RNA(6am)'], marker = 'o',label=\"m del Modelo-Acumulado-MLP(6am)\")\n",
        "plt.ylabel('Resultados m')\n",
        "plt.xlabel('Cantidad de Pruebas')\n",
        "legend = ax.legend(loc=\"best\")  \n",
        "plt.show()"
      ],
      "metadata": {
        "colab": {
          "base_uri": "https://localhost:8080/",
          "height": 387
        },
        "id": "YLs2Ib8eUB1W",
        "outputId": "182d5336-db2d-4a28-dc3a-19e57779205e"
      },
      "execution_count": null,
      "outputs": [
        {
          "output_type": "display_data",
          "data": {
            "text/plain": [
              "<Figure size 576x432 with 1 Axes>"
            ],
            "image/png": "[encoded data removed]"
          },
          "metadata": {
            "needs_background": "light"
          }
        }
      ]
    },
    {
      "cell_type": "code",
      "source": [
        "mean_df11112 = resultadoDatos['coef(a)_Acu-6am-Beysens'].mean()\n",
        "print(mean_df11112)"
      ],
      "metadata": {
        "colab": {
          "base_uri": "https://localhost:8080/"
        },
        "id": "eris71_aiHj2",
        "outputId": "07e03ad3-3b37-4a06-9707-83f068458c49"
      },
      "execution_count": null,
      "outputs": [
        {
          "output_type": "stream",
          "name": "stdout",
          "text": [
            "1.1592374637620992\n"
          ]
        }
      ]
    },
    {
      "cell_type": "code",
      "source": [
        "mean_df11111 = resultadoDatos['coef(a)_Acu-6am-MLP'].mean()\n",
        "print(mean_df11111)"
      ],
      "metadata": {
        "colab": {
          "base_uri": "https://localhost:8080/"
        },
        "id": "ncglmMP3iN9J",
        "outputId": "3a8beab5-4f85-4e24-e80b-d0b214b346fe"
      },
      "execution_count": null,
      "outputs": [
        {
          "output_type": "stream",
          "name": "stdout",
          "text": [
            "1.0153498615740333\n"
          ]
        }
      ]
    },
    {
      "cell_type": "code",
      "source": [
        "# Import statistics Library\n",
        "import statistics\n",
        "\n",
        "# Calculate the standard deviation from a sample of data\n",
        "print(statistics.stdev(resultadoDatos['coef(a)_Acu-6am-Beysens']))\n",
        "# Import statistics Library\n",
        "import statistics\n",
        "\n",
        "# Calculate the standard deviation from a sample of data\n",
        "print(statistics.stdev(resultadoDatos['coef(a)_Acu-6am-MLP']))"
      ],
      "metadata": {
        "colab": {
          "base_uri": "https://localhost:8080/"
        },
        "id": "9t5Rkiw9qpsH",
        "outputId": "81406dd4-848c-4aa9-eec0-9b22fef1aa64"
      },
      "execution_count": null,
      "outputs": [
        {
          "output_type": "stream",
          "name": "stdout",
          "text": [
            "0.20518487527592028\n",
            "0.26365547027031383\n"
          ]
        }
      ]
    },
    {
      "cell_type": "markdown",
      "source": [
        "## coef"
      ],
      "metadata": {
        "id": "h9KOMnmtUCD9"
      }
    },
    {
      "cell_type": "code",
      "source": [
        "fig, ax = plt.subplots(figsize=(8,6))   \n",
        "\n",
        "\n",
        "pruebas= resultadoDatos['Pruebas']\n",
        "resultados={'Modelo Beysens(6am)':resultadoDatos['coef(b)_Acu-6am-Beysens'],'Modelo RNA(6am)':resultadoDatos['coef(b)_Acu-6am-MLP']}\n",
        "ax.plot(pruebas,resultados['Modelo Beysens(6am)'], marker ='^',label=\"m del Modelo-Acumulado-Beysens(6am)\")\n",
        "ax.plot(pruebas,resultados['Modelo RNA(6am)'], marker = 'o',label=\"m del Modelo-Acumulado-MLP(6am)\")\n",
        "plt.ylabel('Resultados coef')\n",
        "plt.xlabel('Cantidad de Pruebas')\n",
        "legend = ax.legend(loc=\"best\")  \n",
        "plt.show()"
      ],
      "metadata": {
        "colab": {
          "base_uri": "https://localhost:8080/",
          "height": 388
        },
        "id": "8bn7MudUUCNB",
        "outputId": "d35a14cd-980c-496b-907c-d810abb88be2"
      },
      "execution_count": null,
      "outputs": [
        {
          "output_type": "display_data",
          "data": {
            "text/plain": [
              "<Figure size 576x432 with 1 Axes>"
            ],
            "image/png": "[encoded data removed]"
          },
          "metadata": {
            "needs_background": "light"
          }
        }
      ]
    },
    {
      "cell_type": "code",
      "source": [
        "mean_df63 = resultadoDatos['coef(b)_Acu-6am-Beysens'].mean()\n",
        "print(mean_df63)"
      ],
      "metadata": {
        "colab": {
          "base_uri": "https://localhost:8080/"
        },
        "id": "hO9eDlvMCV_A",
        "outputId": "240bd9c9-d7fa-4004-ba4c-9389866e0987"
      },
      "execution_count": null,
      "outputs": [
        {
          "output_type": "stream",
          "name": "stdout",
          "text": [
            "0.07327598384621856\n"
          ]
        }
      ]
    },
    {
      "cell_type": "code",
      "source": [
        "mean_df64= resultadoDatos['coef(b)_Acu-6am-MLP'].mean()\n",
        "print(mean_df64)"
      ],
      "metadata": {
        "colab": {
          "base_uri": "https://localhost:8080/"
        },
        "id": "mecXX7avCWBD",
        "outputId": "7c4d5081-5bc2-4478-9a55-2fad8fa92f97"
      },
      "execution_count": null,
      "outputs": [
        {
          "output_type": "stream",
          "name": "stdout",
          "text": [
            "0.10366867835786017\n"
          ]
        }
      ]
    },
    {
      "cell_type": "code",
      "source": [
        "# Import statistics Library\n",
        "import statistics\n",
        "\n",
        "# Calculate the standard deviation from a sample of data\n",
        "print(statistics.stdev(resultadoDatos['coef(b)_Acu-6am-Beysens']))\n",
        "# Import statistics Library\n",
        "import statistics\n",
        "\n",
        "# Calculate the standard deviation from a sample of data\n",
        "print(statistics.stdev(resultadoDatos['coef(b)_Acu-6am-MLP']))"
      ],
      "metadata": {
        "colab": {
          "base_uri": "https://localhost:8080/"
        },
        "id": "FGq0SKiSquHJ",
        "outputId": "693a7cf0-4b9a-41ab-bdff-817aa336e8fc"
      },
      "execution_count": null,
      "outputs": [
        {
          "output_type": "stream",
          "name": "stdout",
          "text": [
            "0.29424768882547914\n",
            "0.26543343120577184\n"
          ]
        }
      ]
    },
    {
      "cell_type": "markdown",
      "source": [
        "## error"
      ],
      "metadata": {
        "id": "G0SkcXd6UCX_"
      }
    },
    {
      "cell_type": "code",
      "source": [
        "fig, ax = plt.subplots(figsize=(8,6))   \n",
        "\n",
        "\n",
        "pruebas1= resultadoDatos['Pruebas']\n",
        "resultados1={'Modelo Beysens(6am)':resultadoDatos['Standard Error_Acu-6am-Beysens'],'Modelo RNA(6am)':resultadoDatos['Standard Error_Acu-6am-MLP']}\n",
        "ax.plot(pruebas1,resultados1['Modelo Beysens(6am)'], marker ='^',label=\"Standard Error del Modelo-Beysens(6am)\")\n",
        "ax.plot(pruebas1,resultados1['Modelo RNA(6am)'], marker = 'o',label=\"Standard Error del Modelo-MLP(6am)\")\n",
        "plt.ylabel('Resultados de los errores')\n",
        "plt.xlabel('Cantidad de Pruebas')\n",
        "legend = ax.legend(loc=\"best\")  \n",
        "plt.show()"
      ],
      "metadata": {
        "colab": {
          "base_uri": "https://localhost:8080/",
          "height": 387
        },
        "id": "oL4R8rX_UCgi",
        "outputId": "caad9a85-85ae-4a34-d8b3-d9c91fb3a548"
      },
      "execution_count": null,
      "outputs": [
        {
          "output_type": "display_data",
          "data": {
            "text/plain": [
              "<Figure size 576x432 with 1 Axes>"
            ],
            "image/png": "[encoded data removed]"
          },
          "metadata": {
            "needs_background": "light"
          }
        }
      ]
    },
    {
      "cell_type": "code",
      "source": [
        "mean_df6 = resultadoDatos['Standard Error_Acu-6am-Beysens'].mean()\n",
        "print(mean_df6)"
      ],
      "metadata": {
        "id": "fYBplwauCY4s",
        "colab": {
          "base_uri": "https://localhost:8080/"
        },
        "outputId": "e4865b21-82a9-468c-c52c-7dd017278720"
      },
      "execution_count": null,
      "outputs": [
        {
          "output_type": "stream",
          "name": "stdout",
          "text": [
            "0.016770603032842196\n"
          ]
        }
      ]
    },
    {
      "cell_type": "code",
      "source": [
        "mean_df6 = resultadoDatos['Standard Error_Acu-6am-MLP'].mean()\n",
        "print(mean_df6)"
      ],
      "metadata": {
        "id": "4bxMnwzXCZWW",
        "colab": {
          "base_uri": "https://localhost:8080/"
        },
        "outputId": "34fd310d-6e27-48d9-97c3-81b049ff652f"
      },
      "execution_count": null,
      "outputs": [
        {
          "output_type": "stream",
          "name": "stdout",
          "text": [
            "0.015477021884813886\n"
          ]
        }
      ]
    },
    {
      "cell_type": "code",
      "source": [
        "# Import statistics Library\n",
        "import statistics\n",
        "\n",
        "# Calculate the standard deviation from a sample of data\n",
        "print(statistics.stdev(resultadoDatos['Standard Error_Acu-6am-Beysens']))\n",
        "# Import statistics Library\n",
        "import statistics\n",
        "\n",
        "# Calculate the standard deviation from a sample of data\n",
        "print(statistics.stdev(resultadoDatos['rsquared_Beysens-PM']))"
      ],
      "metadata": {
        "colab": {
          "base_uri": "https://localhost:8080/"
        },
        "id": "5PUoSgBoqwQo",
        "outputId": "1224338b-30a2-4152-ed74-9b69281c8728"
      },
      "execution_count": null,
      "outputs": [
        {
          "output_type": "stream",
          "name": "stdout",
          "text": [
            "0.004773967812376958\n",
            "0.013154525744192222\n"
          ]
        }
      ]
    },
    {
      "cell_type": "markdown",
      "source": [
        "## grafico 3"
      ],
      "metadata": {
        "id": "si1hChVFrOSL"
      }
    },
    {
      "cell_type": "code",
      "source": [
        "fig, ax = plt.subplots(figsize=(8,6)) \n",
        "\n",
        "pruebas= resultadoDatos['Pruebas']\n",
        "resultados={'Modelo Beysens(PM)':resultadoDatos['rsquared_Beysens-PM'],'Modelo RNA(PM)':resultadoDatos['rsquared_MLP-PM']}\n",
        "ax.plot(pruebas,resultados['Modelo Beysens(PM)'], marker ='^',label=\"Modelo-Beysens(PM)\")\n",
        "ax.plot(pruebas,resultados['Modelo RNA(PM)'], marker = 'o',label=\"Modelo-MLP(PM)\")\n",
        "plt.ylabel('Resultado R cuadrado')\n",
        "plt.xlabel('Cantidad de Pruebas')\n",
        "legend = ax.legend(loc=\"best\")  \n",
        "plt.show()"
      ],
      "metadata": {
        "colab": {
          "base_uri": "https://localhost:8080/",
          "height": 387
        },
        "id": "Y5GeuGtyrd77",
        "outputId": "aadd031f-dc4a-42ab-fffa-21ce5302989a"
      },
      "execution_count": null,
      "outputs": [
        {
          "output_type": "display_data",
          "data": {
            "text/plain": [
              "<Figure size 576x432 with 1 Axes>"
            ],
            "image/png": "[encoded data removed]"
          },
          "metadata": {
            "needs_background": "light"
          }
        }
      ]
    },
    {
      "cell_type": "code",
      "source": [
        "mean_df6 = resultadoDatos['rsquared_Beysens-PM'].mean()\n",
        "print(mean_df6)"
      ],
      "metadata": {
        "id": "QGQdRFcb_2p-",
        "outputId": "0d242dcd-64c2-46f9-e986-5d6916229fd8",
        "colab": {
          "base_uri": "https://localhost:8080/"
        }
      },
      "execution_count": null,
      "outputs": [
        {
          "output_type": "stream",
          "name": "stdout",
          "text": [
            "0.009849304310507423\n"
          ]
        }
      ]
    },
    {
      "cell_type": "code",
      "source": [
        "mean_df7 = resultadoDatos['rsquared_MLP-PM'].mean()\n",
        "print(mean_df7)\n"
      ],
      "metadata": {
        "id": "I6tR7yhs__iO",
        "outputId": "b9a4bf85-dec0-4df9-c06f-fb99e75ba6e9",
        "colab": {
          "base_uri": "https://localhost:8080/"
        }
      },
      "execution_count": null,
      "outputs": [
        {
          "output_type": "stream",
          "name": "stdout",
          "text": [
            "0.2136927717010631\n"
          ]
        }
      ]
    },
    {
      "cell_type": "code",
      "source": [
        "# Import statistics Library\n",
        "import statistics\n",
        "\n",
        "# Calculate the standard deviation from a sample of data\n",
        "print(statistics.stdev(resultadoDatos['rsquared_Beysens-PM']))\n",
        "# Import statistics Library\n",
        "import statistics\n",
        "\n",
        "# Calculate the standard deviation from a sample of data\n",
        "print(statistics.stdev(resultadoDatos['rsquared_MLP-PM']))"
      ],
      "metadata": {
        "colab": {
          "base_uri": "https://localhost:8080/"
        },
        "id": "huZWC-Q7s3fR",
        "outputId": "cc90df24-9fc2-4907-cc7d-4ccea58cc90c"
      },
      "execution_count": null,
      "outputs": [
        {
          "output_type": "stream",
          "name": "stdout",
          "text": [
            "0.013154525744192222\n",
            "0.09801110381457291\n"
          ]
        }
      ]
    },
    {
      "cell_type": "markdown",
      "source": [
        "## m"
      ],
      "metadata": {
        "id": "gXBkjNykUZqn"
      }
    },
    {
      "cell_type": "code",
      "source": [
        "fig, ax = plt.subplots(figsize=(8,6))   \n",
        "#rsquared\n",
        "\n",
        "pruebas= resultadoDatos['Pruebas']\n",
        "resultados={'Modelo Beysens(6am)':resultadoDatos['coef(a)_Beysens-PM'],'Modelo RNA(6am)':resultadoDatos['coef(a)_MLP-PM']}\n",
        "ax.plot(pruebas,resultados['Modelo Beysens(6am)'], marker ='^',label=\"m del Modelo-Beysens(PM)\")\n",
        "ax.plot(pruebas,resultados['Modelo RNA(6am)'], marker = 'o',label=\"m del Modelo-MLP(PM)\")\n",
        "plt.ylabel('Resultados pendientes')\n",
        "plt.xlabel('Cantidad de Pruebas')\n",
        "legend = ax.legend(loc=\"best\")  \n",
        "plt.show()"
      ],
      "metadata": {
        "colab": {
          "base_uri": "https://localhost:8080/",
          "height": 387
        },
        "id": "rtruMtjnUbPp",
        "outputId": "668c3cb3-d3de-4fd7-9005-b124e31390c7"
      },
      "execution_count": null,
      "outputs": [
        {
          "output_type": "display_data",
          "data": {
            "text/plain": [
              "<Figure size 576x432 with 1 Axes>"
            ],
            "image/png": "[encoded data removed]"
          },
          "metadata": {
            "needs_background": "light"
          }
        }
      ]
    },
    {
      "cell_type": "code",
      "source": [
        "mean_df77 = resultadoDatos['coef(a)_Beysens-PM'].mean()\n",
        "print(mean_df77)"
      ],
      "metadata": {
        "colab": {
          "base_uri": "https://localhost:8080/"
        },
        "id": "6_rpcxOamTca",
        "outputId": "70fc9d6e-6775-4327-97af-68c685558b37"
      },
      "execution_count": null,
      "outputs": [
        {
          "output_type": "stream",
          "name": "stdout",
          "text": [
            "-6.316250191172329e-05\n"
          ]
        }
      ]
    },
    {
      "cell_type": "code",
      "source": [
        "mean_df78 = resultadoDatos['coef(a)_MLP-PM'].mean()\n",
        "print(mean_df78)"
      ],
      "metadata": {
        "colab": {
          "base_uri": "https://localhost:8080/"
        },
        "id": "F8TkEXPNmTe_",
        "outputId": "2a1e63f2-5505-4192-bbec-28e58cd97d33"
      },
      "execution_count": null,
      "outputs": [
        {
          "output_type": "stream",
          "name": "stdout",
          "text": [
            "0.3315902840841029\n"
          ]
        }
      ]
    },
    {
      "cell_type": "code",
      "source": [
        "# Import statistics Library\n",
        "import statistics\n",
        "\n",
        "# Calculate the standard deviation from a sample of data\n",
        "print(statistics.stdev(resultadoDatos['coef(a)_Beysens-PM']))\n",
        "# Import statistics Library\n",
        "import statistics\n",
        "\n",
        "# Calculate the standard deviation from a sample of data\n",
        "print(statistics.stdev(resultadoDatos['coef(a)_MLP-PM']))"
      ],
      "metadata": {
        "colab": {
          "base_uri": "https://localhost:8080/"
        },
        "id": "JXUkjBUKs46Y",
        "outputId": "5056b232-8485-4966-8d03-16f8c6e19d58"
      },
      "execution_count": null,
      "outputs": [
        {
          "output_type": "stream",
          "name": "stdout",
          "text": [
            "0.0019997582381437386\n",
            "0.10033948621204682\n"
          ]
        }
      ]
    },
    {
      "cell_type": "markdown",
      "source": [
        "## coef"
      ],
      "metadata": {
        "id": "P8yMOgwIUbaW"
      }
    },
    {
      "cell_type": "code",
      "source": [
        "fig, ax = plt.subplots(figsize=(8,6))   \n",
        "#rsquared\n",
        "\n",
        "pruebas= resultadoDatos['Pruebas']\n",
        "resultados={'Modelo Beysens(6am)':resultadoDatos['coef(b)_Beysens-PM'],'Modelo RNA(6am)':resultadoDatos['coef(b)_MLP-PM']}\n",
        "ax.plot(pruebas,resultados['Modelo Beysens(6am)'], marker ='^',label=\"m del Modelo-Beysens(PM)\")\n",
        "ax.plot(pruebas,resultados['Modelo RNA(6am)'], marker = 'o',label=\"m del Modelo-MLP(PM)\")\n",
        "plt.ylabel('Resultados coef b')\n",
        "plt.xlabel('Cantidad de Pruebas')\n",
        "legend = ax.legend(loc=\"best\")  \n",
        "plt.show()"
      ],
      "metadata": {
        "colab": {
          "base_uri": "https://localhost:8080/",
          "height": 387
        },
        "id": "Qc5dbI_wUdGu",
        "outputId": "f4d99bac-78b9-4c51-897d-eebf9af1b491"
      },
      "execution_count": null,
      "outputs": [
        {
          "output_type": "display_data",
          "data": {
            "text/plain": [
              "<Figure size 576x432 with 1 Axes>"
            ],
            "image/png": "[encoded data removed]"
          },
          "metadata": {
            "needs_background": "light"
          }
        }
      ]
    },
    {
      "cell_type": "code",
      "source": [
        "mean_df781 = resultadoDatos['coef(b)_Beysens-PM'].mean()\n",
        "print(mean_df781)"
      ],
      "metadata": {
        "colab": {
          "base_uri": "https://localhost:8080/"
        },
        "id": "p_jJRXMjm4wb",
        "outputId": "2e9dca2b-7497-43cf-e9f1-c9b22c79cc32"
      },
      "execution_count": null,
      "outputs": [
        {
          "output_type": "stream",
          "name": "stdout",
          "text": [
            "0.004153521513894814\n"
          ]
        }
      ]
    },
    {
      "cell_type": "code",
      "source": [
        "mean_df786 = resultadoDatos['coef(b)_MLP-PM'].mean()\n",
        "print(mean_df786)"
      ],
      "metadata": {
        "colab": {
          "base_uri": "https://localhost:8080/"
        },
        "id": "ECeaPF1Cm4zF",
        "outputId": "354d88a8-84ff-49d1-b58e-cf274efc5b8c"
      },
      "execution_count": null,
      "outputs": [
        {
          "output_type": "stream",
          "name": "stdout",
          "text": [
            "0.02105691635481654\n"
          ]
        }
      ]
    },
    {
      "cell_type": "code",
      "source": [
        "# Import statistics Library\n",
        "import statistics\n",
        "\n",
        "# Calculate the standard deviation from a sample of data\n",
        "print(statistics.stdev(resultadoDatos['coef(b)_Beysens-PM']))\n",
        "# Import statistics Library\n",
        "import statistics\n",
        "\n",
        "# Calculate the standard deviation from a sample of data\n",
        "print(statistics.stdev(resultadoDatos['coef(b)_MLP-PM']))"
      ],
      "metadata": {
        "colab": {
          "base_uri": "https://localhost:8080/"
        },
        "id": "noyQUjOIs6WV",
        "outputId": "ec0920f2-38c9-45d9-ab37-516459d9fd9e"
      },
      "execution_count": null,
      "outputs": [
        {
          "output_type": "stream",
          "name": "stdout",
          "text": [
            "0.003804001900482794\n",
            "0.006153881521250997\n"
          ]
        }
      ]
    },
    {
      "cell_type": "markdown",
      "source": [
        "## error"
      ],
      "metadata": {
        "id": "OPfQ1dyIUdqV"
      }
    },
    {
      "cell_type": "code",
      "source": [
        "fig, ax = plt.subplots(figsize=(8,6))   \n",
        "#rsquared\n",
        "\n",
        "pruebas= resultadoDatos['Pruebas']\n",
        "resultados={'Modelo Beysens(6am)':resultadoDatos['Standard Error_Beysens-PM'],'Modelo RNA(6am)':resultadoDatos['Standard Error_MLP-PM']}\n",
        "ax.plot(pruebas,resultados['Modelo Beysens(6am)'], marker ='^',label=\"m del Modelo-Beysens(PM)\")\n",
        "ax.plot(pruebas,resultados['Modelo RNA(6am)'], marker = 'o',label=\"m del Modelo-MLP(PM)\")\n",
        "plt.ylabel('Resultados Standard Error')\n",
        "plt.xlabel('Cantidad de Pruebas')\n",
        "legend = ax.legend(loc=\"best\")  \n",
        "plt.show()"
      ],
      "metadata": {
        "colab": {
          "base_uri": "https://localhost:8080/",
          "height": 387
        },
        "id": "CFSLhoeAUd1x",
        "outputId": "8eecf518-e8d5-42a0-e54b-e6f9870d1739"
      },
      "execution_count": null,
      "outputs": [
        {
          "output_type": "display_data",
          "data": {
            "text/plain": [
              "<Figure size 576x432 with 1 Axes>"
            ],
            "image/png": "[encoded data removed]"
          },
          "metadata": {
            "needs_background": "light"
          }
        }
      ]
    },
    {
      "cell_type": "code",
      "source": [
        "mean_df7864 = resultadoDatos['Standard Error_Beysens-PM'].mean()\n",
        "print(mean_df7864)"
      ],
      "metadata": {
        "colab": {
          "base_uri": "https://localhost:8080/"
        },
        "id": "lmnJsKZtm5Un",
        "outputId": "184d8267-a688-4029-af60-c9dba173ca47"
      },
      "execution_count": null,
      "outputs": [
        {
          "output_type": "stream",
          "name": "stdout",
          "text": [
            "0.0018480785763517165\n"
          ]
        }
      ]
    },
    {
      "cell_type": "code",
      "source": [
        "mean_df7865 = resultadoDatos['Standard Error_MLP-PM'].mean()\n",
        "print(mean_df7865)"
      ],
      "metadata": {
        "colab": {
          "base_uri": "https://localhost:8080/"
        },
        "id": "oLnSE8Qsm5Wt",
        "outputId": "6830753a-aae7-4c91-f767-3596242656bf"
      },
      "execution_count": null,
      "outputs": [
        {
          "output_type": "stream",
          "name": "stdout",
          "text": [
            "0.06022288612882143\n"
          ]
        }
      ]
    },
    {
      "cell_type": "code",
      "source": [
        "# Import statistics Library\n",
        "import statistics\n",
        "\n",
        "# Calculate the standard deviation from a sample of data\n",
        "print(statistics.stdev(resultadoDatos['Standard Error_Beysens-PM']))\n",
        "# Import statistics Library\n",
        "import statistics\n",
        "\n",
        "# Calculate the standard deviation from a sample of data\n",
        "print(statistics.stdev(resultadoDatos['Standard Error_MLP-PM']))"
      ],
      "metadata": {
        "colab": {
          "base_uri": "https://localhost:8080/"
        },
        "id": "pJc5Z2zWs8PK",
        "outputId": "e54a2025-cfb1-4f1e-a5f1-1e6321c965c3"
      },
      "execution_count": null,
      "outputs": [
        {
          "output_type": "stream",
          "name": "stdout",
          "text": [
            "0.0005462740689320841\n",
            "0.018360115050977878\n"
          ]
        }
      ]
    },
    {
      "cell_type": "markdown",
      "source": [
        "## grafico 4"
      ],
      "metadata": {
        "id": "k-jSFDfXrOf5"
      }
    },
    {
      "cell_type": "code",
      "source": [
        "fig, ax = plt.subplots(figsize=(8,6)) \n",
        "\n",
        "pruebas= resultadoDatos['Pruebas']\n",
        "resultados={'Modelo Beysens(PM)':resultadoDatos['rsquared_Acu-Beysens-PM'],'Modelo RNA(PM)':resultadoDatos['rsquared_Acu-MLP-PM']}\n",
        "ax.plot(pruebas,resultados['Modelo Beysens(PM)'], marker ='^',label=\"Modelo-Acumulado-Beysens(PM)\")\n",
        "ax.plot(pruebas,resultados['Modelo RNA(PM)'], marker = 'o',label=\"Modelo-Acumulado-MLP(PM)\")\n",
        "plt.ylabel('Resultado R cuadrado')\n",
        "plt.xlabel('Cantidad de Pruebas')\n",
        "legend = ax.legend(loc=\"best\")  \n",
        "plt.show() "
      ],
      "metadata": {
        "colab": {
          "base_uri": "https://localhost:8080/",
          "height": 387
        },
        "id": "WsAZWsgCrhFh",
        "outputId": "5e747534-4027-4ed6-a4d7-bc80214ed1ec"
      },
      "execution_count": null,
      "outputs": [
        {
          "output_type": "display_data",
          "data": {
            "text/plain": [
              "<Figure size 576x432 with 1 Axes>"
            ],
            "image/png": "[encoded data removed]"
          },
          "metadata": {
            "needs_background": "light"
          }
        }
      ]
    },
    {
      "cell_type": "code",
      "source": [
        "mean_df8 = resultadoDatos['rsquared_Acu-Beysens-PM'].mean()\n",
        "print(mean_df8)"
      ],
      "metadata": {
        "id": "DPTgD5M1AOJz",
        "outputId": "77e29afd-0d1a-48aa-e546-0bb43624817e",
        "colab": {
          "base_uri": "https://localhost:8080/"
        }
      },
      "execution_count": null,
      "outputs": [
        {
          "output_type": "stream",
          "name": "stdout",
          "text": [
            "0.801077938150842\n"
          ]
        }
      ]
    },
    {
      "cell_type": "code",
      "source": [
        "mean_df9 = resultadoDatos['rsquared_Acu-MLP-PM'].mean()\n",
        "print(mean_df9)\n"
      ],
      "metadata": {
        "id": "GoR_TFUNAMVm",
        "outputId": "3ffc7f94-6862-4669-9263-92346204b54e",
        "colab": {
          "base_uri": "https://localhost:8080/"
        }
      },
      "execution_count": null,
      "outputs": [
        {
          "output_type": "stream",
          "name": "stdout",
          "text": [
            "0.9769527949370941\n"
          ]
        }
      ]
    },
    {
      "cell_type": "code",
      "source": [
        "# Import statistics Library\n",
        "import statistics\n",
        "\n",
        "# Calculate the standard deviation from a sample of data\n",
        "print(statistics.stdev(resultadoDatos['rsquared_Acu-Beysens-PM']))\n",
        "# Import statistics Library\n",
        "import statistics\n",
        "\n",
        "# Calculate the standard deviation from a sample of data\n",
        "print(statistics.stdev(resultadoDatos['rsquared_Acu-MLP-PM']))"
      ],
      "metadata": {
        "colab": {
          "base_uri": "https://localhost:8080/"
        },
        "id": "o6vvcB4Ht9L2",
        "outputId": "5edc5d86-6094-48e6-dbf1-db3b1e2be65c"
      },
      "execution_count": null,
      "outputs": [
        {
          "output_type": "stream",
          "name": "stdout",
          "text": [
            "0.13630919639139955\n",
            "0.013684996226237287\n"
          ]
        }
      ]
    },
    {
      "cell_type": "markdown",
      "source": [
        "## m"
      ],
      "metadata": {
        "id": "WHaGh6RTUhOv"
      }
    },
    {
      "cell_type": "code",
      "source": [
        "fig, ax = plt.subplots(figsize=(8,6))   \n",
        "#rsquared\n",
        "\n",
        "pruebas= resultadoDatos['Pruebas']\n",
        "resultados={'Modelo Beysens(6am)':resultadoDatos['coef(a)_Acu-Beysens-PM'],'Modelo RNA(6am)':resultadoDatos['coef(a)_Acu-MLP-PM']}\n",
        "ax.plot(pruebas,resultados['Modelo Beysens(6am)'], marker ='^',label=\"m del Modelo-Acu-Beysens(PM)\")\n",
        "ax.plot(pruebas,resultados['Modelo RNA(6am)'], marker = 'o',label=\"m del Modelo-Acu-MLP(PM)\")\n",
        "plt.ylabel('Resultados pendientes')\n",
        "plt.xlabel('Cantidad de Pruebas')\n",
        "legend = ax.legend(loc=\"best\")  \n",
        "plt.show()"
      ],
      "metadata": {
        "colab": {
          "base_uri": "https://localhost:8080/",
          "height": 387
        },
        "id": "UhSlsPOnUiV3",
        "outputId": "fe9d6fd1-2d3c-4f6c-e357-5c02b989e3c2"
      },
      "execution_count": null,
      "outputs": [
        {
          "output_type": "display_data",
          "data": {
            "text/plain": [
              "<Figure size 576x432 with 1 Axes>"
            ],
            "image/png": "[encoded data removed]"
          },
          "metadata": {
            "needs_background": "light"
          }
        }
      ]
    },
    {
      "cell_type": "code",
      "source": [
        "mean_df78649 = resultadoDatos['coef(a)_Acu-Beysens-PM'].mean()\n",
        "print(mean_df78649)"
      ],
      "metadata": {
        "colab": {
          "base_uri": "https://localhost:8080/"
        },
        "id": "dzGGqAwbni-l",
        "outputId": "7fedfcdc-2e5a-47d9-b263-c90e3329dd76"
      },
      "execution_count": null,
      "outputs": [
        {
          "output_type": "stream",
          "name": "stdout",
          "text": [
            "0.12972195110129342\n"
          ]
        }
      ]
    },
    {
      "cell_type": "code",
      "source": [
        "mean_df78648 = resultadoDatos['coef(a)_Acu-MLP-PM'].mean()\n",
        "print(mean_df78648)"
      ],
      "metadata": {
        "colab": {
          "base_uri": "https://localhost:8080/"
        },
        "id": "8fx2BJU2njAl",
        "outputId": "f13a904f-ebb8-49a5-ad9c-9cb94ac28be0"
      },
      "execution_count": null,
      "outputs": [
        {
          "output_type": "stream",
          "name": "stdout",
          "text": [
            "1.0377986073837202\n"
          ]
        }
      ]
    },
    {
      "cell_type": "code",
      "source": [
        "# Import statistics Library\n",
        "import statistics\n",
        "\n",
        "# Calculate the standard deviation from a sample of data\n",
        "print(statistics.stdev(resultadoDatos['coef(a)_Acu-Beysens-PM']))\n",
        "# Import statistics Library\n",
        "import statistics\n",
        "\n",
        "# Calculate the standard deviation from a sample of data\n",
        "print(statistics.stdev(resultadoDatos['coef(a)_Acu-MLP-PM']))"
      ],
      "metadata": {
        "colab": {
          "base_uri": "https://localhost:8080/"
        },
        "id": "vXAzm2Rst-X6",
        "outputId": "d5d95fa4-73e1-41df-9d38-6f4cb5f7d5ac"
      },
      "execution_count": null,
      "outputs": [
        {
          "output_type": "stream",
          "name": "stdout",
          "text": [
            "0.06238720740092033\n",
            "0.28406773564237425\n"
          ]
        }
      ]
    },
    {
      "cell_type": "markdown",
      "source": [
        "## coef"
      ],
      "metadata": {
        "id": "3VMWEyjKUjLB"
      }
    },
    {
      "cell_type": "code",
      "source": [
        "fig, ax = plt.subplots(figsize=(8,6))   \n",
        "#rsquared\n",
        "\n",
        "pruebas= resultadoDatos['Pruebas']\n",
        "resultados={'Modelo Beysens(6am)':resultadoDatos['coef(b)_Acu-Beysens-PM'],'Modelo RNA(6am)':resultadoDatos['coef(b)_Acu-MLP-PM']}\n",
        "ax.plot(pruebas,resultados['Modelo Beysens(6am)'], marker ='^',label=\"m del Modelo-Acu-Beysens(PM)\")\n",
        "ax.plot(pruebas,resultados['Modelo RNA(6am)'], marker = 'o',label=\"m del Modelo-Acu-MLP(PM)\")\n",
        "plt.ylabel('Resultados coef b')\n",
        "plt.xlabel('Cantidad de Pruebas')\n",
        "legend = ax.legend(loc=\"best\")  \n",
        "plt.show()"
      ],
      "metadata": {
        "colab": {
          "base_uri": "https://localhost:8080/",
          "height": 387
        },
        "id": "eY9WtOVdUlcg",
        "outputId": "bff0cedf-3477-4a27-deb0-231e4a66a515"
      },
      "execution_count": null,
      "outputs": [
        {
          "output_type": "display_data",
          "data": {
            "text/plain": [
              "<Figure size 576x432 with 1 Axes>"
            ],
            "image/png": "[encoded data removed]"
          },
          "metadata": {
            "needs_background": "light"
          }
        }
      ]
    },
    {
      "cell_type": "code",
      "source": [
        "mean_df786489 = resultadoDatos['coef(b)_Acu-Beysens-PM'].mean()\n",
        "print(mean_df786489)"
      ],
      "metadata": {
        "colab": {
          "base_uri": "https://localhost:8080/"
        },
        "id": "i5zaAUMsnler",
        "outputId": "8e383685-5cf3-4169-fa94-05a7a930b761"
      },
      "execution_count": null,
      "outputs": [
        {
          "output_type": "stream",
          "name": "stdout",
          "text": [
            "0.013069244542825587\n"
          ]
        }
      ]
    },
    {
      "cell_type": "code",
      "source": [
        "mean_df786489 = resultadoDatos['coef(b)_Acu-MLP-PM'].mean()\n",
        "print(mean_df786489)"
      ],
      "metadata": {
        "colab": {
          "base_uri": "https://localhost:8080/"
        },
        "id": "b2aWEuXxnlg_",
        "outputId": "98ae43de-1e10-4bd6-bd44-b1aa6f1748b2"
      },
      "execution_count": null,
      "outputs": [
        {
          "output_type": "stream",
          "name": "stdout",
          "text": [
            "0.042323589173473376\n"
          ]
        }
      ]
    },
    {
      "cell_type": "code",
      "source": [
        "# Import statistics Library\n",
        "import statistics\n",
        "\n",
        "# Calculate the standard deviation from a sample of data\n",
        "print(statistics.stdev(resultadoDatos['coef(b)_Acu-Beysens-PM']))\n",
        "# Import statistics Library\n",
        "import statistics\n",
        "\n",
        "# Calculate the standard deviation from a sample of data\n",
        "print(statistics.stdev(resultadoDatos['coef(b)_Acu-MLP-PM']))"
      ],
      "metadata": {
        "colab": {
          "base_uri": "https://localhost:8080/"
        },
        "id": "sU8saR6Ht_gG",
        "outputId": "54ed14fa-ab82-4f3e-d72f-e29c529471d7"
      },
      "execution_count": null,
      "outputs": [
        {
          "output_type": "stream",
          "name": "stdout",
          "text": [
            "0.08870068906856593\n",
            "0.2236061161443515\n"
          ]
        }
      ]
    },
    {
      "cell_type": "markdown",
      "source": [
        "## error"
      ],
      "metadata": {
        "id": "ZhNBfmlaUlrG"
      }
    },
    {
      "cell_type": "code",
      "source": [
        "fig, ax = plt.subplots(figsize=(8,6))   \n",
        "#rsquared\n",
        "\n",
        "pruebas= resultadoDatos['Pruebas']\n",
        "resultados={'Modelo Beysens(6am)':resultadoDatos['Standard Error_Acu-Beysens-PM'],'Modelo RNA(6am)':resultadoDatos['Standard Error_Acu-MLP-PM']}\n",
        "ax.plot(pruebas,resultados['Modelo Beysens(6am)'], marker ='^',label=\"m del Modelo-Beysens(PM)\")\n",
        "ax.plot(pruebas,resultados['Modelo RNA(6am)'], marker = 'o',label=\"m del Modelo-MLP(PM)\")\n",
        "plt.ylabel('Resultados Standard Error')\n",
        "plt.xlabel('Cantidad de Pruebas')\n",
        "legend = ax.legend(loc=\"best\")  \n",
        "plt.show()"
      ],
      "metadata": {
        "colab": {
          "base_uri": "https://localhost:8080/",
          "height": 387
        },
        "id": "mc_qVMEaUpek",
        "outputId": "c909a2db-002b-4a2a-9fed-70ceeba4e269"
      },
      "execution_count": null,
      "outputs": [
        {
          "output_type": "display_data",
          "data": {
            "text/plain": [
              "<Figure size 576x432 with 1 Axes>"
            ],
            "image/png": "[encoded data removed]"
          },
          "metadata": {
            "needs_background": "light"
          }
        }
      ]
    },
    {
      "cell_type": "code",
      "source": [
        "mean_df7864899 = resultadoDatos['Standard Error_Acu-Beysens-PM'].mean()\n",
        "print(mean_df7864899)"
      ],
      "metadata": {
        "colab": {
          "base_uri": "https://localhost:8080/"
        },
        "id": "PPPlWxFCnvNU",
        "outputId": "67bff8b3-2170-4f72-f0b1-914930d0f0c2"
      },
      "execution_count": null,
      "outputs": [
        {
          "output_type": "stream",
          "name": "stdout",
          "text": [
            "0.0050571782067868245\n"
          ]
        }
      ]
    },
    {
      "cell_type": "code",
      "source": [
        "mean_df78648999 = resultadoDatos['Standard Error_Acu-MLP-PM'].mean()\n",
        "print(mean_df78648999)"
      ],
      "metadata": {
        "colab": {
          "base_uri": "https://localhost:8080/"
        },
        "id": "puRUfuIPnvPq",
        "outputId": "a6a48a85-4316-4444-ac81-31f6b89ebcc3"
      },
      "execution_count": null,
      "outputs": [
        {
          "output_type": "stream",
          "name": "stdout",
          "text": [
            "0.014487925304082544\n"
          ]
        }
      ]
    },
    {
      "cell_type": "code",
      "source": [
        "# Import statistics Library\n",
        "import statistics\n",
        "\n",
        "# Calculate the standard deviation from a sample of data\n",
        "print(statistics.stdev(resultadoDatos['Standard Error_Acu-Beysens-PM']))\n",
        "# Import statistics Library\n",
        "import statistics\n",
        "\n",
        "# Calculate the standard deviation from a sample of data\n",
        "print(statistics.stdev(resultadoDatos['Standard Error_Acu-MLP-PM']))"
      ],
      "metadata": {
        "id": "CMLMXQZhbUtd",
        "colab": {
          "base_uri": "https://localhost:8080/"
        },
        "outputId": "b4e398a9-8f60-417c-d709-9889c3673c8d"
      },
      "execution_count": null,
      "outputs": [
        {
          "output_type": "stream",
          "name": "stdout",
          "text": [
            "0.002075561039633231\n",
            "0.007927668257737226\n"
          ]
        }
      ]
    }
  ]
}