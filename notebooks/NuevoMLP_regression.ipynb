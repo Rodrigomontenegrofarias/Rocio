{
 "cells": [
  {
   "cell_type": "markdown",
   "metadata": {
    "id": "FhGuhbZ6M5tl"
   },
   "source": [
    "##### Copyright 2018 The TensorFlow Authors."
   ]
  },
  {
   "cell_type": "code",
   "execution_count": null,
   "metadata": {
    "id": "AwOEIRJC6Une"
   },
   "outputs": [],
   "source": [
    "#@title Licensed under the Apache License, Version 2.0 (the \"License\");\n",
    "# you may not use this file except in compliance with the License.\n",
    "# You may obtain a copy of the License at\n",
    "#\n",
    "# https://www.apache.org/licenses/LICENSE-2.0\n",
    "#\n",
    "# Unless required by applicable law or agreed to in writing, software\n",
    "# distributed under the License is distributed on an \"AS IS\" BASIS,\n",
    "# WITHOUT WARRANTIES OR CONDITIONS OF ANY KIND, either express or implied.\n",
    "# See the License for the specific language governing permissions and\n",
    "# limitations under the License."
   ]
  },
  {
   "cell_type": "code",
   "execution_count": null,
   "metadata": {
    "id": "KyPEtTqk6VdG"
   },
   "outputs": [],
   "source": [
    "#@title MIT License\n",
    "#\n",
    "# Copyright (c) 2017 François Chollet\n",
    "#\n",
    "# Permission is hereby granted, free of charge, to any person obtaining a\n",
    "# copy of this software and associated documentation files (the \"Software\"),\n",
    "# to deal in the Software without restriction, including without limitation\n",
    "# the rights to use, copy, modify, merge, publish, distribute, sublicense,\n",
    "# and/or sell copies of the Software, and to permit persons to whom the\n",
    "# Software is furnished to do so, subject to the following conditions:\n",
    "#\n",
    "# The above copyright notice and this permission notice shall be included in\n",
    "# all copies or substantial portions of the Software.\n",
    "#\n",
    "# THE SOFTWARE IS PROVIDED \"AS IS\", WITHOUT WARRANTY OF ANY KIND, EXPRESS OR\n",
    "# IMPLIED, INCLUDING BUT NOT LIMITED TO THE WARRANTIES OF MERCHANTABILITY,\n",
    "# FITNESS FOR A PARTICULAR PURPOSE AND NONINFRINGEMENT. IN NO EVENT SHALL\n",
    "# THE AUTHORS OR COPYRIGHT HOLDERS BE LIABLE FOR ANY CLAIM, DAMAGES OR OTHER\n",
    "# LIABILITY, WHETHER IN AN ACTION OF CONTRACT, TORT OR OTHERWISE, ARISING\n",
    "# FROM, OUT OF OR IN CONNECTION WITH THE SOFTWARE OR THE USE OR OTHER\n",
    "# DEALINGS IN THE SOFTWARE."
   ]
  },
  {
   "cell_type": "markdown",
   "metadata": {
    "id": "EIdT9iu_Z4Rb"
   },
   "source": [
    "# Regresion Basica: Predecir eficiencia de gasolina"
   ]
  },
  {
   "cell_type": "markdown",
   "metadata": {
    "id": "bBIlTPscrIT9"
   },
   "source": [
    "<table class=\"tfo-notebook-buttons\" align=\"left\">\n",
    "  <td>\n",
    "    <a target=\"_blank\" href=\"https://www.tensorflow.org/tutorials/keras/regression\"><img src=\"https://www.tensorflow.org/images/tf_logo_32px.png\" />View on TensorFlow.org</a>\n",
    "  </td>\n",
    "  <td>\n",
    "    <a target=\"_blank\" href=\"https://colab.research.google.com/github/tensorflow/docs-l10n/blob/master/site/es-419/tutorials/keras/regression.ipynb\"><img src=\"https://www.tensorflow.org/images/colab_logo_32px.png\" />Run in Google Colab</a>\n",
    "  </td>\n",
    "  <td>\n",
    "    <a target=\"_blank\" href=\"https://github.com/tensorflow/docs-l10n/blob/master/site/es-419/tutorials/keras/regression.ipynb\"><img src=\"https://www.tensorflow.org/images/GitHub-Mark-32px.png\" />View source on GitHub</a>\n",
    "  </td>\n",
    "  <td>\n",
    "    <a href=\"https://storage.googleapis.com/tensorflow_docs/docs-l10n/site/es-419/tutorials/keras/regression.ipynb\"><img src=\"https://www.tensorflow.org/images/download_logo_32px.png\" />Download notebook</a>\n",
    "  </td>\n",
    "</table>"
   ]
  },
  {
   "cell_type": "markdown",
   "metadata": {
    "id": "Au0QDqNXgRb_"
   },
   "source": [
    "Note: Nuestra comunidad de Tensorflow ha traducido estos documentos. Como las traducciones de la comunidad\n",
    "son basados en el \"mejor esfuerzo\", no hay ninguna garantia que esta sea un reflejo preciso y actual \n",
    "de la [Documentacion Oficial en Ingles](https://www.tensorflow.org/?hl=en).\n",
    "Si tienen sugerencias sobre como mejorar esta traduccion, por favor envian un \"Pull request\"\n",
    "al siguiente repositorio [tensorflow/docs](https://github.com/tensorflow/docs).\n",
    "Para ofrecerse como voluntario o hacer revision de las traducciones de la Comunidad\n",
    "por favor contacten al siguiente grupo [docs@tensorflow.org list](https://groups.google.com/a/tensorflow.org/forum/#!forum/docs)."
   ]
  },
  {
   "cell_type": "markdown",
   "metadata": {
    "id": "AHp3M9ZmrIxj"
   },
   "source": [
    "En un problema de *regresion*, buscamos predecir la salida de un valor continuo como la probabilidad de un precio. En contraste en un problema de *Clasificacion*, buscamos seleccionar una clase de una lista de clases (por ejemplo, en donde una imagen contenga una manzana o una naranja queremos reconocer cual es la fruta en la imagen).\n",
    "\n",
    "Este libro usa el set de datos clasico [Auto MPG](https://archive.ics.uci.edu/ml/datasets/auto+mpg) y construye un modelo para predecir la eficiencia de vehiculos de 1970 y 1980. Para hacer esto proveeremos el modelo con una descripcion de muchos automoviles de ese periodo. Esta descripcion incluye atributos como: Cilindros, desplazamiento, potencia y peso.\n",
    "\n",
    "Este ejemplo usa el API `tf.keras` , revise [Esta Guia](https://www.tensorflow.org/guide/keras) para obtener mas detalles."
   ]
  },
  {
   "cell_type": "code",
   "execution_count": 1,
   "metadata": {
    "colab": {
     "base_uri": "https://localhost:8080/"
    },
    "id": "moB4tpEHxKB3",
    "outputId": "44d7f277-de35-4545-e85c-79976fdf2c70"
   },
   "outputs": [
    {
     "name": "stdout",
     "output_type": "stream",
     "text": [
      "Collecting seaborn\n",
      "  Downloading seaborn-0.11.2-py3-none-any.whl (292 kB)\n",
      "\u001b[K     |████████████████████████████████| 292 kB 172 kB/s eta 0:00:01\n",
      "\u001b[?25hCollecting matplotlib>=2.2\n",
      "  Downloading matplotlib-3.5.0-cp39-cp39-macosx_10_9_x86_64.whl (7.3 MB)\n",
      "\u001b[K     |████████████████████████████████| 7.3 MB 82 kB/s eta 0:00:011\n",
      "\u001b[?25hCollecting scipy>=1.0\n",
      "  Downloading scipy-1.7.3-cp39-cp39-macosx_10_9_x86_64.whl (33.2 MB)\n",
      "\u001b[K     |███████████████████████         | 23.9 MB 274 kB/s eta 0:00:34    |████                            | 4.1 MB 845 kB/s eta 0:00:35\u001b[31mERROR: Exception:\n",
      "Traceback (most recent call last):\n",
      "  File \"/Users/rodrigomontenegro/Proyect/1/venv/lib/python3.9/site-packages/pip/_vendor/urllib3/response.py\", line 438, in _error_catcher\n",
      "    yield\n",
      "  File \"/Users/rodrigomontenegro/Proyect/1/venv/lib/python3.9/site-packages/pip/_vendor/urllib3/response.py\", line 519, in read\n",
      "    data = self._fp.read(amt) if not fp_closed else b\"\"\n",
      "  File \"/Users/rodrigomontenegro/Proyect/1/venv/lib/python3.9/site-packages/pip/_vendor/cachecontrol/filewrapper.py\", line 62, in read\n",
      "    data = self.__fp.read(amt)\n",
      "  File \"/Users/rodrigomontenegro/miniconda3/lib/python3.9/http/client.py\", line 455, in read\n",
      "    n = self.readinto(b)\n",
      "  File \"/Users/rodrigomontenegro/miniconda3/lib/python3.9/http/client.py\", line 499, in readinto\n",
      "    n = self.fp.readinto(b)\n",
      "  File \"/Users/rodrigomontenegro/miniconda3/lib/python3.9/socket.py\", line 704, in readinto\n",
      "    return self._sock.recv_into(b)\n",
      "  File \"/Users/rodrigomontenegro/miniconda3/lib/python3.9/ssl.py\", line 1241, in recv_into\n",
      "    return self.read(nbytes, buffer)\n",
      "  File \"/Users/rodrigomontenegro/miniconda3/lib/python3.9/ssl.py\", line 1099, in read\n",
      "    return self._sslobj.read(len, buffer)\n",
      "socket.timeout: The read operation timed out\n",
      "\n",
      "During handling of the above exception, another exception occurred:\n",
      "\n",
      "Traceback (most recent call last):\n",
      "  File \"/Users/rodrigomontenegro/Proyect/1/venv/lib/python3.9/site-packages/pip/_internal/cli/base_command.py\", line 180, in _main\n",
      "    status = self.run(options, args)\n",
      "  File \"/Users/rodrigomontenegro/Proyect/1/venv/lib/python3.9/site-packages/pip/_internal/cli/req_command.py\", line 204, in wrapper\n",
      "    return func(self, options, args)\n",
      "  File \"/Users/rodrigomontenegro/Proyect/1/venv/lib/python3.9/site-packages/pip/_internal/commands/install.py\", line 318, in run\n",
      "    requirement_set = resolver.resolve(\n",
      "  File \"/Users/rodrigomontenegro/Proyect/1/venv/lib/python3.9/site-packages/pip/_internal/resolution/resolvelib/resolver.py\", line 127, in resolve\n",
      "    result = self._result = resolver.resolve(\n",
      "  File \"/Users/rodrigomontenegro/Proyect/1/venv/lib/python3.9/site-packages/pip/_vendor/resolvelib/resolvers.py\", line 473, in resolve\n",
      "    state = resolution.resolve(requirements, max_rounds=max_rounds)\n",
      "  File \"/Users/rodrigomontenegro/Proyect/1/venv/lib/python3.9/site-packages/pip/_vendor/resolvelib/resolvers.py\", line 367, in resolve\n",
      "    failure_causes = self._attempt_to_pin_criterion(name)\n",
      "  File \"/Users/rodrigomontenegro/Proyect/1/venv/lib/python3.9/site-packages/pip/_vendor/resolvelib/resolvers.py\", line 213, in _attempt_to_pin_criterion\n",
      "    criteria = self._get_criteria_to_update(candidate)\n",
      "  File \"/Users/rodrigomontenegro/Proyect/1/venv/lib/python3.9/site-packages/pip/_vendor/resolvelib/resolvers.py\", line 203, in _get_criteria_to_update\n",
      "    name, crit = self._merge_into_criterion(r, parent=candidate)\n",
      "  File \"/Users/rodrigomontenegro/Proyect/1/venv/lib/python3.9/site-packages/pip/_vendor/resolvelib/resolvers.py\", line 172, in _merge_into_criterion\n",
      "    if not criterion.candidates:\n",
      "  File \"/Users/rodrigomontenegro/Proyect/1/venv/lib/python3.9/site-packages/pip/_vendor/resolvelib/structs.py\", line 139, in __bool__\n",
      "    return bool(self._sequence)\n",
      "  File \"/Users/rodrigomontenegro/Proyect/1/venv/lib/python3.9/site-packages/pip/_internal/resolution/resolvelib/found_candidates.py\", line 143, in __bool__\n",
      "    return any(self)\n",
      "  File \"/Users/rodrigomontenegro/Proyect/1/venv/lib/python3.9/site-packages/pip/_internal/resolution/resolvelib/found_candidates.py\", line 129, in <genexpr>\n",
      "    return (c for c in iterator if id(c) not in self._incompatible_ids)\n",
      "  File \"/Users/rodrigomontenegro/Proyect/1/venv/lib/python3.9/site-packages/pip/_internal/resolution/resolvelib/found_candidates.py\", line 33, in _iter_built\n",
      "    candidate = func()\n",
      "  File \"/Users/rodrigomontenegro/Proyect/1/venv/lib/python3.9/site-packages/pip/_internal/resolution/resolvelib/factory.py\", line 200, in _make_candidate_from_link\n",
      "    self._link_candidate_cache[link] = LinkCandidate(\n",
      "  File \"/Users/rodrigomontenegro/Proyect/1/venv/lib/python3.9/site-packages/pip/_internal/resolution/resolvelib/candidates.py\", line 306, in __init__\n",
      "    super().__init__(\n",
      "  File \"/Users/rodrigomontenegro/Proyect/1/venv/lib/python3.9/site-packages/pip/_internal/resolution/resolvelib/candidates.py\", line 151, in __init__\n",
      "    self.dist = self._prepare()\n",
      "  File \"/Users/rodrigomontenegro/Proyect/1/venv/lib/python3.9/site-packages/pip/_internal/resolution/resolvelib/candidates.py\", line 234, in _prepare\n",
      "    dist = self._prepare_distribution()\n",
      "  File \"/Users/rodrigomontenegro/Proyect/1/venv/lib/python3.9/site-packages/pip/_internal/resolution/resolvelib/candidates.py\", line 317, in _prepare_distribution\n",
      "    return self._factory.preparer.prepare_linked_requirement(\n",
      "  File \"/Users/rodrigomontenegro/Proyect/1/venv/lib/python3.9/site-packages/pip/_internal/operations/prepare.py\", line 508, in prepare_linked_requirement\n",
      "    return self._prepare_linked_requirement(req, parallel_builds)\n",
      "  File \"/Users/rodrigomontenegro/Proyect/1/venv/lib/python3.9/site-packages/pip/_internal/operations/prepare.py\", line 550, in _prepare_linked_requirement\n",
      "    local_file = unpack_url(\n",
      "  File \"/Users/rodrigomontenegro/Proyect/1/venv/lib/python3.9/site-packages/pip/_internal/operations/prepare.py\", line 239, in unpack_url\n",
      "    file = get_http_url(\n",
      "  File \"/Users/rodrigomontenegro/Proyect/1/venv/lib/python3.9/site-packages/pip/_internal/operations/prepare.py\", line 102, in get_http_url\n",
      "    from_path, content_type = download(link, temp_dir.path)\n",
      "  File \"/Users/rodrigomontenegro/Proyect/1/venv/lib/python3.9/site-packages/pip/_internal/network/download.py\", line 157, in __call__\n",
      "    for chunk in chunks:\n",
      "  File \"/Users/rodrigomontenegro/Proyect/1/venv/lib/python3.9/site-packages/pip/_internal/cli/progress_bars.py\", line 152, in iter\n",
      "    for x in it:\n",
      "  File \"/Users/rodrigomontenegro/Proyect/1/venv/lib/python3.9/site-packages/pip/_internal/network/utils.py\", line 62, in response_chunks\n",
      "    for chunk in response.raw.stream(\n",
      "  File \"/Users/rodrigomontenegro/Proyect/1/venv/lib/python3.9/site-packages/pip/_vendor/urllib3/response.py\", line 576, in stream\n",
      "    data = self.read(amt=amt, decode_content=decode_content)\n",
      "  File \"/Users/rodrigomontenegro/Proyect/1/venv/lib/python3.9/site-packages/pip/_vendor/urllib3/response.py\", line 541, in read\n",
      "    raise IncompleteRead(self._fp_bytes_read, self.length_remaining)\n",
      "  File \"/Users/rodrigomontenegro/miniconda3/lib/python3.9/contextlib.py\", line 135, in __exit__\n",
      "    self.gen.throw(type, value, traceback)\n",
      "  File \"/Users/rodrigomontenegro/Proyect/1/venv/lib/python3.9/site-packages/pip/_vendor/urllib3/response.py\", line 443, in _error_catcher\n",
      "    raise ReadTimeoutError(self._pool, None, \"Read timed out.\")\n",
      "pip._vendor.urllib3.exceptions.ReadTimeoutError: HTTPSConnectionPool(host='files.pythonhosted.org', port=443): Read timed out.\u001b[0m\n",
      "\u001b[33mWARNING: You are using pip version 21.1.1; however, version 21.3.1 is available.\n",
      "You should consider upgrading via the '/Users/rodrigomontenegro/Proyect/1/venv/bin/python3 -m pip install --upgrade pip' command.\u001b[0m\n"
     ]
    }
   ],
   "source": [
    "# Use seaborn for pairplot\n",
    "!pip install seaborn"
   ]
  },
  {
   "cell_type": "code",
   "execution_count": null,
   "metadata": {
    "colab": {
     "base_uri": "https://localhost:8080/"
    },
    "id": "1rRo8oNqZ-Rj",
    "outputId": "daff18bb-6384-4ec7-e27c-78c0974d3376"
   },
   "outputs": [
    {
     "name": "stdout",
     "output_type": "stream",
     "text": [
      "2.7.0\n"
     ]
    }
   ],
   "source": [
    "import pathlib\n",
    "\n",
    "import matplotlib.pyplot as plt\n",
    "import pandas as pd\n",
    "import seaborn as sns\n",
    "\n",
    "import tensorflow as tf\n",
    "\n",
    "from tensorflow import keras\n",
    "from tensorflow.keras import layers\n",
    "\n",
    "print(tf.__version__)"
   ]
  },
  {
   "cell_type": "markdown",
   "metadata": {
    "id": "gFh9ne3FZ-On"
   },
   "source": [
    "### Obtenga la data\n",
    "Primero descargue el set de datos."
   ]
  },
  {
   "cell_type": "code",
   "execution_count": 2,
   "metadata": {
    "colab": {
     "base_uri": "https://localhost:8080/"
    },
    "id": "wijFKcTVjYIO",
    "outputId": "763dd350-01f5-4bee-ca92-c55c55b1ce3f"
   },
   "outputs": [
    {
     "ename": "ModuleNotFoundError",
     "evalue": "No module named 'google'",
     "output_type": "error",
     "traceback": [
      "\u001b[0;31m---------------------------------------------------------------------------\u001b[0m",
      "\u001b[0;31mModuleNotFoundError\u001b[0m                       Traceback (most recent call last)",
      "\u001b[0;32m/var/folders/kg/lyv5k_tj1xg5gs_wjm_r6wgc0000gn/T/ipykernel_26719/3255150438.py\u001b[0m in \u001b[0;36m<module>\u001b[0;34m\u001b[0m\n\u001b[1;32m      1\u001b[0m \u001b[0;31m#Conexion mediante drive\u001b[0m\u001b[0;34m\u001b[0m\u001b[0;34m\u001b[0m\u001b[0;34m\u001b[0m\u001b[0m\n\u001b[0;32m----> 2\u001b[0;31m \u001b[0;32mfrom\u001b[0m \u001b[0mgoogle\u001b[0m\u001b[0;34m.\u001b[0m\u001b[0mcolab\u001b[0m \u001b[0;32mimport\u001b[0m \u001b[0mdrive\u001b[0m\u001b[0;34m\u001b[0m\u001b[0;34m\u001b[0m\u001b[0m\n\u001b[0m\u001b[1;32m      3\u001b[0m \u001b[0mdrive\u001b[0m\u001b[0;34m.\u001b[0m\u001b[0mmount\u001b[0m\u001b[0;34m(\u001b[0m\u001b[0;34m'/content/drive'\u001b[0m\u001b[0;34m)\u001b[0m\u001b[0;34m\u001b[0m\u001b[0;34m\u001b[0m\u001b[0m\n",
      "\u001b[0;31mModuleNotFoundError\u001b[0m: No module named 'google'"
     ]
    }
   ],
   "source": [
    "#Conexion mediante drive\n",
    "from google.colab import drive\n",
    "drive.mount('/content/drive')"
   ]
  },
  {
   "cell_type": "code",
   "execution_count": 3,
   "metadata": {
    "colab": {
     "base_uri": "https://localhost:8080/",
     "height": 206
    },
    "id": "_C8G32sIjLcj",
    "outputId": "47f63e87-c07c-4a73-c5a3-4ac8bcc49fad"
   },
   "outputs": [
    {
     "ename": "NameError",
     "evalue": "name 'pd' is not defined",
     "output_type": "error",
     "traceback": [
      "\u001b[0;31m---------------------------------------------------------------------------\u001b[0m",
      "\u001b[0;31mNameError\u001b[0m                                 Traceback (most recent call last)",
      "\u001b[0;32m/var/folders/kg/lyv5k_tj1xg5gs_wjm_r6wgc0000gn/T/ipykernel_26719/902459315.py\u001b[0m in \u001b[0;36m<module>\u001b[0;34m\u001b[0m\n\u001b[1;32m      2\u001b[0m \u001b[0;31m#\u001b[0m\u001b[0;34m\u001b[0m\u001b[0;34m\u001b[0m\u001b[0;34m\u001b[0m\u001b[0m\n\u001b[1;32m      3\u001b[0m \u001b[0mpath\u001b[0m\u001b[0;34m=\u001b[0m\u001b[0;34m'/content/drive/MyDrive/'\u001b[0m\u001b[0;34m\u001b[0m\u001b[0;34m\u001b[0m\u001b[0m\n\u001b[0;32m----> 4\u001b[0;31m \u001b[0mdataset\u001b[0m \u001b[0;34m=\u001b[0m \u001b[0mpd\u001b[0m\u001b[0;34m.\u001b[0m\u001b[0mread_csv\u001b[0m\u001b[0;34m(\u001b[0m\u001b[0mpath\u001b[0m\u001b[0;34m+\u001b[0m\u001b[0;34m'Datos_Combarbala_2016-2017JM.csv'\u001b[0m\u001b[0;34m,\u001b[0m \u001b[0mparse_dates\u001b[0m\u001b[0;34m=\u001b[0m\u001b[0;34m[\u001b[0m\u001b[0;34m'Día'\u001b[0m\u001b[0;34m]\u001b[0m\u001b[0;34m,\u001b[0m\u001b[0mdecimal\u001b[0m\u001b[0;34m=\u001b[0m\u001b[0;34m\",\"\u001b[0m\u001b[0;34m,\u001b[0m \u001b[0mskipinitialspace\u001b[0m\u001b[0;34m=\u001b[0m\u001b[0;32mTrue\u001b[0m\u001b[0;34m)\u001b[0m\u001b[0;34m\u001b[0m\u001b[0;34m\u001b[0m\u001b[0m\n\u001b[0m\u001b[1;32m      5\u001b[0m \u001b[0mdataset\u001b[0m\u001b[0;34m.\u001b[0m\u001b[0mhead\u001b[0m\u001b[0;34m(\u001b[0m\u001b[0;34m)\u001b[0m\u001b[0;34m\u001b[0m\u001b[0;34m\u001b[0m\u001b[0m\n",
      "\u001b[0;31mNameError\u001b[0m: name 'pd' is not defined"
     ]
    }
   ],
   "source": [
    "#\n",
    "#\n",
    "path='/content/drive/MyDrive/'\n",
    "dataset = pd.read_csv(path+'Datos_Combarbala_2016-2017JM.csv', parse_dates=['Día'],decimal=\",\", skipinitialspace=True)\n",
    "dataset.head()"
   ]
  },/Users/rodrigomontenegro/Proyect/1
  {
   "cell_type": "code",
   "execution_count": null,
   "metadata": {
    "id": "1dJ8q8wzoFZu"
   },
   "outputs": [],
   "source": [
    "dataset = dataset.drop(['Día'], axis=1)\n",
    "dataset = dataset.drop(['P(hpa)'], axis=1)"
   ]
  },
  {
   "cell_type": "code",
   "execution_count": null,
   "metadata": {
    "colab": {
     "base_uri": "https://localhost:8080/",
     "height": 88
    },
    "id": "p9kxxgzvzlyz",
    "outputId": "8be2c897-ae2c-4f42-df28-9519901d87a5"
   },
   "outputs": [
    {
     "name": "stdout",
     "output_type": "stream",
     "text": [
      "Downloading data from http://archive.ics.uci.edu/ml/machine-learning-databases/auto-mpg/auto-mpg.data\n",
      "32768/30286 [================================] - 0s 2us/step\n",
      "40960/30286 [========================================] - 0s 2us/step\n"
     ]
    },
    {
     "data": {
      "application/vnd.google.colaboratory.intrinsic+json": {
       "type": "string"
      },
      "text/plain": [
       "'/root/.keras/datasets/auto-mpg.data'"
      ]
     },
     "execution_count": 11,
     "metadata": {},
     "output_type": "execute_result"
    }
   ],
   "source": []
  },
  {
   "cell_type": "code",
   "execution_count": null,
   "metadata": {
    "id": "mjH4K6O8v2P5"
   },
   "outputs": [],
   "source": [
    "dataset=dataset.astype(float)"
   ]
  },
  {
   "cell_type": "code",
   "execution_count": null,
   "metadata": {
    "colab": {
     "base_uri": "https://localhost:8080/",
     "height": 424
    },
    "id": "ndYhzquaklR-",
    "outputId": "5b563144-9e21-4694-abee-e07227edbc7a"
   },
   "outputs": [],
   "source": [
    "dataset"
   ]
  },
  {
   "cell_type": "markdown",
   "metadata": {
    "id": "nslsRLh7Zss4"
   },
   "source": [
    "Importelo usando pandas."
   ]
  },
  {
   "cell_type": "markdown",
   "metadata": {
    "id": "3MWuJTKEDM-f"
   },
   "source": [
    "### Limpie la data\n",
    "\n",
    "El set de datos contiene algunos valores desconocidos."
   ]
  },
  {
   "cell_type": "code",
   "execution_count": null,
   "metadata": {
    "colab": {
     "base_uri": "https://localhost:8080/"
    },
    "id": "JEJHhN65a2VV",
    "outputId": "80b6e740-d941-42ab-cd0e-b217d4ec8d0a"
   },
   "outputs": [
    {
     "data": {
      "text/plain": [
       "T (°C)            8\n",
       "HR (%)            8\n",
       "Viento (m/s)      8\n",
       "Nubosidad(%)     81\n",
       "Flujo (L/día)     8\n",
       "dtype: int64"
      ]
     },
     "execution_count": 14,
     "metadata": {},
     "output_type": "execute_result"
    }
   ],
   "source": [
    "dataset.isna().sum()"
   ]
  },
  {
   "cell_type": "markdown",
   "metadata": {
    "id": "9UPN0KBHa_WI"
   },
   "source": [
    "**Para** Mantener este tutorial inicial sencillo eliminemos las siguientes filas."
   ]
  },
  {
   "cell_type": "code",
   "execution_count": null,
   "metadata": {
    "id": "4ZUDosChC1UN"
   },
   "outputs": [],
   "source": [
    "dataset = dataset.dropna()"
   ]
  },
  {
   "cell_type": "markdown",
   "metadata": {
    "id": "Cuym4yvk76vU"
   },
   "source": [
    "### Dividamos la data en entrenamiento y prueba\n",
    "\n",
    "Ahora divida el set de datos en un set de entrenamiento y otro de pruebas.\n",
    "\n",
    "Usaremos el set de pruebas en la evaluacion final de nuestro modelo."
   ]
  },
  {
   "cell_type": "code",
   "execution_count": null,
   "metadata": {
    "id": "qn-IGhUE7_1H"
   },
   "outputs": [],
   "source": [
    "train_dataset = dataset.sample(frac=0.66)\n",
    "test_dataset = dataset.drop(train_dataset.index)\n"
   ]
  },
  {
   "cell_type": "code",
   "execution_count": null,
   "metadata": {
    "colab": {
     "base_uri": "https://localhost:8080/",
     "height": 424
    },
    "id": "6_SnwV8_lIxI",
    "outputId": "8fd7d2a6-7971-4819-ae54-53b3270cb8bf"
   },
   "outputs": [
    {
     "data": {
      "text/html": [
       "<div>\n",
       "<style scoped>\n",
       "    .dataframe tbody tr th:only-of-type {\n",
       "        vertical-align: middle;\n",
       "    }\n",
       "\n",
       "    .dataframe tbody tr th {\n",
       "        vertical-align: top;\n",
       "    }\n",
       "\n",
       "    .dataframe thead th {\n",
       "        text-align: right;\n",
       "    }\n",
       "</style>\n",
       "<table border=\"1\" class=\"dataframe\">\n",
       "  <thead>\n",
       "    <tr style=\"text-align: right;\">\n",
       "      <th></th>\n",
       "      <th>T (°C)</th>\n",
       "      <th>HR (%)</th>\n",
       "      <th>Viento (m/s)</th>\n",
       "      <th>Nubosidad(%)</th>\n",
       "      <th>Flujo (L/día)</th>\n",
       "    </tr>\n",
       "  </thead>\n",
       "  <tbody>\n",
       "    <tr>\n",
       "      <th>153</th>\n",
       "      <td>17.101042</td>\n",
       "      <td>58.812500</td>\n",
       "      <td>1.861458</td>\n",
       "      <td>8.87</td>\n",
       "      <td>0.091</td>\n",
       "    </tr>\n",
       "    <tr>\n",
       "      <th>192</th>\n",
       "      <td>22.050000</td>\n",
       "      <td>33.593750</td>\n",
       "      <td>2.148958</td>\n",
       "      <td>11.53</td>\n",
       "      <td>0.000</td>\n",
       "    </tr>\n",
       "    <tr>\n",
       "      <th>207</th>\n",
       "      <td>22.042105</td>\n",
       "      <td>43.936842</td>\n",
       "      <td>3.228421</td>\n",
       "      <td>5.40</td>\n",
       "      <td>0.000</td>\n",
       "    </tr>\n",
       "    <tr>\n",
       "      <th>335</th>\n",
       "      <td>21.522917</td>\n",
       "      <td>14.447917</td>\n",
       "      <td>1.614583</td>\n",
       "      <td>9.75</td>\n",
       "      <td>0.000</td>\n",
       "    </tr>\n",
       "    <tr>\n",
       "      <th>11</th>\n",
       "      <td>15.510417</td>\n",
       "      <td>26.531250</td>\n",
       "      <td>0.852083</td>\n",
       "      <td>5.00</td>\n",
       "      <td>0.000</td>\n",
       "    </tr>\n",
       "    <tr>\n",
       "      <th>...</th>\n",
       "      <td>...</td>\n",
       "      <td>...</td>\n",
       "      <td>...</td>\n",
       "      <td>...</td>\n",
       "      <td>...</td>\n",
       "    </tr>\n",
       "    <tr>\n",
       "      <th>90</th>\n",
       "      <td>13.975000</td>\n",
       "      <td>49.666667</td>\n",
       "      <td>1.219792</td>\n",
       "      <td>5.00</td>\n",
       "      <td>0.024</td>\n",
       "    </tr>\n",
       "    <tr>\n",
       "      <th>217</th>\n",
       "      <td>23.022222</td>\n",
       "      <td>42.569444</td>\n",
       "      <td>2.793056</td>\n",
       "      <td>6.12</td>\n",
       "      <td>0.056</td>\n",
       "    </tr>\n",
       "    <tr>\n",
       "      <th>352</th>\n",
       "      <td>14.301042</td>\n",
       "      <td>73.802083</td>\n",
       "      <td>1.014583</td>\n",
       "      <td>7.78</td>\n",
       "      <td>0.000</td>\n",
       "    </tr>\n",
       "    <tr>\n",
       "      <th>244</th>\n",
       "      <td>23.839583</td>\n",
       "      <td>54.562500</td>\n",
       "      <td>2.416667</td>\n",
       "      <td>5.00</td>\n",
       "      <td>0.000</td>\n",
       "    </tr>\n",
       "    <tr>\n",
       "      <th>188</th>\n",
       "      <td>22.269792</td>\n",
       "      <td>26.572917</td>\n",
       "      <td>2.262500</td>\n",
       "      <td>5.00</td>\n",
       "      <td>0.000</td>\n",
       "    </tr>\n",
       "  </tbody>\n",
       "</table>\n",
       "<p>326 rows × 5 columns</p>\n",
       "</div>"
      ],
      "text/plain": [
       "        T (°C)     HR (%)  Viento (m/s)  Nubosidad(%)  Flujo (L/día)\n",
       "153  17.101042  58.812500      1.861458          8.87          0.091\n",
       "192  22.050000  33.593750      2.148958         11.53          0.000\n",
       "207  22.042105  43.936842      3.228421          5.40          0.000\n",
       "335  21.522917  14.447917      1.614583          9.75          0.000\n",
       "11   15.510417  26.531250      0.852083          5.00          0.000\n",
       "..         ...        ...           ...           ...            ...\n",
       "90   13.975000  49.666667      1.219792          5.00          0.024\n",
       "217  23.022222  42.569444      2.793056          6.12          0.056\n",
       "352  14.301042  73.802083      1.014583          7.78          0.000\n",
       "244  23.839583  54.562500      2.416667          5.00          0.000\n",
       "188  22.269792  26.572917      2.262500          5.00          0.000\n",
       "\n",
       "[326 rows x 5 columns]"
      ]
     },
     "execution_count": 17,
     "metadata": {},
     "output_type": "execute_result"
    }
   ],
   "source": [
    "train_dataset"
   ]
  },
  {
   "cell_type": "code",
   "execution_count": null,
   "metadata": {
    "colab": {
     "base_uri": "https://localhost:8080/"
    },
    "id": "USxtk4RfuSIQ",
    "outputId": "f5b1c3c6-1fa4-41b3-fdcd-dcf60a8d51f3"
   },
   "outputs": [
    {
     "name": "stdout",
     "output_type": "stream",
     "text": [
      "<class 'pandas.core.frame.DataFrame'>\n",
      "Int64Index: 326 entries, 153 to 188\n",
      "Data columns (total 5 columns):\n",
      " #   Column         Non-Null Count  Dtype  \n",
      "---  ------         --------------  -----  \n",
      " 0   T (°C)         326 non-null    float64\n",
      " 1   HR (%)         326 non-null    float64\n",
      " 2   Viento (m/s)   326 non-null    float64\n",
      " 3   Nubosidad(%)   326 non-null    float64\n",
      " 4   Flujo (L/día)  326 non-null    float64\n",
      "dtypes: float64(5)\n",
      "memory usage: 15.3 KB\n"
     ]
    }
   ],
   "source": [
    "train_dataset.info()"
   ]
  },
  {
   "cell_type": "code",
   "execution_count": null,
   "metadata": {
    "id": "tj19gdanuaUp"
   },
   "outputs": [],
   "source": [
    "train_dataset=train_dataset.astype(float)"
   ]
  },
  {
   "cell_type": "markdown",
   "metadata": {
    "id": "J4ubs136WLNp"
   },
   "source": [
    "### Inspeccione la data\n",
    "\n",
    "Revise rapidamente la distribucion conjunta de un par de columnas de el set de entrenamiento."
   ]
  },
  {
   "cell_type": "markdown",
   "metadata": {
    "id": "gavKO_6DWRMP"
   },
   "source": [
    "Tambien revise las estadisticas generales:"
   ]
  },
  {
   "cell_type": "code",
   "execution_count": null,
   "metadata": {
    "colab": {
     "base_uri": "https://localhost:8080/",
     "height": 174
    },
    "id": "yi2FzC3T21jR",
    "outputId": "c949d25f-a2c8-4ff6-b352-277d8298c362"
   },
   "outputs": [
    {
     "data": {
      "text/html": [
       "<div>\n",
       "<style scoped>\n",
       "    .dataframe tbody tr th:only-of-type {\n",
       "        vertical-align: middle;\n",
       "    }\n",
       "\n",
       "    .dataframe tbody tr th {\n",
       "        vertical-align: top;\n",
       "    }\n",
       "\n",
       "    .dataframe thead th {\n",
       "        text-align: right;\n",
       "    }\n",
       "</style>\n",
       "<table border=\"1\" class=\"dataframe\">\n",
       "  <thead>\n",
       "    <tr style=\"text-align: right;\">\n",
       "      <th></th>\n",
       "      <th>count</th>\n",
       "      <th>mean</th>\n",
       "      <th>std</th>\n",
       "      <th>min</th>\n",
       "      <th>25%</th>\n",
       "      <th>50%</th>\n",
       "      <th>75%</th>\n",
       "      <th>max</th>\n",
       "    </tr>\n",
       "  </thead>\n",
       "  <tbody>\n",
       "    <tr>\n",
       "      <th>T (°C)</th>\n",
       "      <td>326.0</td>\n",
       "      <td>16.736309</td>\n",
       "      <td>4.812241</td>\n",
       "      <td>4.819565</td>\n",
       "      <td>13.026823</td>\n",
       "      <td>16.595994</td>\n",
       "      <td>20.945781</td>\n",
       "      <td>26.311111</td>\n",
       "    </tr>\n",
       "    <tr>\n",
       "      <th>HR (%)</th>\n",
       "      <td>326.0</td>\n",
       "      <td>48.538914</td>\n",
       "      <td>19.596881</td>\n",
       "      <td>11.964286</td>\n",
       "      <td>34.378255</td>\n",
       "      <td>45.765625</td>\n",
       "      <td>60.989583</td>\n",
       "      <td>97.875000</td>\n",
       "    </tr>\n",
       "    <tr>\n",
       "      <th>Viento (m/s)</th>\n",
       "      <td>326.0</td>\n",
       "      <td>1.920962</td>\n",
       "      <td>0.858191</td>\n",
       "      <td>0.300000</td>\n",
       "      <td>1.298431</td>\n",
       "      <td>1.862834</td>\n",
       "      <td>2.388281</td>\n",
       "      <td>5.239394</td>\n",
       "    </tr>\n",
       "    <tr>\n",
       "      <th>Nubosidad(%)</th>\n",
       "      <td>326.0</td>\n",
       "      <td>34.419693</td>\n",
       "      <td>39.206201</td>\n",
       "      <td>4.840000</td>\n",
       "      <td>5.000000</td>\n",
       "      <td>9.495000</td>\n",
       "      <td>81.327500</td>\n",
       "      <td>100.000000</td>\n",
       "    </tr>\n",
       "  </tbody>\n",
       "</table>\n",
       "</div>"
      ],
      "text/plain": [
       "              count       mean        std  ...        50%        75%         max\n",
       "T (°C)        326.0  16.736309   4.812241  ...  16.595994  20.945781   26.311111\n",
       "HR (%)        326.0  48.538914  19.596881  ...  45.765625  60.989583   97.875000\n",
       "Viento (m/s)  326.0   1.920962   0.858191  ...   1.862834   2.388281    5.239394\n",
       "Nubosidad(%)  326.0  34.419693  39.206201  ...   9.495000  81.327500  100.000000\n",
       "\n",
       "[4 rows x 8 columns]"
      ]
     },
     "execution_count": 20,
     "metadata": {},
     "output_type": "execute_result"
    }
   ],
   "source": [
    "train_stats = train_dataset.describe()\n",
    "train_stats.pop(\"Flujo (L/día)\")\n",
    "train_stats = train_stats.transpose()\n",
    "train_stats"
   ]
  },
  {
   "cell_type": "markdown",
   "metadata": {
    "id": "Db7Auq1yXUvh"
   },
   "source": [
    "### Separe las caracteristicas de las etiquetas.\n",
    "\n",
    "Separe el valor objetivo, o la \"etiqueta\" \n",
    "de las caracteristicas. Esta etiqueta es el valor que entrenara el modelo para predecir."
   ]
  },
  {
   "cell_type": "code",
   "execution_count": null,
   "metadata": {
    "id": "t2sluJdCW7jN"
   },
   "outputs": [],
   "source": [
    "train_labels = train_dataset.pop('Flujo (L/día)')\n",
    "test_labels = test_dataset.pop('Flujo (L/día)')"
   ]
  },
  {
   "cell_type": "markdown",
   "metadata": {
    "id": "mRklxK5s388r"
   },
   "source": [
    "### Normalice la data\n",
    "\n",
    "Revise otra vez el bloque de `train_stats` que se presento antes y note la diferencia de rangos de cada caracteristica."
   ]
  },
  {
   "cell_type": "markdown",
   "metadata": {
    "id": "-ywmerQ6dSox"
   },
   "source": [
    "Es una buena práctica normalizar funciones que utilizan diferentes escalas y rangos. Aunque el modelo * podría * converger sin normalización de características, dificulta el entrenamiento y hace que el modelo resultante dependa de la elección de las unidades utilizadas en la entrada.\n",
    "\n",
    "Nota: Aunque generamos intencionalmente estas estadísticas solo del conjunto de datos de entrenamiento, estas estadísticas también se utilizarán para normalizar el conjunto de datos de prueba. Necesitamos hacer eso para proyectar el conjunto de datos de prueba en la misma distribución en la que el modelo ha sido entrenado."
   ]
  },
  {
   "cell_type": "code",
   "execution_count": null,
   "metadata": {
    "id": "rMT3A-HZsIwQ"
   },
   "outputs": [],
   "source": [
    "def norm(x):\n",
    "  return (x - train_stats['mean']) / train_stats['std']\n",
    "normed_train_data = norm(train_dataset)\n",
    "normed_test_data = norm(test_dataset)"
   ]
  },
  {
   "cell_type": "code",
   "execution_count": null,
   "metadata": {
    "id": "hE0nJjL1szJE"
   },
   "outputs": [],
   "source": [
    "normed_train_data = norm(train_dataset)\n",
    "normed_test_data = norm(test_dataset)"
   ]
  },
  {
   "cell_type": "markdown",
   "metadata": {
    "id": "BuiClDk45eS4"
   },
   "source": [
    "Estos datos normalizados es lo que usaremos para entrenar el modelo.\n",
    "\n",
    "Precaución: las estadísticas utilizadas para normalizar las entradas aquí (media y desviación estándar) deben aplicarse a cualquier otro dato que se alimente al modelo, junto con la codificación de un punto que hicimos anteriormente. Eso incluye el conjunto de pruebas, así como los datos en vivo cuando el modelo se usa en producción."
   ]
  },
  {
   "cell_type": "markdown",
   "metadata": {
    "id": "SmjdzxKzEu1-"
   },
   "source": [
    "## El modelo"
   ]
  },
  {
   "cell_type": "markdown",
   "metadata": {
    "id": "6SWtkIjhrZwa"
   },
   "source": [
    "### Construye el modelo\n",
    "\n",
    "Construyamos nuestro modelo. Aquí, utilizaremos un modelo `secuencial` con dos capas ocultas densamente conectadas y una capa de salida que devuelve un único valor continuo. Los pasos de construcción del modelo se envuelven en una función, `build_model`, ya que crearemos un segundo modelo, más adelante."
   ]
  },
  {
   "cell_type": "code",
   "execution_count": null,
   "metadata": {
    "id": "c26juK7ZG8j-"
   },
   "outputs": [],
   "source": [
    "def build_model():\n",
    "  model = keras.Sequential([\n",
    "    layers.Dense(8, input_shape=[len(train_dataset.keys())]),\n",
    "    layers.Dense(12,activation='tanh'),\n",
    "    layers.Dense(1,activation='sigmoid')\n",
    "  ])\n",
    "\n",
    "  optimizer = tf.keras.optimizers.RMSprop(0.0001)\n",
    "\n",
    "  model.compile(loss='mse',\n",
    "                optimizer=optimizer,\n",
    "                metrics=['mae', 'mse'])\n",
    "  return model"
   ]
  },
  {
   "cell_type": "code",
   "execution_count": null,
   "metadata": {
    "id": "cGbPb-PHGbhs"
   },
   "outputs": [],
   "source": [
    "model = build_model()"
   ]
  },
  {
   "cell_type": "markdown",
   "metadata": {
    "id": "Sj49Og4YGULr"
   },
   "source": [
    "### Inspeccione el modelo\n",
    "\n",
    "Use el método `.summary` para imprimir una descripción simple del modelo"
   ]
  },
  {
   "cell_type": "code",
   "execution_count": null,
   "metadata": {
    "colab": {
     "base_uri": "https://localhost:8080/"
    },
    "id": "ReAD0n6MsFK-",
    "outputId": "27c27c69-3775-4c13-c4fc-dbdf267f81b7"
   },
   "outputs": [
    {
     "name": "stdout",
     "output_type": "stream",
     "text": [
      "Model: \"sequential\"\n",
      "_________________________________________________________________\n",
      " Layer (type)                Output Shape              Param #   \n",
      "=================================================================\n",
      " dense (Dense)               (None, 8)                 40        \n",
      "                                                                 \n",
      " dense_1 (Dense)             (None, 12)                108       \n",
      "                                                                 \n",
      " dense_2 (Dense)             (None, 1)                 13        \n",
      "                                                                 \n",
      "=================================================================\n",
      "Total params: 161\n",
      "Trainable params: 161\n",
      "Non-trainable params: 0\n",
      "_________________________________________________________________\n"
     ]
    }
   ],
   "source": [
    "model.summary()"
   ]
  },
  {
   "cell_type": "code",
   "execution_count": null,
   "metadata": {
    "colab": {
     "base_uri": "https://localhost:8080/"
    },
    "id": "6RjwGnZpr8gy",
    "outputId": "595e0954-4681-4fbc-dbd5-478e7023b765"
   },
   "outputs": [
    {
     "data": {
      "text/plain": [
       "array([[0.55268127],\n",
       "       [0.37620196],\n",
       "       [0.36454514],\n",
       "       [0.32430375],\n",
       "       [0.35403907],\n",
       "       [0.30979288],\n",
       "       [0.5001666 ],\n",
       "       [0.28817356],\n",
       "       [0.6027514 ],\n",
       "       [0.6233584 ]], dtype=float32)"
      ]
     },
     "execution_count": 27,
     "metadata": {},
     "output_type": "execute_result"
    }
   ],
   "source": [
    "example_batch = normed_train_data[:10]\n",
    "example_result = model.predict(example_batch)\n",
    "example_result"
   ]
  },
  {
   "cell_type": "markdown",
   "metadata": {
    "id": "Vt6W50qGsJAL"
   },
   "source": [
    "Ahora pruebe el modelo. Tome un lote de ejemplos `10` de los datos de entrenamiento y llame a` model.predict` en él."
   ]
  },
  {
   "cell_type": "code",
   "execution_count": null,
   "metadata": {
    "colab": {
     "base_uri": "https://localhost:8080/"
    },
    "id": "-d-gBaVtGTSC",
    "outputId": "1d949eab-8a7c-45df-a140-69ec4d0594fb"
   },
   "outputs": [
    {
     "data": {
      "text/plain": [
       "array([[0.55268127]], dtype=float32)"
      ]
     },
     "execution_count": 28,
     "metadata": {},
     "output_type": "execute_result"
    }
   ],
   "source": [
    "example_batch = normed_train_data[:1]\n",
    "example_result = model.predict(example_batch)\n",
    "example_result"
   ]
  },
  {
   "cell_type": "markdown",
   "metadata": {
    "id": "QlM8KrSOsaYo"
   },
   "source": [
    "Parece estar funcionando, y produce un resultado de la forma y tipo esperados."
   ]
  },
  {
   "cell_type": "markdown",
   "metadata": {
    "id": "0-qWCsh6DlyH"
   },
   "source": [
    "### Entrenar a la modelo\n",
    "\n",
    "Entrene el modelo durante 1000 épocas y registre la precisión de entrenamiento y validación en el objeto `history`."
   ]
  },
  {
   "cell_type": "code",
   "execution_count": null,
   "metadata": {
    "colab": {
     "base_uri": "https://localhost:8080/"
    },
    "id": "sD7qHCmNIOY0",
    "outputId": "df0369ff-4277-421d-8fa9-56bbada1f39f"
   },
   "outputs": [
    {
     "name": "stdout",
     "output_type": "stream",
     "text": [
      "\n",
      "....................................................................................................\n",
      "....................................................................................................\n",
      "....................................................................................................\n",
      "....................................................................................................\n",
      "....................................................................................................\n",
      "....................................................................................................\n",
      "....................................................................................................\n",
      "....................................................................................................\n",
      "....................................................................................................\n",
      "...................................................................................................."
     ]
    }
   ],
   "source": [
    "# Display training progress by printing a single dot for each completed epoch\n",
    "class PrintDot(keras.callbacks.Callback):\n",
    "  def on_epoch_end(self, epoch, logs):\n",
    "    if epoch % 100 == 0: print('')\n",
    "    print('.', end='')\n",
    "\n",
    "EPOCHS = 1000\n",
    "\n",
    "history = model.fit(\n",
    "  normed_train_data, train_labels,\n",
    "  epochs=EPOCHS, validation_split = 0.2, verbose=0,\n",
    "  callbacks=[PrintDot()])"
   ]
  },
  {
   "cell_type": "markdown",
   "metadata": {
    "id": "tQm3pc0FYPQB"
   },
   "source": [
    "Visualice el progreso de entrenamiento del modelo usando las estadísticas almacenadas en el objeto `history`."
   ]
  },
  {
   "cell_type": "code",
   "execution_count": null,
   "metadata": {
    "colab": {
     "base_uri": "https://localhost:8080/",
     "height": 206
    },
    "id": "4Xj91b-dymEy",
    "outputId": "9ca73a4f-c18a-4100-de76-a3ed947a9c8b"
   },
   "outputs": [
    {
     "data": {
      "text/html": [
       "<div>\n",
       "<style scoped>\n",
       "    .dataframe tbody tr th:only-of-type {\n",
       "        vertical-align: middle;\n",
       "    }\n",
       "\n",
       "    .dataframe tbody tr th {\n",
       "        vertical-align: top;\n",
       "    }\n",
       "\n",
       "    .dataframe thead th {\n",
       "        text-align: right;\n",
       "    }\n",
       "</style>\n",
       "<table border=\"1\" class=\"dataframe\">\n",
       "  <thead>\n",
       "    <tr style=\"text-align: right;\">\n",
       "      <th></th>\n",
       "      <th>loss</th>\n",
       "      <th>mae</th>\n",
       "      <th>mse</th>\n",
       "      <th>val_loss</th>\n",
       "      <th>val_mae</th>\n",
       "      <th>val_mse</th>\n",
       "      <th>epoch</th>\n",
       "    </tr>\n",
       "  </thead>\n",
       "  <tbody>\n",
       "    <tr>\n",
       "      <th>995</th>\n",
       "      <td>0.005334</td>\n",
       "      <td>0.044271</td>\n",
       "      <td>0.005334</td>\n",
       "      <td>0.004825</td>\n",
       "      <td>0.047894</td>\n",
       "      <td>0.004825</td>\n",
       "      <td>995</td>\n",
       "    </tr>\n",
       "    <tr>\n",
       "      <th>996</th>\n",
       "      <td>0.005326</td>\n",
       "      <td>0.044242</td>\n",
       "      <td>0.005326</td>\n",
       "      <td>0.004829</td>\n",
       "      <td>0.047846</td>\n",
       "      <td>0.004829</td>\n",
       "      <td>996</td>\n",
       "    </tr>\n",
       "    <tr>\n",
       "      <th>997</th>\n",
       "      <td>0.005329</td>\n",
       "      <td>0.044232</td>\n",
       "      <td>0.005329</td>\n",
       "      <td>0.004829</td>\n",
       "      <td>0.047841</td>\n",
       "      <td>0.004829</td>\n",
       "      <td>997</td>\n",
       "    </tr>\n",
       "    <tr>\n",
       "      <th>998</th>\n",
       "      <td>0.005329</td>\n",
       "      <td>0.044232</td>\n",
       "      <td>0.005329</td>\n",
       "      <td>0.004823</td>\n",
       "      <td>0.047896</td>\n",
       "      <td>0.004823</td>\n",
       "      <td>998</td>\n",
       "    </tr>\n",
       "    <tr>\n",
       "      <th>999</th>\n",
       "      <td>0.005328</td>\n",
       "      <td>0.044242</td>\n",
       "      <td>0.005328</td>\n",
       "      <td>0.004822</td>\n",
       "      <td>0.047890</td>\n",
       "      <td>0.004822</td>\n",
       "      <td>999</td>\n",
       "    </tr>\n",
       "  </tbody>\n",
       "</table>\n",
       "</div>"
      ],
      "text/plain": [
       "         loss       mae       mse  val_loss   val_mae   val_mse  epoch\n",
       "995  0.005334  0.044271  0.005334  0.004825  0.047894  0.004825    995\n",
       "996  0.005326  0.044242  0.005326  0.004829  0.047846  0.004829    996\n",
       "997  0.005329  0.044232  0.005329  0.004829  0.047841  0.004829    997\n",
       "998  0.005329  0.044232  0.005329  0.004823  0.047896  0.004823    998\n",
       "999  0.005328  0.044242  0.005328  0.004822  0.047890  0.004822    999"
      ]
     },
     "execution_count": 30,
     "metadata": {},
     "output_type": "execute_result"
    }
   ],
   "source": [
    "hist = pd.DataFrame(history.history)\n",
    "hist['epoch'] = history.epoch\n",
    "hist.tail()"
   ]
  },
  {
   "cell_type": "code",
   "execution_count": null,
   "metadata": {
    "colab": {
     "base_uri": "https://localhost:8080/",
     "height": 549
    },
    "id": "B6XriGbVPh2t",
    "outputId": "30451e6c-4f17-4cbe-faf4-41a8de394ada"
   },
   "outputs": [
    {
     "data": {
      "image/png": "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",
      "text/plain": [
       "<Figure size 432x288 with 1 Axes>"
      ]
     },
     "metadata": {
      "needs_background": "light"
     },
     "output_type": "display_data"
    },
    {
     "data": {
      "image/png": "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",
      "text/plain": [
       "<Figure size 432x288 with 1 Axes>"
      ]
     },
     "metadata": {
      "needs_background": "light"
     },
     "output_type": "display_data"
    }
   ],
   "source": [
    "def plot_history(history):\n",
    "  hist = pd.DataFrame(history.history)\n",
    "  hist['epoch'] = history.epoch\n",
    "\n",
    "  plt.figure()\n",
    "  plt.xlabel('Epoch')\n",
    "  plt.ylabel('Mean Abs Error [Flujo]')\n",
    "  plt.plot(hist['epoch'], hist['mae'],\n",
    "           label='Train Error')\n",
    "  plt.plot(hist['epoch'], hist['val_mae'],\n",
    "           label = 'Val Error')\n",
    "  plt.ylim([0,0.2])\n",
    "  plt.legend()\n",
    "\n",
    "  plt.figure()\n",
    "  plt.xlabel('Epoch')\n",
    "  plt.ylabel('Mean Square Error [$Flujo^2$]')\n",
    "  plt.plot(hist['epoch'], hist['mse'],\n",
    "           label='Train Error')\n",
    "  plt.plot(hist['epoch'], hist['val_mse'],\n",
    "           label = 'Val Error')\n",
    "  plt.ylim([0,0.2])\n",
    "  plt.legend()\n",
    "  plt.show()\n",
    "\n",
    "\n",
    "plot_history(history)"
   ]
  },
  {
   "cell_type": "markdown",
   "metadata": {
    "id": "AqsuANc11FYv"
   },
   "source": [
    "Este gráfico muestra poca mejora, o incluso degradación en el error de validación después de aproximadamente 100 épocas. Actualicemos la llamada `model.fit` para detener automáticamente el entrenamiento cuando el puntaje de validación no mejore. Utilizaremos una * devolución de llamada de EarlyStopping * que pruebe una condición de entrenamiento para cada época. Si transcurre una cantidad determinada de épocas sin mostrar mejoría, entonces detiene automáticamente el entrenamiento.\n",
    "\n",
    "Puedes obtener más información sobre esta devolución de llamada [Aca](https://www.tensorflow.org/versions/master/api_docs/python/tf/keras/callbacks/EarlyStopping)."
   ]
  },
  {
   "cell_type": "code",
   "execution_count": null,
   "metadata": {
    "colab": {
     "base_uri": "https://localhost:8080/",
     "height": 722
    },
    "id": "fdMZuhUgzMZ4",
    "outputId": "46b0011f-26c4-42d4-f4d5-39d92df2f04a"
   },
   "outputs": [
    {
     "name": "stdout",
     "output_type": "stream",
     "text": [
      "\n",
      "....................................................................................................\n",
      "....................................................................................................\n",
      "....................................................................................................\n",
      "....................................................................................................\n",
      "....................................................................................................\n",
      "....................................................................................................\n",
      "....................................................................................................\n",
      "....................................................................................................\n",
      "..............."
     ]
    },
    {
     "data": {
      "image/png": "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",
      "text/plain": [
       "<Figure size 432x288 with 1 Axes>"
      ]
     },
     "metadata": {
      "needs_background": "light"
     },
     "output_type": "display_data"
    },
    {
     "data": {
      "image/png": "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",
      "text/plain": [
       "<Figure size 432x288 with 1 Axes>"
      ]
     },
     "metadata": {
      "needs_background": "light"
     },
     "output_type": "display_data"
    }
   ],
   "source": [
    "model = build_model()\n",
    "\n",
    "# The patience parameter is the amount of epochs to check for improvement\n",
    "early_stop = keras.callbacks.EarlyStopping(monitor='val_loss', patience=100)\n",
    "\n",
    "history = model.fit(normed_train_data, train_labels, epochs=EPOCHS,\n",
    "                    validation_split = 0.2, verbose=0, callbacks=[early_stop, PrintDot()])\n",
    "\n",
    "plot_history(history)"
   ]
  },
  {
   "cell_type": "markdown",
   "metadata": {
    "id": "3St8-DmrX8P4"
   },
   "source": [
    "El gráfico muestra que en el conjunto de validación, el error promedio generalmente es de alrededor de +/- 2 MPG. ¿Es esto bueno? Le dejaremos esa decisión a usted.\n",
    "\n",
    "Veamos qué tan bien generaliza el modelo al usar el conjunto ** test **, que no usamos al entrenar el modelo. Esto nos dice qué tan bien podemos esperar que el modelo prediga cuándo lo usamos en el mundo real."
   ]
  },
  {
   "cell_type": "code",
   "execution_count": null,
   "metadata": {
    "colab": {
     "base_uri": "https://localhost:8080/"
    },
    "id": "jl_yNr5n1kms",
    "outputId": "c9637de3-bcf0-4557-c6a4-ca1cb9f7ade6"
   },
   "outputs": [
    {
     "name": "stdout",
     "output_type": "stream",
     "text": [
      "6/6 - 0s - loss: 0.0078 - mae: 0.0517 - mse: 0.0078 - 26ms/epoch - 4ms/step\n",
      "Testing set Mean Abs Error:  0.05\n"
     ]
    }
   ],
   "source": [
    "loss, mae, mse = model.evaluate(normed_test_data, test_labels, verbose=2)\n",
    "\n",
    "print(\"Testing set Mean Abs Error: {:5.2f}\".format(mae))"
   ]
  },
  {
   "cell_type": "markdown",
   "metadata": {
    "id": "ft603OzXuEZC"
   },
   "source": [
    "### Haga Predicciones\n",
    "\n",
    "Finalmente, prediga los valores de MPG utilizando datos en el conjunto de pruebas:"
   ]
  },
  {
   "cell_type": "code",
   "execution_count": null,
   "metadata": {
    "colab": {
     "base_uri": "https://localhost:8080/",
     "height": 282
    },
    "id": "Xe7RXH3N3CWU",
    "outputId": "3ff2c89d-26dd-4dca-e615-0e57a5e88ef5"
   },
   "outputs": [
    {
     "data": {
      "image/png": "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",
      "text/plain": [
       "<Figure size 432x288 with 1 Axes>"
      ]
     },
     "metadata": {
      "needs_background": "light"
     },
     "output_type": "display_data"
    }
   ],
   "source": [
    "test_predictions = model.predict(normed_test_data).flatten()\n",
    "\n",
    "plt.scatter(test_labels, test_predictions)\n",
    "plt.xlabel('True Values [flujo]')\n",
    "plt.ylabel('Predictions [flujo]')\n",
    "plt.axis('equal')\n",
    "plt.axis('square')\n",
    "plt.xlim([0,plt.xlim()[1]])\n",
    "plt.ylim([0,plt.ylim()[1]])\n",
    "_ = plt.plot([-100, 100], [-100, 100])\n"
   ]
  },
  {
   "cell_type": "code",
   "execution_count": null,
   "metadata": {
    "colab": {
     "base_uri": "https://localhost:8080/",
     "height": 313
    },
    "id": "5rUcVZ_bzLGJ",
    "outputId": "107a6d39-c9ff-4171-a94c-2c299adbdf5b"
   },
   "outputs": [
    {
     "data": {
      "text/plain": [
       "Text(0, 0.5, 'Number de cantidad de rocio, Datos de Validacion')"
      ]
     },
     "execution_count": 35,
     "metadata": {},
     "output_type": "execute_result"
    },
    {
     "data": {
      "image/png": "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",
      "text/plain": [
       "<Figure size 432x288 with 1 Axes>"
      ]
     },
     "metadata": {
      "needs_background": "light"
     },
     "output_type": "display_data"
    }
   ],
   "source": [
    "plt.plot(range(len(test_labels)),test_labels, color='y', label=\"Val Forecast\")\n",
    "plt.plot(range(len(test_predictions)), test_predictions, color='b', label=\"test_predictions\")\n",
    "plt.legend(loc='best', shadow=True)\n",
    "plt.xlabel('Datos Originales')\n",
    "plt.ylabel('Number de cantidad de rocio, Datos de Validacion')"
   ]
  },
  {
   "cell_type": "code",
   "execution_count": null,
   "metadata": {
    "colab": {
     "base_uri": "https://localhost:8080/"
    },
    "id": "EpsfsH1DywrH",
    "outputId": "3b551186-3127-483a-b0cd-0f479e9ddd8d"
   },
   "outputs": [
    {
     "name": "stderr",
     "output_type": "stream",
     "text": [
      "/usr/local/lib/python3.7/dist-packages/statsmodels/tools/_testing.py:19: FutureWarning: pandas.util.testing is deprecated. Use the functions in the public API at pandas.testing instead.\n",
      "  import pandas.util.testing as tm\n"
     ]
    },
    {
     "name": "stdout",
     "output_type": "stream",
     "text": [
      "                                 OLS Regression Results                                \n",
      "=======================================================================================\n",
      "Dep. Variable:          Flujo (L/día)   R-squared (uncentered):                   0.197\n",
      "Model:                            OLS   Adj. R-squared (uncentered):              0.192\n",
      "Method:                 Least Squares   F-statistic:                              40.91\n",
      "Date:                Tue, 16 Nov 2021   Prob (F-statistic):                    1.54e-09\n",
      "Time:                        03:52:30   Log-Likelihood:                          176.77\n",
      "No. Observations:                 168   AIC:                                     -351.5\n",
      "Df Residuals:                     167   BIC:                                     -348.4\n",
      "Df Model:                           1                                                  \n",
      "Covariance Type:            nonrobust                                                  \n",
      "==============================================================================\n",
      "                 coef    std err          t      P>|t|      [0.025      0.975]\n",
      "------------------------------------------------------------------------------\n",
      "x1             0.6153      0.096      6.396      0.000       0.425       0.805\n",
      "==============================================================================\n",
      "Omnibus:                      155.566   Durbin-Watson:                   1.753\n",
      "Prob(Omnibus):                  0.000   Jarque-Bera (JB):             2380.398\n",
      "Skew:                           3.473   Prob(JB):                         0.00\n",
      "Kurtosis:                      20.083   Cond. No.                         1.00\n",
      "==============================================================================\n",
      "\n",
      "Warnings:\n",
      "[1] Standard Errors assume that the covariance matrix of the errors is correctly specified.\n"
     ]
    }
   ],
   "source": [
    "import statsmodels.api as sm  \n",
    "from sklearn.preprocessing import StandardScaler \n",
    "import pandas as pd                         # Este proporciona una estructura similiar a los data.frame\n",
    "import statsmodels.api as sm                # Este proporciona funciones para la estimación de muchos modelos estadísticos\n",
    "import statsmodels.formula.api as smf       # Permite ajustar modelos estadísticos utilizando fórmulas de estilo R\n",
    "import matplotlib.pyplot as plt   \n",
    "modelo = sm.OLS(endog=test_labels, exog=test_predictions,)\n",
    "history= modelo = modelo.fit()\n",
    "print(modelo.summary())"
   ]
  },
  {
   "cell_type": "markdown",
   "metadata": {
    "id": "19wyogbOSU5t"
   },
   "source": [
    "Parece que nuestro modelo predice razonablemente bien. Echemos un vistazo a la distribución de errores."
   ]
  },
  {
   "cell_type": "code",
   "execution_count": null,
   "metadata": {
    "colab": {
     "base_uri": "https://localhost:8080/",
     "height": 278
    },
    "id": "f-OHX4DiXd8x",
    "outputId": "43a9c27e-36b5-4dfa-d441-c75c72592e81"
   },
   "outputs": [
    {
     "data": {
      "image/png": "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",
      "text/plain": [
       "<Figure size 432x288 with 1 Axes>"
      ]
     },
     "metadata": {
      "needs_background": "light"
     },
     "output_type": "display_data"
    }
   ],
   "source": [
    "error = test_predictions - test_labels\n",
    "plt.hist(error, bins = 25)\n",
    "plt.xlabel(\"Prediction Error [flujo]\")\n",
    "_ = plt.ylabel(\"Count\")"
   ]
  },
  {
   "cell_type": "markdown",
   "metadata": {
    "id": "m0CB5tBjSU5w"
   },
   "source": [
    "No es del todo gaussiano, pero podríamos esperar eso porque el número de muestras es muy pequeño."
   ]
  },
  {
   "cell_type": "markdown",
   "metadata": {
    "id": "vgGQuV-yqYZH"
   },
   "source": [
    "## Conclusion\n",
    "\n",
    "Este cuaderno introdujo algunas técnicas para manejar un problema de regresión.\n",
    "\n",
    "* El error cuadrático medio (MSE) es una función de pérdida común utilizada para problemas de regresión (se utilizan diferentes funciones de pérdida para problemas de clasificación).\n",
    "* Del mismo modo, las métricas de evaluación utilizadas para la regresión difieren de la clasificación. Una métrica de regresión común es el error absoluto medio (MAE).\n",
    "* Cuando las características de datos de entrada numéricos tienen valores con diferentes rangos, cada característica debe escalarse independientemente al mismo rango.\n",
    "* Si no hay muchos datos de entrenamiento, una técnica es preferir una red pequeña con pocas capas ocultas para evitar el sobreajuste.\n",
    "* La detención temprana es una técnica útil para evitar el sobreajuste."
   ]
  },
  {
   "cell_type": "code",
   "execution_count": null,
   "metadata": {
    "id": "edmOtYbn36m4"
   },
   "outputs": [],
   "source": []
  },
  {
   "cell_type": "markdown",
   "metadata": {
    "id": "o4VR7pNz4E11"
   },
   "source": [
    "# Sumatoria en base a la red neuronal."
   ]
  },
  {
   "cell_type": "code",
   "execution_count": null,
   "metadata": {
    "id": "EJUaYOA_36kY"
   },
   "outputs": [],
   "source": [
    "# sumatoria #cargamos librerias\n",
    "import pandas as pd\n",
    "import numpy as np\n",
    "#graficas\n",
    "import matplotlib.pylab as plt\n",
    "%matplotlib inline\n",
    "plt.rcParams['figure.figsize'] = (16,9)\n",
    "plt.style.use('fast')\n",
    "#ver redes neuronales\n",
    "from keras.models import Sequential\n",
    "from keras.layers import Dense,Activation,Flatten\n",
    "#sklear para ver modelos machine learning\n",
    "from sklearn.preprocessing import MinMaxScaler\n",
    "%matplotlib inline\n",
    "\n",
    "import matplotlib.pyplot as plt\n",
    "# plt.xkcd()\n",
    "# plt.style.use('ggplot')\n",
    "%matplotlib inline\n",
    "\n",
    "import matplotlib as mpl\n",
    "mpl.rcParams['figure.figsize'] = (20, 8)"
   ]
  },
  {
   "cell_type": "code",
   "execution_count": null,
   "metadata": {
    "colab": {
     "base_uri": "https://localhost:8080/"
    },
    "id": "eOcy8iem36pd",
    "outputId": "47b55007-94c5-48b0-962e-5171e493c7c5"
   },
   "outputs": [
    {
     "data": {
      "text/plain": [
       "0      0.000\n",
       "2      0.525\n",
       "3      0.238\n",
       "5      0.000\n",
       "13     0.000\n",
       "       ...  \n",
       "489    0.000\n",
       "492    0.000\n",
       "496    0.102\n",
       "498    0.086\n",
       "499    0.000\n",
       "Name: Flujo (L/día), Length: 168, dtype: float64"
      ]
     },
     "execution_count": 39,
     "metadata": {},
     "output_type": "execute_result"
    }
   ],
   "source": [
    "#\n",
    "import numpy as np\n",
    "test_labels = np.squeeze(test_labels)\n",
    "serie = pd.Series(test_labels)\n",
    "#serie = pd.Series(results11)\n",
    " \n",
    "serie"
   ]
  },
  {
   "cell_type": "code",
   "execution_count": null,
   "metadata": {
    "colab": {
     "base_uri": "https://localhost:8080/",
     "height": 32
    },
    "id": "hr846UyD36rs",
    "outputId": "6ea6d57d-94ac-4165-827f-41dc37b37f0e"
   },
   "outputs": [
    {
     "data": {
      "text/html": [
       "<div>\n",
       "<style scoped>\n",
       "    .dataframe tbody tr th:only-of-type {\n",
       "        vertical-align: middle;\n",
       "    }\n",
       "\n",
       "    .dataframe tbody tr th {\n",
       "        vertical-align: top;\n",
       "    }\n",
       "\n",
       "    .dataframe thead th {\n",
       "        text-align: right;\n",
       "    }\n",
       "</style>\n",
       "<table border=\"1\" class=\"dataframe\">\n",
       "  <thead>\n",
       "    <tr style=\"text-align: right;\">\n",
       "      <th></th>\n",
       "    </tr>\n",
       "  </thead>\n",
       "  <tbody>\n",
       "  </tbody>\n",
       "</table>\n",
       "</div>"
      ],
      "text/plain": [
       "Empty DataFrame\n",
       "Columns: []\n",
       "Index: []"
      ]
     },
     "execution_count": 40,
     "metadata": {},
     "output_type": "execute_result"
    }
   ],
   "source": [
    "import pandas as pd\n",
    "df2 = pd.DataFrame()\n",
    "df2"
   ]
  },
  {
   "cell_type": "code",
   "execution_count": null,
   "metadata": {
    "colab": {
     "base_uri": "https://localhost:8080/"
    },
    "id": "y-BzEuMP36ul",
    "outputId": "c6d5abd8-3488-4f27-f981-f0f50f547b45"
   },
   "outputs": [
    {
     "name": "stdout",
     "output_type": "stream",
     "text": [
      "     serie\n",
      "0    0.000\n",
      "2    0.525\n",
      "3    0.238\n",
      "5    0.000\n",
      "13   0.000\n",
      "..     ...\n",
      "489  0.000\n",
      "492  0.000\n",
      "496  0.102\n",
      "498  0.086\n",
      "499  0.000\n",
      "\n",
      "[168 rows x 1 columns]\n"
     ]
    }
   ],
   "source": [
    "df2['serie']= serie\n",
    "print(df2)\n"
   ]
  },
  {
   "cell_type": "code",
   "execution_count": null,
   "metadata": {
    "colab": {
     "base_uri": "https://localhost:8080/",
     "height": 424
    },
    "id": "fXfYeW1b36xE",
    "outputId": "26a5aef7-dd15-4c66-af48-d685f2c3c271"
   },
   "outputs": [
    {
     "data": {
      "text/html": [
       "<div>\n",
       "<style scoped>\n",
       "    .dataframe tbody tr th:only-of-type {\n",
       "        vertical-align: middle;\n",
       "    }\n",
       "\n",
       "    .dataframe tbody tr th {\n",
       "        vertical-align: top;\n",
       "    }\n",
       "\n",
       "    .dataframe thead th {\n",
       "        text-align: right;\n",
       "    }\n",
       "</style>\n",
       "<table border=\"1\" class=\"dataframe\">\n",
       "  <thead>\n",
       "    <tr style=\"text-align: right;\">\n",
       "      <th></th>\n",
       "      <th>serie</th>\n",
       "      <th>result</th>\n",
       "      <th>resultsum</th>\n",
       "    </tr>\n",
       "  </thead>\n",
       "  <tbody>\n",
       "    <tr>\n",
       "      <th>0</th>\n",
       "      <td>0.000</td>\n",
       "      <td>0.068359</td>\n",
       "      <td>0.068359</td>\n",
       "    </tr>\n",
       "    <tr>\n",
       "      <th>2</th>\n",
       "      <td>0.525</td>\n",
       "      <td>0.091305</td>\n",
       "      <td>0.091305</td>\n",
       "    </tr>\n",
       "    <tr>\n",
       "      <th>3</th>\n",
       "      <td>0.238</td>\n",
       "      <td>0.104388</td>\n",
       "      <td>0.104388</td>\n",
       "    </tr>\n",
       "    <tr>\n",
       "      <th>5</th>\n",
       "      <td>0.000</td>\n",
       "      <td>0.050368</td>\n",
       "      <td>0.050368</td>\n",
       "    </tr>\n",
       "    <tr>\n",
       "      <th>13</th>\n",
       "      <td>0.000</td>\n",
       "      <td>0.017294</td>\n",
       "      <td>0.017294</td>\n",
       "    </tr>\n",
       "    <tr>\n",
       "      <th>...</th>\n",
       "      <td>...</td>\n",
       "      <td>...</td>\n",
       "      <td>...</td>\n",
       "    </tr>\n",
       "    <tr>\n",
       "      <th>489</th>\n",
       "      <td>0.000</td>\n",
       "      <td>0.015578</td>\n",
       "      <td>0.015578</td>\n",
       "    </tr>\n",
       "    <tr>\n",
       "      <th>492</th>\n",
       "      <td>0.000</td>\n",
       "      <td>0.022472</td>\n",
       "      <td>0.022472</td>\n",
       "    </tr>\n",
       "    <tr>\n",
       "      <th>496</th>\n",
       "      <td>0.102</td>\n",
       "      <td>0.033339</td>\n",
       "      <td>0.033339</td>\n",
       "    </tr>\n",
       "    <tr>\n",
       "      <th>498</th>\n",
       "      <td>0.086</td>\n",
       "      <td>0.034618</td>\n",
       "      <td>0.034618</td>\n",
       "    </tr>\n",
       "    <tr>\n",
       "      <th>499</th>\n",
       "      <td>0.000</td>\n",
       "      <td>0.033641</td>\n",
       "      <td>0.033641</td>\n",
       "    </tr>\n",
       "  </tbody>\n",
       "</table>\n",
       "<p>168 rows × 3 columns</p>\n",
       "</div>"
      ],
      "text/plain": [
       "     serie    result  resultsum\n",
       "0    0.000  0.068359   0.068359\n",
       "2    0.525  0.091305   0.091305\n",
       "3    0.238  0.104388   0.104388\n",
       "5    0.000  0.050368   0.050368\n",
       "13   0.000  0.017294   0.017294\n",
       "..     ...       ...        ...\n",
       "489  0.000  0.015578   0.015578\n",
       "492  0.000  0.022472   0.022472\n",
       "496  0.102  0.033339   0.033339\n",
       "498  0.086  0.034618   0.034618\n",
       "499  0.000  0.033641   0.033641\n",
       "\n",
       "[168 rows x 3 columns]"
      ]
     },
     "execution_count": 42,
     "metadata": {},
     "output_type": "execute_result"
    }
   ],
   "source": [
    "df2['result']= test_predictions\n",
    "df2['resultsum']= test_predictions\n",
    "df2"
   ]
  },
  {
   "cell_type": "code",
   "execution_count": null,
   "metadata": {
    "colab": {
     "base_uri": "https://localhost:8080/",
     "height": 424
    },
    "id": "ZKg-b7M1360N",
    "outputId": "69c18d7c-bf54-4787-a822-15c55db2a869"
   },
   "outputs": [
    {
     "data": {
      "text/html": [
       "<div>\n",
       "<style scoped>\n",
       "    .dataframe tbody tr th:only-of-type {\n",
       "        vertical-align: middle;\n",
       "    }\n",
       "\n",
       "    .dataframe tbody tr th {\n",
       "        vertical-align: top;\n",
       "    }\n",
       "\n",
       "    .dataframe thead th {\n",
       "        text-align: right;\n",
       "    }\n",
       "</style>\n",
       "<table border=\"1\" class=\"dataframe\">\n",
       "  <thead>\n",
       "    <tr style=\"text-align: right;\">\n",
       "      <th></th>\n",
       "      <th>serie</th>\n",
       "      <th>result</th>\n",
       "      <th>resultsum</th>\n",
       "      <th>seriePsum</th>\n",
       "    </tr>\n",
       "  </thead>\n",
       "  <tbody>\n",
       "    <tr>\n",
       "      <th>0</th>\n",
       "      <td>0.000</td>\n",
       "      <td>0.068359</td>\n",
       "      <td>0.068359</td>\n",
       "      <td>0.000</td>\n",
       "    </tr>\n",
       "    <tr>\n",
       "      <th>2</th>\n",
       "      <td>0.525</td>\n",
       "      <td>0.091305</td>\n",
       "      <td>0.091305</td>\n",
       "      <td>0.525</td>\n",
       "    </tr>\n",
       "    <tr>\n",
       "      <th>3</th>\n",
       "      <td>0.238</td>\n",
       "      <td>0.104388</td>\n",
       "      <td>0.104388</td>\n",
       "      <td>0.238</td>\n",
       "    </tr>\n",
       "    <tr>\n",
       "      <th>5</th>\n",
       "      <td>0.000</td>\n",
       "      <td>0.050368</td>\n",
       "      <td>0.050368</td>\n",
       "      <td>0.000</td>\n",
       "    </tr>\n",
       "    <tr>\n",
       "      <th>13</th>\n",
       "      <td>0.000</td>\n",
       "      <td>0.017294</td>\n",
       "      <td>0.017294</td>\n",
       "      <td>0.000</td>\n",
       "    </tr>\n",
       "    <tr>\n",
       "      <th>...</th>\n",
       "      <td>...</td>\n",
       "      <td>...</td>\n",
       "      <td>...</td>\n",
       "      <td>...</td>\n",
       "    </tr>\n",
       "    <tr>\n",
       "      <th>489</th>\n",
       "      <td>0.000</td>\n",
       "      <td>0.015578</td>\n",
       "      <td>0.015578</td>\n",
       "      <td>0.000</td>\n",
       "    </tr>\n",
       "    <tr>\n",
       "      <th>492</th>\n",
       "      <td>0.000</td>\n",
       "      <td>0.022472</td>\n",
       "      <td>0.022472</td>\n",
       "      <td>0.000</td>\n",
       "    </tr>\n",
       "    <tr>\n",
       "      <th>496</th>\n",
       "      <td>0.102</td>\n",
       "      <td>0.033339</td>\n",
       "      <td>0.033339</td>\n",
       "      <td>0.102</td>\n",
       "    </tr>\n",
       "    <tr>\n",
       "      <th>498</th>\n",
       "      <td>0.086</td>\n",
       "      <td>0.034618</td>\n",
       "      <td>0.034618</td>\n",
       "      <td>0.086</td>\n",
       "    </tr>\n",
       "    <tr>\n",
       "      <th>499</th>\n",
       "      <td>0.000</td>\n",
       "      <td>0.033641</td>\n",
       "      <td>0.033641</td>\n",
       "      <td>0.000</td>\n",
       "    </tr>\n",
       "  </tbody>\n",
       "</table>\n",
       "<p>168 rows × 4 columns</p>\n",
       "</div>"
      ],
      "text/plain": [
       "     serie    result  resultsum  seriePsum\n",
       "0    0.000  0.068359   0.068359      0.000\n",
       "2    0.525  0.091305   0.091305      0.525\n",
       "3    0.238  0.104388   0.104388      0.238\n",
       "5    0.000  0.050368   0.050368      0.000\n",
       "13   0.000  0.017294   0.017294      0.000\n",
       "..     ...       ...        ...        ...\n",
       "489  0.000  0.015578   0.015578      0.000\n",
       "492  0.000  0.022472   0.022472      0.000\n",
       "496  0.102  0.033339   0.033339      0.102\n",
       "498  0.086  0.034618   0.034618      0.086\n",
       "499  0.000  0.033641   0.033641      0.000\n",
       "\n",
       "[168 rows x 4 columns]"
      ]
     },
     "execution_count": 43,
     "metadata": {},
     "output_type": "execute_result"
    }
   ],
   "source": [
    "df2['seriePsum']= serie\n",
    "df2"
   ]
  },
  {
   "cell_type": "code",
   "execution_count": null,
   "metadata": {
    "colab": {
     "base_uri": "https://localhost:8080/",
     "height": 424
    },
    "id": "8LNe5p5U4Dw3",
    "outputId": "9c9478b0-4540-456e-f07d-4ac17ec1aaf0"
   },
   "outputs": [
    {
     "data": {
      "text/html": [
       "<div>\n",
       "<style scoped>\n",
       "    .dataframe tbody tr th:only-of-type {\n",
       "        vertical-align: middle;\n",
       "    }\n",
       "\n",
       "    .dataframe tbody tr th {\n",
       "        vertical-align: top;\n",
       "    }\n",
       "\n",
       "    .dataframe thead th {\n",
       "        text-align: right;\n",
       "    }\n",
       "</style>\n",
       "<table border=\"1\" class=\"dataframe\">\n",
       "  <thead>\n",
       "    <tr style=\"text-align: right;\">\n",
       "      <th></th>\n",
       "      <th>serie</th>\n",
       "      <th>result</th>\n",
       "      <th>resultsum</th>\n",
       "      <th>seriePsum</th>\n",
       "    </tr>\n",
       "  </thead>\n",
       "  <tbody>\n",
       "    <tr>\n",
       "      <th>0</th>\n",
       "      <td>0.000</td>\n",
       "      <td>0.068359</td>\n",
       "      <td>0.068359</td>\n",
       "      <td>0.000</td>\n",
       "    </tr>\n",
       "    <tr>\n",
       "      <th>2</th>\n",
       "      <td>0.525</td>\n",
       "      <td>0.091305</td>\n",
       "      <td>0.091305</td>\n",
       "      <td>0.525</td>\n",
       "    </tr>\n",
       "    <tr>\n",
       "      <th>3</th>\n",
       "      <td>0.238</td>\n",
       "      <td>0.104388</td>\n",
       "      <td>0.104388</td>\n",
       "      <td>0.238</td>\n",
       "    </tr>\n",
       "    <tr>\n",
       "      <th>5</th>\n",
       "      <td>0.000</td>\n",
       "      <td>0.050368</td>\n",
       "      <td>0.050368</td>\n",
       "      <td>0.000</td>\n",
       "    </tr>\n",
       "    <tr>\n",
       "      <th>13</th>\n",
       "      <td>0.000</td>\n",
       "      <td>0.017294</td>\n",
       "      <td>0.017294</td>\n",
       "      <td>0.000</td>\n",
       "    </tr>\n",
       "    <tr>\n",
       "      <th>...</th>\n",
       "      <td>...</td>\n",
       "      <td>...</td>\n",
       "      <td>...</td>\n",
       "      <td>...</td>\n",
       "    </tr>\n",
       "    <tr>\n",
       "      <th>489</th>\n",
       "      <td>0.000</td>\n",
       "      <td>0.015578</td>\n",
       "      <td>0.015578</td>\n",
       "      <td>0.000</td>\n",
       "    </tr>\n",
       "    <tr>\n",
       "      <th>492</th>\n",
       "      <td>0.000</td>\n",
       "      <td>0.022472</td>\n",
       "      <td>0.022472</td>\n",
       "      <td>0.000</td>\n",
       "    </tr>\n",
       "    <tr>\n",
       "      <th>496</th>\n",
       "      <td>0.102</td>\n",
       "      <td>0.033339</td>\n",
       "      <td>0.033339</td>\n",
       "      <td>0.102</td>\n",
       "    </tr>\n",
       "    <tr>\n",
       "      <th>498</th>\n",
       "      <td>0.086</td>\n",
       "      <td>0.034618</td>\n",
       "      <td>0.034618</td>\n",
       "      <td>0.086</td>\n",
       "    </tr>\n",
       "    <tr>\n",
       "      <th>499</th>\n",
       "      <td>0.000</td>\n",
       "      <td>0.033641</td>\n",
       "      <td>0.033641</td>\n",
       "      <td>0.000</td>\n",
       "    </tr>\n",
       "  </tbody>\n",
       "</table>\n",
       "<p>168 rows × 4 columns</p>\n",
       "</div>"
      ],
      "text/plain": [
       "     serie    result  resultsum  seriePsum\n",
       "0    0.000  0.068359   0.068359      0.000\n",
       "2    0.525  0.091305   0.091305      0.525\n",
       "3    0.238  0.104388   0.104388      0.238\n",
       "5    0.000  0.050368   0.050368      0.000\n",
       "13   0.000  0.017294   0.017294      0.000\n",
       "..     ...       ...        ...        ...\n",
       "489  0.000  0.015578   0.015578      0.000\n",
       "492  0.000  0.022472   0.022472      0.000\n",
       "496  0.102  0.033339   0.033339      0.102\n",
       "498  0.086  0.034618   0.034618      0.086\n",
       "499  0.000  0.033641   0.033641      0.000\n",
       "\n",
       "[168 rows x 4 columns]"
      ]
     },
     "execution_count": 44,
     "metadata": {},
     "output_type": "execute_result"
    }
   ],
   "source": [
    "##\n",
    "#eliminar si son menores de 0\n",
    "df2['serie']=df2['serie'].where(df2['serie'] >= 0, 0)\n",
    "df2['seriePsum']=df2['seriePsum'].where(df2['seriePsum'] >= 0, 0)\n",
    "#df=df[df['calculo']>=0]\n",
    "df2\n",
    "#"
   ]
  },
  {
   "cell_type": "code",
   "execution_count": null,
   "metadata": {
    "id": "7aXhvyzQ4iJw"
   },
   "outputs": [],
   "source": [
    "df2 = df2.dropna(how='all')\n"
   ]
  },
  {
   "cell_type": "code",
   "execution_count": null,
   "metadata": {
    "id": "GKQHo9fT4iMU"
   },
   "outputs": [],
   "source": [
    "df2['seriePsum'] = df2['seriePsum'].cumsum()\n",
    "df2['resultsum'] = df2['resultsum'].cumsum()"
   ]
  },
  {
   "cell_type": "code",
   "execution_count": null,
   "metadata": {
    "colab": {
     "base_uri": "https://localhost:8080/"
    },
    "id": "5FQh-0an4iO4",
    "outputId": "336dd379-d0bf-499e-9645-c19b83f6bb25"
   },
   "outputs": [
    {
     "name": "stdout",
     "output_type": "stream",
     "text": [
      "                                 OLS Regression Results                                \n",
      "=======================================================================================\n",
      "Dep. Variable:              resultsum   R-squared (uncentered):                   0.940\n",
      "Model:                            OLS   Adj. R-squared (uncentered):              0.940\n",
      "Method:                 Least Squares   F-statistic:                              2629.\n",
      "Date:                Tue, 16 Nov 2021   Prob (F-statistic):                   4.13e-104\n",
      "Time:                        03:55:20   Log-Likelihood:                         -240.75\n",
      "No. Observations:                 168   AIC:                                      483.5\n",
      "Df Residuals:                     167   BIC:                                      486.6\n",
      "Df Model:                           1                                                  \n",
      "Covariance Type:            nonrobust                                                  \n",
      "==============================================================================\n",
      "                 coef    std err          t      P>|t|      [0.025      0.975]\n",
      "------------------------------------------------------------------------------\n",
      "seriePsum      1.2651      0.025     51.272      0.000       1.216       1.314\n",
      "==============================================================================\n",
      "Omnibus:                       47.286   Durbin-Watson:                   0.011\n",
      "Prob(Omnibus):                  0.000   Jarque-Bera (JB):               16.719\n",
      "Skew:                           0.554   Prob(JB):                     0.000234\n",
      "Kurtosis:                       1.923   Cond. No.                         1.00\n",
      "==============================================================================\n",
      "\n",
      "Warnings:\n",
      "[1] Standard Errors assume that the covariance matrix of the errors is correctly specified.\n"
     ]
    }
   ],
   "source": [
    "import statsmodels.api as sm  \n",
    "from sklearn.preprocessing import StandardScaler \n",
    "import pandas as pd                         # Este proporciona una estructura similiar a los data.frame\n",
    "import statsmodels.api as sm                # Este proporciona funciones para la estimación de muchos modelos estadísticos\n",
    "import statsmodels.formula.api as smf       # Permite ajustar modelos estadísticos utilizando fórmulas de estilo R\n",
    "import matplotlib.pyplot as plt   \n",
    "modelo = sm.OLS(endog=df2['resultsum'], exog=df2['seriePsum'],)\n",
    "modelo = modelo.fit()\n",
    "print(modelo.summary())"
   ]
  },
  {
   "cell_type": "code",
   "execution_count": null,
   "metadata": {
    "colab": {
     "base_uri": "https://localhost:8080/",
     "height": 514
    },
    "id": "3IgxdFIp4pE9",
    "outputId": "2893bb79-486f-44fc-dc6e-4f0acca9ce1b"
   },
   "outputs": [
    {
     "data": {
      "text/plain": [
       "[<matplotlib.lines.Line2D at 0x7f5f80c59ad0>]"
      ]
     },
     "execution_count": 48,
     "metadata": {},
     "output_type": "execute_result"
    },
    {
     "data": {
      "image/png": "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",
      "text/plain": [
       "<Figure size 1440x576 with 1 Axes>"
      ]
     },
     "metadata": {
      "needs_background": "light"
     },
     "output_type": "display_data"
    }
   ],
   "source": [
    "\n",
    "y = df2['resultsum']\n",
    "\n",
    "x = df2['seriePsum']\n",
    "\n",
    "#Calculando los coeficientes del ajuste de regresión:\n",
    "a, b = np.polyfit(x, y, 1) # 1 es el grado del polinomio\n",
    "r = np.corrcoef(x, y) # r = coeficiente de correlación\n",
    "\n",
    "plt.subplot(111)\n",
    "plt.scatter(x,y, color=\"r\", s=20)\n",
    "plt.xlabel(\"result\")\n",
    "plt.ylabel(\"serie\")\n",
    "plt.plot(x, a * x + b, color=\"skyblue\")\n",
    "#plt.text(10,55, 'r = {0:1.2f}'.format(r[0,1]))\n",
    "#plt.text(10,55, 'NO$_x$ = {0:2.2f} NO$_x$ Predict + {1:2.3f}'.format(a,b))"
   ]
  },
  {
   "cell_type": "code",
   "execution_count": null,
   "metadata": {
    "id": "N_42vwEB4iRX"
   },
   "outputs": [],
   "source": []
  }
 ],
 "metadata": {
  "colab": {
   "collapsed_sections": [],
   "name": "NuevoMLP-regression.ipynb",
   "provenance": []
  },
  "kernelspec": {
   "display_name": "Python 3 (ipykernel)",
   "language": "python",
   "name": "python3"
  },
  "language_info": {
   "codemirror_mode": {
    "name": "ipython",
    "version": 3
   },
   "file_extension": ".py",
   "mimetype": "text/x-python",
   "name": "python",
   "nbconvert_exporter": "python",
   "pygments_lexer": "ipython3",
   "version": "3.9.5"
  }
 },
 "nbformat": 4,
 "nbformat_minor": 1
}
